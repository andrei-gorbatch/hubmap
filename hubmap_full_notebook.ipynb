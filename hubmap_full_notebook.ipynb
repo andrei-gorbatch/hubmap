{
 "cells": [
  {
   "cell_type": "markdown",
   "id": "267d9045",
   "metadata": {
    "_cell_guid": "b1076dfc-b9ad-4769-8c92-a6c4dae69d19",
    "_uuid": "8f2839f25d086af736a60e9eeb907d3b93b6e0e5",
    "papermill": {
     "duration": 0.028768,
     "end_time": "2023-08-02T15:29:35.709981",
     "exception": false,
     "start_time": "2023-08-02T15:29:35.681213",
     "status": "completed"
    },
    "tags": []
   },
   "source": [
    "HuBMAP - Hacking the Human Vasculature"
   ]
  },
  {
   "cell_type": "markdown",
   "id": "34e3535d",
   "metadata": {
    "papermill": {
     "duration": 0.027249,
     "end_time": "2023-08-02T15:29:35.765958",
     "exception": false,
     "start_time": "2023-08-02T15:29:35.738709",
     "status": "completed"
    },
    "tags": []
   },
   "source": [
    "# <center style=\"font-family: consolas; font-size: 32px; font-weight: bold;\"> Overview</center>\n",
    "\n",
    "<p style=\"font-family: consolas; font-size: 16px;\">⚪ <code>Goal</code>: The goal of the competition is to develop a model that can segment instances of microvascular structures, such as capillaries, arterioles, and venules, in 2D PAS-stained histology images from healthy human kidney tissue slides.</p>\n"
   ]
  },
  {
   "cell_type": "code",
   "execution_count": 1,
   "id": "c0100e67",
   "metadata": {
    "_kg_hide-input": true,
    "execution": {
     "iopub.execute_input": "2023-08-02T15:29:35.824036Z",
     "iopub.status.busy": "2023-08-02T15:29:35.823321Z",
     "iopub.status.idle": "2023-08-02T15:29:36.969245Z",
     "shell.execute_reply": "2023-08-02T15:29:36.968315Z"
    },
    "papermill": {
     "duration": 1.177422,
     "end_time": "2023-08-02T15:29:36.971669",
     "exception": false,
     "start_time": "2023-08-02T15:29:35.794247",
     "status": "completed"
    },
    "tags": []
   },
   "outputs": [],
   "source": [
    "import os\n",
    "import json\n",
    "import shutil\n",
    "from PIL import Image\n",
    "from IPython.display import Image as display_image\n",
    "from collections import Counter\n",
    "\n",
    "import numpy as np\n",
    "import pandas as pd\n",
    "import random\n",
    "import cv2\n",
    "import plotly.express as px\n",
    "import plotly.graph_objects as go\n",
    "import tifffile as tiff\n",
    "import matplotlib.pyplot as plt\n",
    "import glob\n",
    "\n",
    "%matplotlib inline\n",
    "import matplotlib.pyplot as plt\n",
    "import matplotlib.image as mpimg\n",
    "\n",
    "import zipfile\n",
    "import os\n",
    "from IPython.display import FileLink"
   ]
  },
  {
   "cell_type": "code",
   "execution_count": 2,
   "id": "51612465",
   "metadata": {
    "execution": {
     "iopub.execute_input": "2023-08-02T15:29:37.029738Z",
     "iopub.status.busy": "2023-08-02T15:29:37.028644Z",
     "iopub.status.idle": "2023-08-02T15:29:37.035437Z",
     "shell.execute_reply": "2023-08-02T15:29:37.034439Z"
    },
    "papermill": {
     "duration": 0.03757,
     "end_time": "2023-08-02T15:29:37.037509",
     "exception": false,
     "start_time": "2023-08-02T15:29:36.999939",
     "status": "completed"
    },
    "tags": []
   },
   "outputs": [],
   "source": [
    "def zip_dir(directory = os.curdir, file_name = 'directory.zip'):\n",
    "    \"\"\"\n",
    "    zip all the files in a directory\n",
    "    \n",
    "    Parameters\n",
    "    _____\n",
    "    directory: str\n",
    "        directory needs to be zipped, defualt is current working directory\n",
    "        \n",
    "    file_name: str\n",
    "        the name of the zipped file (including .zip), default is 'directory.zip'\n",
    "        \n",
    "    Returns\n",
    "    _____\n",
    "    Creates a hyperlink, which can be used to download the zip file)\n",
    "    \"\"\"\n",
    "    os.chdir(directory)\n",
    "    zip_ref = zipfile.ZipFile(file_name, mode='w')\n",
    "    for folder, _, files in os.walk(directory):\n",
    "        for file in files:\n",
    "            if file_name in file:\n",
    "                pass\n",
    "            else:\n",
    "                zip_ref.write(os.path.join(folder, file))\n",
    "\n",
    "    return FileLink(file_name)"
   ]
  },
  {
   "cell_type": "code",
   "execution_count": 3,
   "id": "2cc13243",
   "metadata": {
    "execution": {
     "iopub.execute_input": "2023-08-02T15:29:37.094614Z",
     "iopub.status.busy": "2023-08-02T15:29:37.093928Z",
     "iopub.status.idle": "2023-08-02T15:29:51.033725Z",
     "shell.execute_reply": "2023-08-02T15:29:51.032537Z"
    },
    "papermill": {
     "duration": 13.970987,
     "end_time": "2023-08-02T15:29:51.036005",
     "exception": false,
     "start_time": "2023-08-02T15:29:37.065018",
     "status": "completed"
    },
    "tags": []
   },
   "outputs": [
    {
     "name": "stdout",
     "output_type": "stream",
     "text": [
      "Looking in links: file:///kaggle/input/libraries2/libraries/kaleido\n",
      "Processing /kaggle/input/libraries2/libraries/kaleido/kaleido-0.2.1-py2.py3-none-manylinux1_x86_64.whl\n",
      "Installing collected packages: kaleido\n",
      "Successfully installed kaleido-0.2.1\n"
     ]
    },
    {
     "name": "stderr",
     "output_type": "stream",
     "text": [
      "\u001b[33mWARNING: Running pip as the 'root' user can result in broken permissions and conflicting behaviour with the system package manager. It is recommended to use a virtual environment instead: https://pip.pypa.io/warnings/venv\u001b[0m\u001b[33m\n",
      "\u001b[0m"
     ]
    },
    {
     "data": {
      "text/plain": [
       "0"
      ]
     },
     "execution_count": 3,
     "metadata": {},
     "output_type": "execute_result"
    }
   ],
   "source": [
    "# !pip install -U kaleido\n",
    "# !pip install kaleido --no-index --find-links=file:///kaggle/input/libraries2/libraries/kaleido \n",
    "os.system(\"pip install kaleido --no-index --find-links=file:///kaggle/input/libraries2/libraries/kaleido \")\n"
   ]
  },
  {
   "cell_type": "code",
   "execution_count": 4,
   "id": "7a59475d",
   "metadata": {
    "_kg_hide-input": true,
    "execution": {
     "iopub.execute_input": "2023-08-02T15:29:51.094253Z",
     "iopub.status.busy": "2023-08-02T15:29:51.093859Z",
     "iopub.status.idle": "2023-08-02T15:29:51.098461Z",
     "shell.execute_reply": "2023-08-02T15:29:51.097530Z"
    },
    "papermill": {
     "duration": 0.035889,
     "end_time": "2023-08-02T15:29:51.100301",
     "exception": false,
     "start_time": "2023-08-02T15:29:51.064412",
     "status": "completed"
    },
    "tags": []
   },
   "outputs": [],
   "source": [
    "class CFG:\n",
    "    img_path_template: str = \"/kaggle/input/hubmap-hacking-the-human-vasculature/train/{}.tif\""
   ]
  },
  {
   "cell_type": "code",
   "execution_count": 5,
   "id": "69cbb2df",
   "metadata": {
    "_kg_hide-input": true,
    "execution": {
     "iopub.execute_input": "2023-08-02T15:29:51.159196Z",
     "iopub.status.busy": "2023-08-02T15:29:51.157957Z",
     "iopub.status.idle": "2023-08-02T15:29:51.163373Z",
     "shell.execute_reply": "2023-08-02T15:29:51.162640Z"
    },
    "papermill": {
     "duration": 0.036601,
     "end_time": "2023-08-02T15:29:51.165258",
     "exception": false,
     "start_time": "2023-08-02T15:29:51.128657",
     "status": "completed"
    },
    "tags": []
   },
   "outputs": [],
   "source": [
    "def get_cartesian_coords(coords, img_height):\n",
    "    coords_array = np.array(coords).squeeze()\n",
    "    xs = coords_array[:, 0]\n",
    "    ys = -coords_array[:, 1] + img_height\n",
    "    \n",
    "    return xs, ys"
   ]
  },
  {
   "cell_type": "code",
   "execution_count": 6,
   "id": "172794e8",
   "metadata": {
    "_kg_hide-input": true,
    "execution": {
     "iopub.execute_input": "2023-08-02T15:29:51.223649Z",
     "iopub.status.busy": "2023-08-02T15:29:51.223257Z",
     "iopub.status.idle": "2023-08-02T15:29:51.233017Z",
     "shell.execute_reply": "2023-08-02T15:29:51.232175Z"
    },
    "papermill": {
     "duration": 0.04179,
     "end_time": "2023-08-02T15:29:51.235123",
     "exception": false,
     "start_time": "2023-08-02T15:29:51.193333",
     "status": "completed"
    },
    "tags": []
   },
   "outputs": [],
   "source": [
    "def plot_annotated_image(image_dict, scale_factor: int = 1.0) -> None:\n",
    "    array = tiff.imread(CFG.img_path_template.format(image_dict[\"id\"]))\n",
    "    img_example = Image.fromarray(array)\n",
    "    annotations = image_dict[\"annotations\"]\n",
    "    \n",
    "    # create figure\n",
    "    fig = go.Figure()\n",
    "\n",
    "    # constants\n",
    "    img_width = img_example.size[0]\n",
    "    img_height = img_example.size[1]\n",
    "    \n",
    "\n",
    "    # add invisible scatter trace\n",
    "    fig.add_trace(\n",
    "        go.Scatter(\n",
    "            x=[0, img_width],\n",
    "            y=[0, img_height],\n",
    "            mode=\"markers\",\n",
    "            marker_opacity=0\n",
    "        )\n",
    "    )\n",
    "\n",
    "    # configure axes\n",
    "    fig.update_xaxes(\n",
    "        visible=False,\n",
    "        range=[0, img_width]\n",
    "    )\n",
    "\n",
    "    fig.update_yaxes(\n",
    "        visible=False,\n",
    "        range=[0, img_height],\n",
    "        # the scaleanchor attribute ensures that the aspect ratio stays constant\n",
    "        scaleanchor=\"x\"\n",
    "    )\n",
    "\n",
    "    # add image\n",
    "    fig.add_layout_image(dict(\n",
    "        x=0,\n",
    "        sizex=img_width,\n",
    "        y=img_height,\n",
    "        sizey=img_height,\n",
    "        xref=\"x\", yref=\"y\",\n",
    "        opacity=1.0,\n",
    "        layer=\"below\",\n",
    "        sizing=\"stretch\",\n",
    "        source=img_example\n",
    "    ))\n",
    "    \n",
    "    # add polygons\n",
    "    for annotation in annotations:\n",
    "        name = annotation[\"type\"]\n",
    "        xs, ys = get_cartesian_coords(annotation[\"coordinates\"], img_height)\n",
    "        fig.add_trace(go.Scatter(\n",
    "            x=xs, y=ys, fill=\"toself\",\n",
    "            name=name,\n",
    "            hovertemplate=\"%{name}\",\n",
    "            mode='lines'\n",
    "        ))\n",
    "\n",
    "    # configure other layout\n",
    "    fig.update_layout(\n",
    "        width=img_width * scale_factor,\n",
    "        height=img_height * scale_factor,\n",
    "        margin={\"l\": 0, \"r\": 0, \"t\": 0, \"b\": 0},\n",
    "        showlegend=False\n",
    "    )\n",
    "\n",
    "    # disable the autosize on double click because it adds unwanted margins around the image\n",
    "    # and finally show figure\n",
    "    fig.show(config={'doubleClick': 'reset'})"
   ]
  },
  {
   "cell_type": "markdown",
   "id": "cc31e543",
   "metadata": {
    "papermill": {
     "duration": 0.028945,
     "end_time": "2023-08-02T15:29:51.292144",
     "exception": false,
     "start_time": "2023-08-02T15:29:51.263199",
     "status": "completed"
    },
    "tags": []
   },
   "source": [
    "# <center style=\"font-family: consolas; font-size: 32px; font-weight: bold;\"> Part 1 - Data Overview</center>\n"
   ]
  },
  {
   "cell_type": "markdown",
   "id": "5031903f",
   "metadata": {
    "papermill": {
     "duration": 0.028144,
     "end_time": "2023-08-02T15:29:51.348340",
     "exception": false,
     "start_time": "2023-08-02T15:29:51.320196",
     "status": "completed"
    },
    "tags": []
   },
   "source": [
    "<p style=\"font-family: consolas; font-size: 16px;\">🔴 Our goal in this competition is to locate microvasculature structures (blood vessels) within human kidney histology slides.</p> \n",
    "\n",
    "<p style=\"font-family: consolas; font-size: 16px;\">⚪ The competition data comprises tiles extracted from <b>5</b> Whole Slide Images (WSI) split into <b>2</b> datasets. Tiles from Dataset 1 have annotations that have been expert reviewed. Dataset 2 comprises the remaining tiles from these same WSIs and contain sparse annotations that have not been expert reviewed.</p> \n",
    "\n",
    "<p style=\"font-family: consolas; font-size: 16px;\">⚪ Tiles from <b>Dataset 1</b> have annotations that <b>have been expert reviewed</b>. <b>Dataset 2</b> comprises the remaining tiles from these same WSIs and contain sparse annotations that <b>have not been expert reviewed</b>.</p> \n",
    "\n",
    "* <p style=\"font-family: consolas; font-size: 16px;\">All of the test set tiles are from Dataset 1.</p> \n",
    "* <p style=\"font-family: consolas; font-size: 16px;\"><b>1</b> of the WSIs make up <code>the training set</code>, <b>2</b> WSIs make up <code>the public test set</code>, and <b>1</b> WSI makes up <code>the private test set</code>.</p> \n",
    "* <p style=\"font-family: consolas; font-size: 16px;\">The training data includes Dataset 2 tiles from the <u>public</u> test WSI, but <b>not</b> from the <u>private</u> test WSI.</p> \n",
    "\n",
    "<p style=\"font-family: consolas; font-size: 16px;\">⚪ Dataset 3 includes tiles extracted from an additional <b>9</b> WSIs. <b>These tiles have not been annotated</b>. You may wish to apply semi- or self-supervised learning techniques on this data to support your predictions.</p> \n"
   ]
  },
  {
   "cell_type": "markdown",
   "id": "bddd365c",
   "metadata": {
    "papermill": {
     "duration": 0.027809,
     "end_time": "2023-08-02T15:29:51.404381",
     "exception": false,
     "start_time": "2023-08-02T15:29:51.376572",
     "status": "completed"
    },
    "tags": []
   },
   "source": [
    "<a id=\"1.1\"></a>\n",
    "## <div style=\"box-shadow: rgba(0, 0, 0, 0.18) 0px 2px 4px inset; padding:20px; font-size:24px; font-family: consolas; text-align:center; display:fill; border-radius:15px; color:rgb(67, 66, 66)\"> <b> 1.1 Files and Field Descriptions</b></div>"
   ]
  },
  {
   "cell_type": "markdown",
   "id": "a868cf64",
   "metadata": {
    "papermill": {
     "duration": 0.032769,
     "end_time": "2023-08-02T15:29:51.467435",
     "exception": false,
     "start_time": "2023-08-02T15:29:51.434666",
     "status": "completed"
    },
    "tags": []
   },
   "source": [
    "<p style=\"font-family: consolas; font-size: 16px;\">⚪ <code>{train|test}/</code> Folders containing TIFF images of the tiles. Each tile is 512x512 in size.</p>\n",
    "\n",
    "<p style=\"font-family: consolas; font-size: 16px;\">⚪ <code>polygons.jsonl</code> Polygonal segmentation masks in JSONL format, available for Dataset 1 and Dataset 2. Each line gives JSON annotations for a single image.</p>\n",
    "\n",
    "<p style=\"font-family: consolas; font-size: 16px;\">⚪ <code>wsi_meta.csv</code> Metadata for the Whole Slide Images the tiles were extracted from.</p>\n",
    "\n",
    "<p style=\"font-family: consolas; font-size: 16px;\">⚪ <code>tile_meta.csv</code> Metadata for each image.</p>"
   ]
  },
  {
   "cell_type": "markdown",
   "id": "3ba284d5",
   "metadata": {
    "papermill": {
     "duration": 0.028206,
     "end_time": "2023-08-02T15:29:51.525216",
     "exception": false,
     "start_time": "2023-08-02T15:29:51.497010",
     "status": "completed"
    },
    "tags": []
   },
   "source": [
    "<a id=\"1.2\"></a>\n",
    "## <div style=\"box-shadow: rgba(0, 0, 0, 0.18) 0px 2px 4px inset; padding:20px; font-size:24px; font-family: consolas; text-align:center; display:fill; border-radius:15px; color:rgb(67, 66, 66)\"> <b> 1.2 Whole Slide Images metadata</b></div>"
   ]
  },
  {
   "cell_type": "markdown",
   "id": "78b96166",
   "metadata": {
    "papermill": {
     "duration": 0.028733,
     "end_time": "2023-08-02T15:29:51.584310",
     "exception": false,
     "start_time": "2023-08-02T15:29:51.555577",
     "status": "completed"
    },
    "tags": []
   },
   "source": [
    "<p style=\"font-family: consolas; font-size: 16px;\"><code>Description</code></p>\n",
    "\n",
    "<p style=\"font-family: consolas; font-size: 16px;\">⚪ <code>wsi_meta.csv</code> Metadata for the Whole Slide Images the tiles were extracted from.</p>\n",
    "\n",
    "* <p style=\"font-family: consolas; font-size: 16px;\"><code>source_wsi</code> Identifies the WSI.</p>\n",
    "* <p style=\"font-family: consolas; font-size: 16px;\"><code>age</code>, <code>sex</code>, <code>race</code>, <code>height</code>, <code>weight</code>, and <code>bmi</code> demographic information about the tissue donor.</p>"
   ]
  },
  {
   "cell_type": "markdown",
   "id": "78da7661",
   "metadata": {
    "papermill": {
     "duration": 0.027904,
     "end_time": "2023-08-02T15:29:51.640384",
     "exception": false,
     "start_time": "2023-08-02T15:29:51.612480",
     "status": "completed"
    },
    "tags": []
   },
   "source": [
    "<p style=\"font-family: consolas; font-size: 16px;\">⚪ Let's load the wsi_meta.csv file and display it.</p>"
   ]
  },
  {
   "cell_type": "code",
   "execution_count": 7,
   "id": "ede56bf2",
   "metadata": {
    "execution": {
     "iopub.execute_input": "2023-08-02T15:29:51.699759Z",
     "iopub.status.busy": "2023-08-02T15:29:51.699393Z",
     "iopub.status.idle": "2023-08-02T15:29:51.721228Z",
     "shell.execute_reply": "2023-08-02T15:29:51.720184Z"
    },
    "papermill": {
     "duration": 0.054405,
     "end_time": "2023-08-02T15:29:51.723676",
     "exception": false,
     "start_time": "2023-08-02T15:29:51.669271",
     "status": "completed"
    },
    "tags": []
   },
   "outputs": [],
   "source": [
    "wsi_meta_df = pd.read_csv(\"/kaggle/input/hubmap-hacking-the-human-vasculature/wsi_meta.csv\")"
   ]
  },
  {
   "cell_type": "code",
   "execution_count": 8,
   "id": "2b60e0f1",
   "metadata": {
    "execution": {
     "iopub.execute_input": "2023-08-02T15:29:51.782541Z",
     "iopub.status.busy": "2023-08-02T15:29:51.782166Z",
     "iopub.status.idle": "2023-08-02T15:29:51.786472Z",
     "shell.execute_reply": "2023-08-02T15:29:51.785261Z"
    },
    "papermill": {
     "duration": 0.036727,
     "end_time": "2023-08-02T15:29:51.788886",
     "exception": false,
     "start_time": "2023-08-02T15:29:51.752159",
     "status": "completed"
    },
    "tags": []
   },
   "outputs": [],
   "source": [
    "# wsi_meta_df"
   ]
  },
  {
   "cell_type": "markdown",
   "id": "e99de97a",
   "metadata": {
    "papermill": {
     "duration": 0.027838,
     "end_time": "2023-08-02T15:29:51.845072",
     "exception": false,
     "start_time": "2023-08-02T15:29:51.817234",
     "status": "completed"
    },
    "tags": []
   },
   "source": [
    "<p style=\"font-family: consolas; font-size: 16px;\">⚪ As can be seen above, only 4 wsi are present in the available data out of the 5 mentioned.</p>"
   ]
  },
  {
   "cell_type": "markdown",
   "id": "d295027e",
   "metadata": {
    "papermill": {
     "duration": 0.027907,
     "end_time": "2023-08-02T15:29:51.900889",
     "exception": false,
     "start_time": "2023-08-02T15:29:51.872982",
     "status": "completed"
    },
    "tags": []
   },
   "source": [
    "<p style=\"font-family: consolas; font-size: 16px;\">⚪ Let's output the pie distribution for the sex and race values.</p>"
   ]
  },
  {
   "cell_type": "code",
   "execution_count": 9,
   "id": "2dab2d2f",
   "metadata": {
    "_kg_hide-input": true,
    "execution": {
     "iopub.execute_input": "2023-08-02T15:29:51.958814Z",
     "iopub.status.busy": "2023-08-02T15:29:51.958413Z",
     "iopub.status.idle": "2023-08-02T15:29:51.962880Z",
     "shell.execute_reply": "2023-08-02T15:29:51.961833Z"
    },
    "papermill": {
     "duration": 0.03597,
     "end_time": "2023-08-02T15:29:51.964995",
     "exception": false,
     "start_time": "2023-08-02T15:29:51.929025",
     "status": "completed"
    },
    "tags": []
   },
   "outputs": [],
   "source": [
    "# sex_counts = wsi_meta_df.sex.value_counts()\n",
    "\n",
    "# fig = px.pie(values=sex_counts.values, names=sex_counts.index)\n",
    "# fig.update_traces(textposition='inside', textfont_size=14)\n",
    "# fig.update_layout(\n",
    "#     title={\n",
    "#         'text': \"Pie distribution of sex values\",\n",
    "#         'y':0.95,\n",
    "#         'x':0.5,\n",
    "#         'xanchor': 'center',\n",
    "#         'yanchor': 'top'\n",
    "#     },\n",
    "#     legend_title_text='Aspect:'\n",
    "# )\n",
    "# fig.show()"
   ]
  },
  {
   "cell_type": "code",
   "execution_count": 10,
   "id": "f8f2c466",
   "metadata": {
    "_kg_hide-input": true,
    "execution": {
     "iopub.execute_input": "2023-08-02T15:29:52.023765Z",
     "iopub.status.busy": "2023-08-02T15:29:52.022643Z",
     "iopub.status.idle": "2023-08-02T15:29:52.027972Z",
     "shell.execute_reply": "2023-08-02T15:29:52.026909Z"
    },
    "papermill": {
     "duration": 0.037106,
     "end_time": "2023-08-02T15:29:52.030192",
     "exception": false,
     "start_time": "2023-08-02T15:29:51.993086",
     "status": "completed"
    },
    "tags": []
   },
   "outputs": [],
   "source": [
    "# race_counts = wsi_meta_df.race.value_counts()\n",
    "\n",
    "# fig = px.pie(values=race_counts.values, names=race_counts.index)\n",
    "# fig.update_traces(textposition='inside', textfont_size=14)\n",
    "# fig.update_layout(\n",
    "#     title={\n",
    "#         'text': \"Pie distribution of race values\",\n",
    "#         'y':0.95,\n",
    "#         'x':0.5,\n",
    "#         'xanchor': 'center',\n",
    "#         'yanchor': 'top'\n",
    "#     },\n",
    "#     legend_title_text='Aspect:'\n",
    "# )\n",
    "# fig.show()"
   ]
  },
  {
   "cell_type": "markdown",
   "id": "44faae5f",
   "metadata": {
    "papermill": {
     "duration": 0.027639,
     "end_time": "2023-08-02T15:29:52.085903",
     "exception": false,
     "start_time": "2023-08-02T15:29:52.058264",
     "status": "completed"
    },
    "tags": []
   },
   "source": [
    "<p style=\"font-family: consolas; font-size: 16px;\">⚪ Now let's look at the distribution of other WSI meta values.</p>"
   ]
  },
  {
   "cell_type": "code",
   "execution_count": 11,
   "id": "820ce67d",
   "metadata": {
    "_kg_hide-input": true,
    "execution": {
     "iopub.execute_input": "2023-08-02T15:29:52.144081Z",
     "iopub.status.busy": "2023-08-02T15:29:52.143680Z",
     "iopub.status.idle": "2023-08-02T15:29:52.148366Z",
     "shell.execute_reply": "2023-08-02T15:29:52.147162Z"
    },
    "papermill": {
     "duration": 0.036462,
     "end_time": "2023-08-02T15:29:52.150430",
     "exception": false,
     "start_time": "2023-08-02T15:29:52.113968",
     "status": "completed"
    },
    "tags": []
   },
   "outputs": [],
   "source": [
    "# fig = px.violin(wsi_meta_df, x='race', y='age', box=True, color='sex', points=\"all\")\n",
    "# fig.show()"
   ]
  },
  {
   "cell_type": "code",
   "execution_count": 12,
   "id": "e63d83ac",
   "metadata": {
    "_kg_hide-input": true,
    "execution": {
     "iopub.execute_input": "2023-08-02T15:29:52.209658Z",
     "iopub.status.busy": "2023-08-02T15:29:52.208608Z",
     "iopub.status.idle": "2023-08-02T15:29:52.212510Z",
     "shell.execute_reply": "2023-08-02T15:29:52.211840Z"
    },
    "papermill": {
     "duration": 0.035098,
     "end_time": "2023-08-02T15:29:52.214416",
     "exception": false,
     "start_time": "2023-08-02T15:29:52.179318",
     "status": "completed"
    },
    "tags": []
   },
   "outputs": [],
   "source": [
    "# fig = px.scatter(wsi_meta_df, x='height', y='weight', color='sex')\n",
    "# fig.show()"
   ]
  },
  {
   "cell_type": "markdown",
   "id": "38d684e8",
   "metadata": {
    "papermill": {
     "duration": 0.028733,
     "end_time": "2023-08-02T15:29:52.271665",
     "exception": false,
     "start_time": "2023-08-02T15:29:52.242932",
     "status": "completed"
    },
    "tags": []
   },
   "source": [
    "<a id=\"1.3\"></a>\n",
    "## <div style=\"box-shadow: rgba(0, 0, 0, 0.18) 0px 2px 4px inset; padding:20px; font-size:24px; font-family: consolas; text-align:center; display:fill; border-radius:15px; color:rgb(67, 66, 66)\"> <b> 1.3 Each image metadata</b></div>"
   ]
  },
  {
   "cell_type": "markdown",
   "id": "6960b6c8",
   "metadata": {
    "papermill": {
     "duration": 0.028041,
     "end_time": "2023-08-02T15:29:52.328374",
     "exception": false,
     "start_time": "2023-08-02T15:29:52.300333",
     "status": "completed"
    },
    "tags": []
   },
   "source": [
    "<p style=\"font-family: consolas; font-size: 16px;\"><code>Description</code></p>\n",
    "<p style=\"font-family: consolas; font-size: 16px;\">⚪ <code>tile_meta.csv</code> Metadata for each image.</p>\n",
    "\n",
    "* <p style=\"font-family: consolas; font-size: 16px;\"><code>source_wsi</code> Identifies the WSI this tile was extracted from.</p>\n",
    "* <p style=\"font-family: consolas; font-size: 16px;\"><code>{i|j}</code> The location of the upper-left corner within the WSI where the tile was extracted.</p>\n",
    "* <p style=\"font-family: consolas; font-size: 16px;\"><code>dataset</code> The dataset this tile belongs to, as described above.</p>"
   ]
  },
  {
   "cell_type": "markdown",
   "id": "55b1dd63",
   "metadata": {
    "papermill": {
     "duration": 0.028449,
     "end_time": "2023-08-02T15:29:52.385079",
     "exception": false,
     "start_time": "2023-08-02T15:29:52.356630",
     "status": "completed"
    },
    "tags": []
   },
   "source": [
    "<p style=\"font-family: consolas; font-size: 16px;\">⚪ Let's load the tile_meta.csv file and see what it looks like.</p>"
   ]
  },
  {
   "cell_type": "code",
   "execution_count": 13,
   "id": "23b04709",
   "metadata": {
    "execution": {
     "iopub.execute_input": "2023-08-02T15:29:52.444986Z",
     "iopub.status.busy": "2023-08-02T15:29:52.444582Z",
     "iopub.status.idle": "2023-08-02T15:29:52.465228Z",
     "shell.execute_reply": "2023-08-02T15:29:52.464043Z"
    },
    "papermill": {
     "duration": 0.05244,
     "end_time": "2023-08-02T15:29:52.467595",
     "exception": false,
     "start_time": "2023-08-02T15:29:52.415155",
     "status": "completed"
    },
    "tags": []
   },
   "outputs": [],
   "source": [
    "tile_meta_df = pd.read_csv(\"/kaggle/input/hubmap-hacking-the-human-vasculature/tile_meta.csv\")"
   ]
  },
  {
   "cell_type": "code",
   "execution_count": 14,
   "id": "ec131517",
   "metadata": {
    "execution": {
     "iopub.execute_input": "2023-08-02T15:29:52.539804Z",
     "iopub.status.busy": "2023-08-02T15:29:52.538894Z",
     "iopub.status.idle": "2023-08-02T15:29:52.545207Z",
     "shell.execute_reply": "2023-08-02T15:29:52.542925Z"
    },
    "papermill": {
     "duration": 0.048109,
     "end_time": "2023-08-02T15:29:52.547774",
     "exception": false,
     "start_time": "2023-08-02T15:29:52.499665",
     "status": "completed"
    },
    "tags": []
   },
   "outputs": [],
   "source": [
    "# tile_meta_df.head()"
   ]
  },
  {
   "cell_type": "code",
   "execution_count": 15,
   "id": "ed91636b",
   "metadata": {
    "execution": {
     "iopub.execute_input": "2023-08-02T15:29:52.610852Z",
     "iopub.status.busy": "2023-08-02T15:29:52.610468Z",
     "iopub.status.idle": "2023-08-02T15:29:52.614093Z",
     "shell.execute_reply": "2023-08-02T15:29:52.613299Z"
    },
    "papermill": {
     "duration": 0.034741,
     "end_time": "2023-08-02T15:29:52.615923",
     "exception": false,
     "start_time": "2023-08-02T15:29:52.581182",
     "status": "completed"
    },
    "tags": []
   },
   "outputs": [],
   "source": [
    "# tile_meta_df.describe()"
   ]
  },
  {
   "cell_type": "markdown",
   "id": "263cc760",
   "metadata": {
    "papermill": {
     "duration": 0.028609,
     "end_time": "2023-08-02T15:29:52.672531",
     "exception": false,
     "start_time": "2023-08-02T15:29:52.643922",
     "status": "completed"
    },
    "tags": []
   },
   "source": [
    "<p style=\"font-family: consolas; font-size: 16px;\">❔ Let's see how many WSI there are.</p>"
   ]
  },
  {
   "cell_type": "code",
   "execution_count": 16,
   "id": "561d1eb8",
   "metadata": {
    "_kg_hide-input": true,
    "execution": {
     "iopub.execute_input": "2023-08-02T15:29:52.731004Z",
     "iopub.status.busy": "2023-08-02T15:29:52.730353Z",
     "iopub.status.idle": "2023-08-02T15:29:52.734011Z",
     "shell.execute_reply": "2023-08-02T15:29:52.733232Z"
    },
    "papermill": {
     "duration": 0.03552,
     "end_time": "2023-08-02T15:29:52.736119",
     "exception": false,
     "start_time": "2023-08-02T15:29:52.700599",
     "status": "completed"
    },
    "tags": []
   },
   "outputs": [],
   "source": [
    "# print(\"Unique source WSIs --\", list(np.unique(tile_meta_df.source_wsi)))\n",
    "# print(\"Number of unique source WSIs --\", len(np.unique(tile_meta_df.source_wsi)))"
   ]
  },
  {
   "cell_type": "markdown",
   "id": "8254ec35",
   "metadata": {
    "papermill": {
     "duration": 0.027737,
     "end_time": "2023-08-02T15:29:52.792513",
     "exception": false,
     "start_time": "2023-08-02T15:29:52.764776",
     "status": "completed"
    },
    "tags": []
   },
   "source": [
    "<p style=\"font-family: consolas; font-size: 16px;\">⚪ As you can see from the output above, the 5th wsi is missing.</p>"
   ]
  },
  {
   "cell_type": "markdown",
   "id": "484ea50a",
   "metadata": {
    "papermill": {
     "duration": 0.027594,
     "end_time": "2023-08-02T15:29:52.848450",
     "exception": false,
     "start_time": "2023-08-02T15:29:52.820856",
     "status": "completed"
    },
    "tags": []
   },
   "source": [
    "<p style=\"font-family: consolas; font-size: 16px;\">❔ Now let's see how many datasets exist.</p>"
   ]
  },
  {
   "cell_type": "code",
   "execution_count": 17,
   "id": "8b99f098",
   "metadata": {
    "_kg_hide-input": true,
    "execution": {
     "iopub.execute_input": "2023-08-02T15:29:52.906913Z",
     "iopub.status.busy": "2023-08-02T15:29:52.906509Z",
     "iopub.status.idle": "2023-08-02T15:29:52.910604Z",
     "shell.execute_reply": "2023-08-02T15:29:52.909601Z"
    },
    "papermill": {
     "duration": 0.036337,
     "end_time": "2023-08-02T15:29:52.912910",
     "exception": false,
     "start_time": "2023-08-02T15:29:52.876573",
     "status": "completed"
    },
    "tags": []
   },
   "outputs": [],
   "source": [
    "# print(\"Unique datasets --\", list(np.unique(tile_meta_df.dataset)))\n",
    "# print(\"Number of unique datasets --\", len(np.unique(tile_meta_df.dataset)))"
   ]
  },
  {
   "cell_type": "code",
   "execution_count": 18,
   "id": "3337808c",
   "metadata": {
    "_kg_hide-input": true,
    "execution": {
     "iopub.execute_input": "2023-08-02T15:29:52.971198Z",
     "iopub.status.busy": "2023-08-02T15:29:52.970059Z",
     "iopub.status.idle": "2023-08-02T15:29:52.975133Z",
     "shell.execute_reply": "2023-08-02T15:29:52.974403Z"
    },
    "papermill": {
     "duration": 0.036271,
     "end_time": "2023-08-02T15:29:52.977149",
     "exception": false,
     "start_time": "2023-08-02T15:29:52.940878",
     "status": "completed"
    },
    "tags": []
   },
   "outputs": [],
   "source": [
    "# swsi_count = Counter(tile_meta_df.source_wsi)\n",
    "\n",
    "# fig = px.bar(\n",
    "#     x=list(swsi_count.values()), y=list(swsi_count.keys()),\n",
    "#     color_discrete_sequence=['darkslateblue'],\n",
    "#     orientation='h', height=700\n",
    "# )\n",
    "# fig.update_layout(\n",
    "#     title={\n",
    "#         'text': \"Source WSI Composition\",\n",
    "#         'y':0.95,\n",
    "#         'x':0.5,\n",
    "#         'xanchor': 'center',\n",
    "#         'yanchor': 'top'\n",
    "#     },\n",
    "#     xaxis_title=\"Frequency\", yaxis_title=\"Source WSI\"\n",
    "# )\n",
    "# fig.show()"
   ]
  },
  {
   "cell_type": "markdown",
   "id": "d1fe1a84",
   "metadata": {
    "papermill": {
     "duration": 0.027741,
     "end_time": "2023-08-02T15:29:53.033344",
     "exception": false,
     "start_time": "2023-08-02T15:29:53.005603",
     "status": "completed"
    },
    "tags": []
   },
   "source": [
    "<p style=\"font-family: consolas; font-size: 16px;\">⚪ Most WSIs consists of 600 tiles, which is very, very much :).</p>"
   ]
  },
  {
   "cell_type": "markdown",
   "id": "81cc8192",
   "metadata": {
    "papermill": {
     "duration": 0.027542,
     "end_time": "2023-08-02T15:29:53.088912",
     "exception": false,
     "start_time": "2023-08-02T15:29:53.061370",
     "status": "completed"
    },
    "tags": []
   },
   "source": [
    "<a id=\"1.4\"></a>\n",
    "## <div style=\"box-shadow: rgba(0, 0, 0, 0.18) 0px 2px 4px inset; padding:20px; font-size:24px; font-family: consolas; text-align:center; display:fill; border-radius:15px; color:rgb(67, 66, 66)\"> <b> 1.4 Tiles visualisation</b></div>"
   ]
  },
  {
   "cell_type": "markdown",
   "id": "ce8f712f",
   "metadata": {
    "papermill": {
     "duration": 0.027547,
     "end_time": "2023-08-02T15:29:53.144258",
     "exception": false,
     "start_time": "2023-08-02T15:29:53.116711",
     "status": "completed"
    },
    "tags": []
   },
   "source": [
    "<p style=\"font-family: consolas; font-size: 16px;\">⚪ Each Whole Slide Image (WSI) is divided into tiles (as seen above, basically 600 pieces). For some of these tiles, polygonal segmentation masks are given in the polygons.jsonl file. </p>\n",
    "\n",
    "<p style=\"font-family: consolas; font-size: 16px;\">⚪ <code>polygons.jsonl</code> description -- Polygonal segmentation masks in JSONL format, available for Dataset 1 and Dataset 2. Each line gives JSON annotations for a single image with:</p>\n",
    "\n",
    "* <p style=\"font-family: consolas; font-size: 16px;\"><code>id</code> Identifies the corresponding image in <b>train/</b></p>\n",
    "* <p style=\"font-family: consolas; font-size: 16px;\"><code>annotations</code> A list of mask annotations with:</p>\n",
    "* <p style=\"font-family: consolas; font-size: 16px;\"><code>type</code> Identifies the type of structure annotated:</p>\n",
    "\n",
    "    * <p style=\"font-family: consolas; font-size: 16px;\"><code>blood_vessel</code> <b>The target structure</b>. Our goal in this competition is to predict these kinds of masks on the test set.</p>\n",
    "    * <p style=\"font-family: consolas; font-size: 16px;\"><code>glomerulus</code> A capillary ball structure in the kidney. These parts of the images were excluded from blood vessel annotation. You should ensure none of your test set <b>predictions occur within glomerulus structures</b> as they will be counted as false positives. Annotations are provided for test set tiles.</p>\n",
    "    * <p style=\"font-family: consolas; font-size: 16px;\"><code>unsure</code> A structure the expert annotators cannot confidently distinguish as a blood vessel.</p>\n",
    "    \n",
    "* <p style=\"font-family: consolas; font-size: 16px;\"><code>coordinates</code> A list of polygon coordinates defining the segmentation mask.</p>"
   ]
  },
  {
   "cell_type": "markdown",
   "id": "c8cd3082",
   "metadata": {
    "papermill": {
     "duration": 0.027577,
     "end_time": "2023-08-02T15:29:53.199752",
     "exception": false,
     "start_time": "2023-08-02T15:29:53.172175",
     "status": "completed"
    },
    "tags": []
   },
   "source": [
    "<p style=\"font-family: consolas; font-size: 16px;\">⚪ Let's load these annotations and see what they look like in an example.</p>"
   ]
  },
  {
   "cell_type": "code",
   "execution_count": 19,
   "id": "f85a485c",
   "metadata": {
    "execution": {
     "iopub.execute_input": "2023-08-02T15:29:53.259549Z",
     "iopub.status.busy": "2023-08-02T15:29:53.258762Z",
     "iopub.status.idle": "2023-08-02T15:29:57.800488Z",
     "shell.execute_reply": "2023-08-02T15:29:57.799325Z"
    },
    "papermill": {
     "duration": 4.573868,
     "end_time": "2023-08-02T15:29:57.803132",
     "exception": false,
     "start_time": "2023-08-02T15:29:53.229264",
     "status": "completed"
    },
    "tags": []
   },
   "outputs": [],
   "source": [
    "with open('/kaggle/input/hubmap-hacking-the-human-vasculature/polygons.jsonl', 'r') as json_file:\n",
    "    json_list = list(json_file)\n",
    "    \n",
    "tiles_dicts = []\n",
    "for json_str in json_list:\n",
    "    tiles_dicts.append(json.loads(json_str))"
   ]
  },
  {
   "cell_type": "code",
   "execution_count": 20,
   "id": "1f542fb3",
   "metadata": {
    "_kg_hide-input": true,
    "execution": {
     "iopub.execute_input": "2023-08-02T15:29:57.861566Z",
     "iopub.status.busy": "2023-08-02T15:29:57.860832Z",
     "iopub.status.idle": "2023-08-02T15:29:57.865293Z",
     "shell.execute_reply": "2023-08-02T15:29:57.864570Z"
    },
    "papermill": {
     "duration": 0.035924,
     "end_time": "2023-08-02T15:29:57.867290",
     "exception": false,
     "start_time": "2023-08-02T15:29:57.831366",
     "status": "completed"
    },
    "tags": []
   },
   "outputs": [],
   "source": [
    "# print(\"Count of annotated tiles --\", len(tiles_dicts))"
   ]
  },
  {
   "cell_type": "markdown",
   "id": "f9a4e256",
   "metadata": {
    "papermill": {
     "duration": 0.02743,
     "end_time": "2023-08-02T15:29:57.922434",
     "exception": false,
     "start_time": "2023-08-02T15:29:57.895004",
     "status": "completed"
    },
    "tags": []
   },
   "source": [
    "<p style=\"font-family: consolas; font-size: 16px;\">⚪ As you can see from the output above, the number of annotated tiles is over 4 times smaller for the total number of tiles (7033 tiles / 1633 annotated tiles).</p>"
   ]
  },
  {
   "cell_type": "markdown",
   "id": "0017f2c4",
   "metadata": {
    "papermill": {
     "duration": 0.027329,
     "end_time": "2023-08-02T15:29:57.977628",
     "exception": false,
     "start_time": "2023-08-02T15:29:57.950299",
     "status": "completed"
    },
    "tags": []
   },
   "source": [
    "<p style=\"font-family: consolas; font-size: 16px;\">⚪ Now, let's go directly to the visualization. Take for example a tile with id <code>9b9349a10d8d</code>. In the polygons.jsonl list, this tile has an index of <i>1000</i>.</p>"
   ]
  },
  {
   "cell_type": "code",
   "execution_count": 21,
   "id": "8ded8bb4",
   "metadata": {
    "execution": {
     "iopub.execute_input": "2023-08-02T15:29:58.035025Z",
     "iopub.status.busy": "2023-08-02T15:29:58.034628Z",
     "iopub.status.idle": "2023-08-02T15:29:58.038674Z",
     "shell.execute_reply": "2023-08-02T15:29:58.037926Z"
    },
    "papermill": {
     "duration": 0.035266,
     "end_time": "2023-08-02T15:29:58.040670",
     "exception": false,
     "start_time": "2023-08-02T15:29:58.005404",
     "status": "completed"
    },
    "tags": []
   },
   "outputs": [],
   "source": [
    "# tiles_dicts[1000][\"id\"]"
   ]
  },
  {
   "cell_type": "code",
   "execution_count": 22,
   "id": "7ae9ca84",
   "metadata": {
    "execution": {
     "iopub.execute_input": "2023-08-02T15:29:58.098810Z",
     "iopub.status.busy": "2023-08-02T15:29:58.098100Z",
     "iopub.status.idle": "2023-08-02T15:29:58.102340Z",
     "shell.execute_reply": "2023-08-02T15:29:58.101594Z"
    },
    "papermill": {
     "duration": 0.035639,
     "end_time": "2023-08-02T15:29:58.104359",
     "exception": false,
     "start_time": "2023-08-02T15:29:58.068720",
     "status": "completed"
    },
    "tags": []
   },
   "outputs": [],
   "source": [
    "# tile_meta_df[tile_meta_df.id == \"9b9349a10d8d\"]"
   ]
  },
  {
   "cell_type": "code",
   "execution_count": 23,
   "id": "4331fb52",
   "metadata": {
    "execution": {
     "iopub.execute_input": "2023-08-02T15:29:58.162852Z",
     "iopub.status.busy": "2023-08-02T15:29:58.162149Z",
     "iopub.status.idle": "2023-08-02T15:29:58.166604Z",
     "shell.execute_reply": "2023-08-02T15:29:58.165857Z"
    },
    "papermill": {
     "duration": 0.035972,
     "end_time": "2023-08-02T15:29:58.168648",
     "exception": false,
     "start_time": "2023-08-02T15:29:58.132676",
     "status": "completed"
    },
    "tags": []
   },
   "outputs": [],
   "source": [
    "# plot_annotated_image(tiles_dicts[1000])"
   ]
  },
  {
   "cell_type": "markdown",
   "id": "c086c3e3",
   "metadata": {
    "papermill": {
     "duration": 0.027864,
     "end_time": "2023-08-02T15:29:58.224822",
     "exception": false,
     "start_time": "2023-08-02T15:29:58.196958",
     "status": "completed"
    },
    "tags": []
   },
   "source": [
    "<p style=\"font-family: consolas; font-size: 16px;\">⚪ Take for example another tile with id <code>0870e4f9d580</code>. In the polygons.jsonl list, this tile has an index of <i>50</i>.</p>"
   ]
  },
  {
   "cell_type": "code",
   "execution_count": 24,
   "id": "f60b47ce",
   "metadata": {
    "execution": {
     "iopub.execute_input": "2023-08-02T15:29:58.282904Z",
     "iopub.status.busy": "2023-08-02T15:29:58.282212Z",
     "iopub.status.idle": "2023-08-02T15:29:58.286565Z",
     "shell.execute_reply": "2023-08-02T15:29:58.285841Z"
    },
    "papermill": {
     "duration": 0.035874,
     "end_time": "2023-08-02T15:29:58.288533",
     "exception": false,
     "start_time": "2023-08-02T15:29:58.252659",
     "status": "completed"
    },
    "tags": []
   },
   "outputs": [],
   "source": [
    "# tiles_dicts[50][\"id\"]"
   ]
  },
  {
   "cell_type": "code",
   "execution_count": 25,
   "id": "93092334",
   "metadata": {
    "execution": {
     "iopub.execute_input": "2023-08-02T15:29:58.347126Z",
     "iopub.status.busy": "2023-08-02T15:29:58.346449Z",
     "iopub.status.idle": "2023-08-02T15:29:58.350764Z",
     "shell.execute_reply": "2023-08-02T15:29:58.350013Z"
    },
    "papermill": {
     "duration": 0.036115,
     "end_time": "2023-08-02T15:29:58.352848",
     "exception": false,
     "start_time": "2023-08-02T15:29:58.316733",
     "status": "completed"
    },
    "tags": []
   },
   "outputs": [],
   "source": [
    "# len(tiles_dicts)"
   ]
  },
  {
   "cell_type": "code",
   "execution_count": 26,
   "id": "8f9b4569",
   "metadata": {
    "execution": {
     "iopub.execute_input": "2023-08-02T15:29:58.411475Z",
     "iopub.status.busy": "2023-08-02T15:29:58.410709Z",
     "iopub.status.idle": "2023-08-02T15:29:58.415257Z",
     "shell.execute_reply": "2023-08-02T15:29:58.414542Z"
    },
    "papermill": {
     "duration": 0.036192,
     "end_time": "2023-08-02T15:29:58.417299",
     "exception": false,
     "start_time": "2023-08-02T15:29:58.381107",
     "status": "completed"
    },
    "tags": []
   },
   "outputs": [],
   "source": [
    "# tile_meta_df[tile_meta_df.id == \"0870e4f9d580\"]"
   ]
  },
  {
   "cell_type": "code",
   "execution_count": 27,
   "id": "15ed3a54",
   "metadata": {
    "execution": {
     "iopub.execute_input": "2023-08-02T15:29:58.475665Z",
     "iopub.status.busy": "2023-08-02T15:29:58.474888Z",
     "iopub.status.idle": "2023-08-02T15:29:58.479984Z",
     "shell.execute_reply": "2023-08-02T15:29:58.478842Z"
    },
    "papermill": {
     "duration": 0.036948,
     "end_time": "2023-08-02T15:29:58.482310",
     "exception": false,
     "start_time": "2023-08-02T15:29:58.445362",
     "status": "completed"
    },
    "tags": []
   },
   "outputs": [],
   "source": [
    "# plot_annotated_image(tiles_dicts[50])"
   ]
  },
  {
   "cell_type": "markdown",
   "id": "5a68a96c",
   "metadata": {
    "papermill": {
     "duration": 0.027875,
     "end_time": "2023-08-02T15:29:58.538618",
     "exception": false,
     "start_time": "2023-08-02T15:29:58.510743",
     "status": "completed"
    },
    "tags": []
   },
   "source": [
    "<p style=\"font-family: consolas; font-size: 16px;\">⚪ Take for example another tile with id <code>0033bbc76b6b</code>. In the polygons.jsonl list, this tile has an index of <i>2</i>.</p>"
   ]
  },
  {
   "cell_type": "code",
   "execution_count": 28,
   "id": "36eb3b66",
   "metadata": {
    "execution": {
     "iopub.execute_input": "2023-08-02T15:29:58.599553Z",
     "iopub.status.busy": "2023-08-02T15:29:58.599183Z",
     "iopub.status.idle": "2023-08-02T15:29:58.603016Z",
     "shell.execute_reply": "2023-08-02T15:29:58.602266Z"
    },
    "papermill": {
     "duration": 0.036425,
     "end_time": "2023-08-02T15:29:58.604957",
     "exception": false,
     "start_time": "2023-08-02T15:29:58.568532",
     "status": "completed"
    },
    "tags": []
   },
   "outputs": [],
   "source": [
    "# tiles_dicts[2][\"id\"]"
   ]
  },
  {
   "cell_type": "code",
   "execution_count": 29,
   "id": "90654169",
   "metadata": {
    "execution": {
     "iopub.execute_input": "2023-08-02T15:29:58.663678Z",
     "iopub.status.busy": "2023-08-02T15:29:58.662702Z",
     "iopub.status.idle": "2023-08-02T15:29:58.667313Z",
     "shell.execute_reply": "2023-08-02T15:29:58.666205Z"
    },
    "papermill": {
     "duration": 0.036135,
     "end_time": "2023-08-02T15:29:58.669334",
     "exception": false,
     "start_time": "2023-08-02T15:29:58.633199",
     "status": "completed"
    },
    "tags": []
   },
   "outputs": [],
   "source": [
    "# tile_meta_df[tile_meta_df.id == \"0033bbc76b6b\"]"
   ]
  },
  {
   "cell_type": "code",
   "execution_count": 30,
   "id": "9b298cee",
   "metadata": {
    "execution": {
     "iopub.execute_input": "2023-08-02T15:29:58.728397Z",
     "iopub.status.busy": "2023-08-02T15:29:58.728017Z",
     "iopub.status.idle": "2023-08-02T15:29:58.732028Z",
     "shell.execute_reply": "2023-08-02T15:29:58.731043Z"
    },
    "papermill": {
     "duration": 0.036117,
     "end_time": "2023-08-02T15:29:58.734173",
     "exception": false,
     "start_time": "2023-08-02T15:29:58.698056",
     "status": "completed"
    },
    "tags": []
   },
   "outputs": [],
   "source": [
    "# plot_annotated_image(tiles_dicts[2])"
   ]
  },
  {
   "cell_type": "markdown",
   "id": "bdba65f1",
   "metadata": {
    "papermill": {
     "duration": 0.027586,
     "end_time": "2023-08-02T15:29:58.790548",
     "exception": false,
     "start_time": "2023-08-02T15:29:58.762962",
     "status": "completed"
    },
    "tags": []
   },
   "source": [
    "<p style=\"font-family: consolas; font-size: 16px;\">⚪ Take for example another tile with id <code>4ca084aec87b</code>. In the polygons.jsonl list, this tile has an index of <i>500</i>.</p>"
   ]
  },
  {
   "cell_type": "code",
   "execution_count": 31,
   "id": "87268ea1",
   "metadata": {
    "execution": {
     "iopub.execute_input": "2023-08-02T15:29:58.848430Z",
     "iopub.status.busy": "2023-08-02T15:29:58.848047Z",
     "iopub.status.idle": "2023-08-02T15:29:58.852499Z",
     "shell.execute_reply": "2023-08-02T15:29:58.851412Z"
    },
    "papermill": {
     "duration": 0.035832,
     "end_time": "2023-08-02T15:29:58.854647",
     "exception": false,
     "start_time": "2023-08-02T15:29:58.818815",
     "status": "completed"
    },
    "tags": []
   },
   "outputs": [],
   "source": [
    "# tiles_dicts[0][\"id\"]"
   ]
  },
  {
   "cell_type": "code",
   "execution_count": 32,
   "id": "04403b05",
   "metadata": {
    "execution": {
     "iopub.execute_input": "2023-08-02T15:29:58.912872Z",
     "iopub.status.busy": "2023-08-02T15:29:58.912224Z",
     "iopub.status.idle": "2023-08-02T15:29:58.915868Z",
     "shell.execute_reply": "2023-08-02T15:29:58.915131Z"
    },
    "papermill": {
     "duration": 0.034977,
     "end_time": "2023-08-02T15:29:58.917724",
     "exception": false,
     "start_time": "2023-08-02T15:29:58.882747",
     "status": "completed"
    },
    "tags": []
   },
   "outputs": [],
   "source": [
    "# tile_meta_df[tile_meta_df.id == \"0006ff2aa7cd\"]"
   ]
  },
  {
   "cell_type": "code",
   "execution_count": 33,
   "id": "ce5efca1",
   "metadata": {
    "execution": {
     "iopub.execute_input": "2023-08-02T15:29:59.036053Z",
     "iopub.status.busy": "2023-08-02T15:29:59.035376Z",
     "iopub.status.idle": "2023-08-02T15:29:59.039151Z",
     "shell.execute_reply": "2023-08-02T15:29:59.038260Z"
    },
    "papermill": {
     "duration": 0.095588,
     "end_time": "2023-08-02T15:29:59.041502",
     "exception": false,
     "start_time": "2023-08-02T15:29:58.945914",
     "status": "completed"
    },
    "tags": []
   },
   "outputs": [],
   "source": [
    "# plot_annotated_image(tiles_dicts[0])"
   ]
  },
  {
   "cell_type": "markdown",
   "id": "e594da07",
   "metadata": {
    "papermill": {
     "duration": 0.027934,
     "end_time": "2023-08-02T15:29:59.098139",
     "exception": false,
     "start_time": "2023-08-02T15:29:59.070205",
     "status": "completed"
    },
    "tags": []
   },
   "source": [
    "<a id=\"1.5\"></a>\n",
    "## <div style=\"box-shadow: rgba(0, 0, 0, 0.18) 0px 2px 4px inset; padding:20px; font-size:24px; font-family: consolas; text-align:center; display:fill; border-radius:15px; color:rgb(67, 66, 66)\"> <b> 1.5 Further plan</b></div>\n",
    "\n",
    "1. Look into open source image models to use.\n",
    "2. Choose between fine tuning or training model from scratch.\n",
    "3. Choose model architechture / fine tune an open source image model to identify Type 2 (glomerulus). (Model 1)\n",
    "4. Do a proper train/test split.\n",
    "    a. Test dataset needs to contain Dataset 1 tyles only.\n",
    "5. Add meta data to Model 1.\n",
    "6. Using same logic as 3-5, train a model to identify Type 1 (blood vessels - target). (Model 2)\n",
    "7. Combine both models for final predictions (a blood vessel in glomerulus is a FP).\n",
    "8. Look for ways to use Dataset 3 (unmarked dataset).\n",
    "    *     https://journalofbigdata.springeropen.com/articles/10.1186/s40537-023-00727-2#Sec19 - Self-supervised learning\n",
    "    *     https://github.com/HiLab-git/SSL4MIS - Semi-supervised learning"
   ]
  },
  {
   "cell_type": "markdown",
   "id": "6f167cc2",
   "metadata": {
    "papermill": {
     "duration": 0.028136,
     "end_time": "2023-08-02T15:29:59.155478",
     "exception": false,
     "start_time": "2023-08-02T15:29:59.127342",
     "status": "completed"
    },
    "tags": []
   },
   "source": [
    "# <center style=\"font-family: consolas; font-size: 32px; font-weight: bold;\"> Part 2 - Building Model 1 & 2</center>\n",
    "\n",
    "Using https://github.com/PaddlePaddle/PaddleSeg"
   ]
  },
  {
   "cell_type": "markdown",
   "id": "0a4fa0ed",
   "metadata": {
    "papermill": {
     "duration": 0.027603,
     "end_time": "2023-08-02T15:29:59.211268",
     "exception": false,
     "start_time": "2023-08-02T15:29:59.183665",
     "status": "completed"
    },
    "tags": []
   },
   "source": [
    "<a id=\"2.1\"></a>\n",
    "## <div style=\"box-shadow: rgba(0, 0, 0, 0.18) 0px 2px 4px inset; padding:20px; font-size:24px; font-family: consolas; text-align:center; display:fill; border-radius:15px; color:rgb(67, 66, 66)\"> <b> 2.1 Install PaddlePaddle</b></div>"
   ]
  },
  {
   "cell_type": "code",
   "execution_count": 34,
   "id": "b032d18c",
   "metadata": {
    "execution": {
     "iopub.execute_input": "2023-08-02T15:29:59.269720Z",
     "iopub.status.busy": "2023-08-02T15:29:59.269045Z",
     "iopub.status.idle": "2023-08-02T15:30:27.007576Z",
     "shell.execute_reply": "2023-08-02T15:30:27.006483Z"
    },
    "papermill": {
     "duration": 27.770523,
     "end_time": "2023-08-02T15:30:27.009950",
     "exception": false,
     "start_time": "2023-08-02T15:29:59.239427",
     "status": "completed"
    },
    "tags": []
   },
   "outputs": [
    {
     "name": "stdout",
     "output_type": "stream",
     "text": [
      "Looking in links: file:///kaggle/input/libraries2/libraries/paddlepaddle\n",
      "Processing /kaggle/input/libraries2/libraries/paddlepaddle/paddlepaddle-2.4.2-cp310-cp310-manylinux1_x86_64.whl\n",
      "Processing /kaggle/input/libraries2/libraries/paddlepaddle/astor-0.8.1-py2.py3-none-any.whl\n",
      "Requirement already satisfied: six in /opt/conda/lib/python3.10/site-packages (from paddlepaddle==2.4.2) (1.16.0)\n",
      "Requirement already satisfied: Pillow in /opt/conda/lib/python3.10/site-packages (from paddlepaddle==2.4.2) (9.5.0)\n",
      "Processing /kaggle/input/libraries2/libraries/paddlepaddle/paddle_bfloat-0.1.7-cp310-cp310-manylinux_2_17_x86_64.manylinux2014_x86_64.whl\n",
      "Processing /kaggle/input/libraries2/libraries/paddlepaddle/protobuf-3.20.0-cp310-cp310-manylinux_2_12_x86_64.manylinux2010_x86_64.whl\n",
      "Requirement already satisfied: requests>=2.20.0 in /opt/conda/lib/python3.10/site-packages (from paddlepaddle==2.4.2) (2.28.2)\n",
      "Requirement already satisfied: decorator in /opt/conda/lib/python3.10/site-packages (from paddlepaddle==2.4.2) (5.1.1)\n",
      "Requirement already satisfied: numpy>=1.13 in /opt/conda/lib/python3.10/site-packages (from paddlepaddle==2.4.2) (1.23.5)\n",
      "Requirement already satisfied: opt-einsum==3.3.0 in /opt/conda/lib/python3.10/site-packages (from paddlepaddle==2.4.2) (3.3.0)\n",
      "Requirement already satisfied: certifi>=2017.4.17 in /opt/conda/lib/python3.10/site-packages (from requests>=2.20.0->paddlepaddle==2.4.2) (2022.12.7)\n",
      "Requirement already satisfied: charset-normalizer<4,>=2 in /opt/conda/lib/python3.10/site-packages (from requests>=2.20.0->paddlepaddle==2.4.2) (2.1.1)\n",
      "Requirement already satisfied: idna<4,>=2.5 in /opt/conda/lib/python3.10/site-packages (from requests>=2.20.0->paddlepaddle==2.4.2) (3.4)\n",
      "Requirement already satisfied: urllib3<1.27,>=1.21.1 in /opt/conda/lib/python3.10/site-packages (from requests>=2.20.0->paddlepaddle==2.4.2) (1.26.15)\n",
      "Installing collected packages: paddle-bfloat, protobuf, astor, paddlepaddle\n",
      "  Attempting uninstall: protobuf\n",
      "    Found existing installation: protobuf 3.20.3\n",
      "    Uninstalling protobuf-3.20.3:\n",
      "      Successfully uninstalled protobuf-3.20.3\n"
     ]
    },
    {
     "name": "stderr",
     "output_type": "stream",
     "text": [
      "\u001b[31mERROR: pip's dependency resolver does not currently take into account all the packages that are installed. This behaviour is the source of the following dependency conflicts.\n",
      "tensorflow 2.11.0 requires protobuf<3.20,>=3.9.2, but you have protobuf 3.20.0 which is incompatible.\n",
      "tensorflow-serving-api 2.11.0 requires protobuf<3.20,>=3.9.2, but you have protobuf 3.20.0 which is incompatible.\n",
      "onnx 1.13.1 requires protobuf<4,>=3.20.2, but you have protobuf 3.20.0 which is incompatible.\n",
      "kfp 1.8.20 requires google-api-python-client<2,>=1.7.8, but you have google-api-python-client 2.86.0 which is incompatible.\n",
      "kfp 1.8.20 requires PyYAML<6,>=5.3, but you have pyyaml 6.0 which is incompatible.\n",
      "grpc-google-iam-v1 0.12.6 requires protobuf!=3.20.0,!=3.20.1,!=4.21.1,!=4.21.2,!=4.21.3,!=4.21.4,!=4.21.5,<5.0.0dev,>=3.19.5, but you have protobuf 3.20.0 which is incompatible.\n",
      "googleapis-common-protos 1.59.0 requires protobuf!=3.20.0,!=3.20.1,!=4.21.1,!=4.21.2,!=4.21.3,!=4.21.4,!=4.21.5,<5.0.0dev,>=3.19.5, but you have protobuf 3.20.0 which is incompatible.\n",
      "google-cloud-videointelligence 2.8.3 requires protobuf!=3.20.0,!=3.20.1,!=4.21.0,!=4.21.1,!=4.21.2,!=4.21.3,!=4.21.4,!=4.21.5,<5.0.0dev,>=3.19.5, but you have protobuf 3.20.0 which is incompatible.\n",
      "google-cloud-translate 3.8.4 requires protobuf!=3.20.0,!=3.20.1,!=4.21.0,!=4.21.1,!=4.21.2,!=4.21.3,!=4.21.4,!=4.21.5,<5.0.0dev,>=3.19.5, but you have protobuf 3.20.0 which is incompatible.\n",
      "google-cloud-spanner 3.30.0 requires protobuf!=3.20.0,!=3.20.1,!=4.21.0,!=4.21.1,!=4.21.2,!=4.21.3,!=4.21.4,!=4.21.5,<5.0.0dev,>=3.19.5, but you have protobuf 3.20.0 which is incompatible.\n",
      "google-cloud-resource-manager 1.9.1 requires protobuf!=3.20.0,!=3.20.1,!=4.21.0,!=4.21.1,!=4.21.2,!=4.21.3,!=4.21.4,!=4.21.5,<5.0.0dev,>=3.19.5, but you have protobuf 3.20.0 which is incompatible.\n",
      "google-cloud-pubsub 2.16.0 requires protobuf!=3.20.0,!=3.20.1,!=4.21.0,!=4.21.1,!=4.21.2,!=4.21.3,!=4.21.4,!=4.21.5,<5.0.0dev,>=3.19.5, but you have protobuf 3.20.0 which is incompatible.\n",
      "google-cloud-monitoring 2.14.2 requires protobuf!=3.20.0,!=3.20.1,!=4.21.0,!=4.21.1,!=4.21.2,!=4.21.3,!=4.21.4,!=4.21.5,<5.0.0dev,>=3.19.5, but you have protobuf 3.20.0 which is incompatible.\n",
      "google-cloud-language 2.6.1 requires protobuf!=3.20.0,!=3.20.1,!=4.21.0,!=4.21.1,!=4.21.2,!=4.21.3,!=4.21.4,!=4.21.5,<5.0.0dev,>=3.19.5, but you have protobuf 3.20.0 which is incompatible.\n",
      "google-cloud-dlp 3.12.1 requires protobuf!=3.20.0,!=3.20.1,!=4.21.0,!=4.21.1,!=4.21.2,!=4.21.3,!=4.21.4,!=4.21.5,<5.0.0dev,>=3.19.5, but you have protobuf 3.20.0 which is incompatible.\n",
      "google-cloud-artifact-registry 1.8.1 requires protobuf!=3.20.0,!=3.20.1,!=4.21.0,!=4.21.1,!=4.21.2,!=4.21.3,!=4.21.4,!=4.21.5,<5.0.0dev,>=3.19.5, but you have protobuf 3.20.0 which is incompatible.\n",
      "google-api-core 1.34.0 requires protobuf!=3.20.0,!=3.20.1,!=4.21.0,!=4.21.1,!=4.21.2,!=4.21.3,!=4.21.4,!=4.21.5,<4.0.0dev,>=3.19.5, but you have protobuf 3.20.0 which is incompatible.\n",
      "gcsfs 2023.3.0 requires fsspec==2023.3.0, but you have fsspec 2023.4.0 which is incompatible.\n",
      "beatrix-jupyterlab 2023.46.184821 requires jupyter-server~=1.16, but you have jupyter-server 2.5.0 which is incompatible.\n",
      "apache-beam 2.46.0 requires dill<0.3.2,>=0.3.1.1, but you have dill 0.3.6 which is incompatible.\u001b[0m\u001b[31m\n",
      "\u001b[0m\u001b[33mWARNING: Running pip as the 'root' user can result in broken permissions and conflicting behaviour with the system package manager. It is recommended to use a virtual environment instead: https://pip.pypa.io/warnings/venv\u001b[0m\u001b[33m\n",
      "\u001b[0m"
     ]
    },
    {
     "name": "stdout",
     "output_type": "stream",
     "text": [
      "Successfully installed astor-0.8.1 paddle-bfloat-0.1.7 paddlepaddle-2.4.2 protobuf-3.20.0\n"
     ]
    },
    {
     "data": {
      "text/plain": [
       "0"
      ]
     },
     "execution_count": 34,
     "metadata": {},
     "output_type": "execute_result"
    }
   ],
   "source": [
    "#Using CPU version for now\n",
    "# !python -m pip install paddlepaddle==2.4.2 -i https://pypi.tuna.tsinghua.edu.cn/simple\n",
    "# !python -m pip install paddlepaddle==2.4.2 --no-index --find-links=file:///kaggle/input/libraries2/libraries/paddlepaddle \n",
    "os.system(\"python -m pip install paddlepaddle==2.4.2 --no-index --find-links=file:///kaggle/input/libraries2/libraries/paddlepaddle \")\n",
    "\n",
    "# Switch to GPU version for speed later\n",
    "# !pip install paddlepaddle-gpu==2.4.2 -i https://pypi.tuna.tsinghua.edu.cn/simple"
   ]
  },
  {
   "cell_type": "code",
   "execution_count": 35,
   "id": "b343dc49",
   "metadata": {
    "execution": {
     "iopub.execute_input": "2023-08-02T15:30:27.069925Z",
     "iopub.status.busy": "2023-08-02T15:30:27.069535Z",
     "iopub.status.idle": "2023-08-02T15:30:28.894932Z",
     "shell.execute_reply": "2023-08-02T15:30:28.893723Z"
    },
    "papermill": {
     "duration": 1.857948,
     "end_time": "2023-08-02T15:30:28.897484",
     "exception": false,
     "start_time": "2023-08-02T15:30:27.039536",
     "status": "completed"
    },
    "tags": []
   },
   "outputs": [],
   "source": [
    "import paddle\n",
    "# paddle.utils.run_check()"
   ]
  },
  {
   "cell_type": "markdown",
   "id": "5d37eaa6",
   "metadata": {
    "papermill": {
     "duration": 0.028405,
     "end_time": "2023-08-02T15:30:28.954996",
     "exception": false,
     "start_time": "2023-08-02T15:30:28.926591",
     "status": "completed"
    },
    "tags": []
   },
   "source": [
    "Install PaddleSeg"
   ]
  },
  {
   "cell_type": "code",
   "execution_count": 36,
   "id": "cc7e1c24",
   "metadata": {
    "execution": {
     "iopub.execute_input": "2023-08-02T15:30:29.014234Z",
     "iopub.status.busy": "2023-08-02T15:30:29.013818Z",
     "iopub.status.idle": "2023-08-02T15:30:39.764529Z",
     "shell.execute_reply": "2023-08-02T15:30:39.763360Z"
    },
    "papermill": {
     "duration": 10.783184,
     "end_time": "2023-08-02T15:30:39.766851",
     "exception": false,
     "start_time": "2023-08-02T15:30:28.983667",
     "status": "completed"
    },
    "tags": []
   },
   "outputs": [
    {
     "data": {
      "text/plain": [
       "'/kaggle/working/PaddleSeg/'"
      ]
     },
     "execution_count": 36,
     "metadata": {},
     "output_type": "execute_result"
    }
   ],
   "source": [
    "# !git clone https://github.com/PaddlePaddle/PaddleSeg\n",
    "# !cp -r /kaggle/input/paddleseggithub /kaggle/working/PaddleSeg/\n",
    "shutil.copytree(\"/kaggle/input/paddleseggithub\", \"/kaggle/working/PaddleSeg/\")"
   ]
  },
  {
   "cell_type": "code",
   "execution_count": 37,
   "id": "6e983357",
   "metadata": {
    "execution": {
     "iopub.execute_input": "2023-08-02T15:30:39.828142Z",
     "iopub.status.busy": "2023-08-02T15:30:39.827726Z",
     "iopub.status.idle": "2023-08-02T15:30:50.654488Z",
     "shell.execute_reply": "2023-08-02T15:30:50.653511Z"
    },
    "papermill": {
     "duration": 10.860255,
     "end_time": "2023-08-02T15:30:50.657199",
     "exception": false,
     "start_time": "2023-08-02T15:30:39.796944",
     "status": "completed"
    },
    "tags": []
   },
   "outputs": [
    {
     "name": "stdout",
     "output_type": "stream",
     "text": [
      "Looking in links: file:///kaggle/input/libraries2/libraries/requirements\n",
      "Requirement already satisfied: pyyaml>=5.1 in /opt/conda/lib/python3.10/site-packages (from -r PaddleSeg/requirements.txt (line 1)) (6.0)\n",
      "Processing /kaggle/input/libraries2/libraries/requirements/visualdl-2.5.3-py3-none-any.whl\n",
      "Requirement already satisfied: opencv-python<=4.6.0 in /opt/conda/lib/python3.10/site-packages (from -r PaddleSeg/requirements.txt (line 3)) (4.5.4.60)\n",
      "Requirement already satisfied: tqdm in /opt/conda/lib/python3.10/site-packages (from -r PaddleSeg/requirements.txt (line 4)) (4.64.1)\n",
      "Requirement already satisfied: filelock in /opt/conda/lib/python3.10/site-packages (from -r PaddleSeg/requirements.txt (line 5)) (3.11.0)\n",
      "Requirement already satisfied: scipy in /opt/conda/lib/python3.10/site-packages (from -r PaddleSeg/requirements.txt (line 6)) (1.9.3)\n",
      "Requirement already satisfied: prettytable in /opt/conda/lib/python3.10/site-packages (from -r PaddleSeg/requirements.txt (line 7)) (3.7.0)\n",
      "Requirement already satisfied: scikit-learn in /opt/conda/lib/python3.10/site-packages (from -r PaddleSeg/requirements.txt (line 8)) (1.2.2)\n",
      "Requirement already satisfied: Pillow>=7.0.0 in /opt/conda/lib/python3.10/site-packages (from visualdl>=2.2.0->-r PaddleSeg/requirements.txt (line 2)) (9.5.0)\n",
      "Processing /kaggle/input/libraries2/libraries/requirements/flask_babel-3.1.0-py3-none-any.whl\n",
      "Requirement already satisfied: pandas in /opt/conda/lib/python3.10/site-packages (from visualdl>=2.2.0->-r PaddleSeg/requirements.txt (line 2)) (1.5.3)\n",
      "Requirement already satisfied: protobuf>=3.20.0 in /opt/conda/lib/python3.10/site-packages (from visualdl>=2.2.0->-r PaddleSeg/requirements.txt (line 2)) (3.20.0)\n",
      "Requirement already satisfied: psutil in /opt/conda/lib/python3.10/site-packages (from visualdl>=2.2.0->-r PaddleSeg/requirements.txt (line 2)) (5.9.4)\n",
      "Requirement already satisfied: packaging in /opt/conda/lib/python3.10/site-packages (from visualdl>=2.2.0->-r PaddleSeg/requirements.txt (line 2)) (21.3)\n",
      "Processing /kaggle/input/libraries2/libraries/requirements/rarfile-4.0-py3-none-any.whl\n",
      "Requirement already satisfied: six>=1.14.0 in /opt/conda/lib/python3.10/site-packages (from visualdl>=2.2.0->-r PaddleSeg/requirements.txt (line 2)) (1.16.0)\n",
      "Processing /kaggle/input/libraries2/libraries/requirements/bce_python_sdk-0.8.87-py3-none-any.whl\n",
      "Requirement already satisfied: matplotlib in /opt/conda/lib/python3.10/site-packages (from visualdl>=2.2.0->-r PaddleSeg/requirements.txt (line 2)) (3.6.3)\n",
      "Requirement already satisfied: requests in /opt/conda/lib/python3.10/site-packages (from visualdl>=2.2.0->-r PaddleSeg/requirements.txt (line 2)) (2.28.2)\n",
      "Requirement already satisfied: flask>=1.1.1 in /opt/conda/lib/python3.10/site-packages (from visualdl>=2.2.0->-r PaddleSeg/requirements.txt (line 2)) (2.2.3)\n",
      "Requirement already satisfied: numpy in /opt/conda/lib/python3.10/site-packages (from visualdl>=2.2.0->-r PaddleSeg/requirements.txt (line 2)) (1.23.5)\n",
      "Requirement already satisfied: wcwidth in /opt/conda/lib/python3.10/site-packages (from prettytable->-r PaddleSeg/requirements.txt (line 7)) (0.2.6)\n",
      "Requirement already satisfied: joblib>=1.1.1 in /opt/conda/lib/python3.10/site-packages (from scikit-learn->-r PaddleSeg/requirements.txt (line 8)) (1.2.0)\n",
      "Requirement already satisfied: threadpoolctl>=2.0.0 in /opt/conda/lib/python3.10/site-packages (from scikit-learn->-r PaddleSeg/requirements.txt (line 8)) (3.1.0)\n",
      "Requirement already satisfied: Werkzeug>=2.2.2 in /opt/conda/lib/python3.10/site-packages (from flask>=1.1.1->visualdl>=2.2.0->-r PaddleSeg/requirements.txt (line 2)) (2.2.3)\n",
      "Requirement already satisfied: click>=8.0 in /opt/conda/lib/python3.10/site-packages (from flask>=1.1.1->visualdl>=2.2.0->-r PaddleSeg/requirements.txt (line 2)) (8.1.3)\n",
      "Requirement already satisfied: itsdangerous>=2.0 in /opt/conda/lib/python3.10/site-packages (from flask>=1.1.1->visualdl>=2.2.0->-r PaddleSeg/requirements.txt (line 2)) (2.1.2)\n",
      "Requirement already satisfied: Jinja2>=3.0 in /opt/conda/lib/python3.10/site-packages (from flask>=1.1.1->visualdl>=2.2.0->-r PaddleSeg/requirements.txt (line 2)) (3.1.2)\n",
      "Requirement already satisfied: Babel>=2.12 in /opt/conda/lib/python3.10/site-packages (from Flask-Babel>=3.0.0->visualdl>=2.2.0->-r PaddleSeg/requirements.txt (line 2)) (2.12.1)\n",
      "Requirement already satisfied: pytz>=2022.7 in /opt/conda/lib/python3.10/site-packages (from Flask-Babel>=3.0.0->visualdl>=2.2.0->-r PaddleSeg/requirements.txt (line 2)) (2023.3)\n",
      "Requirement already satisfied: pycryptodome>=3.8.0 in /opt/conda/lib/python3.10/site-packages (from bce-python-sdk->visualdl>=2.2.0->-r PaddleSeg/requirements.txt (line 2)) (3.17)\n",
      "Requirement already satisfied: future>=0.6.0 in /opt/conda/lib/python3.10/site-packages (from bce-python-sdk->visualdl>=2.2.0->-r PaddleSeg/requirements.txt (line 2)) (0.18.3)\n",
      "Requirement already satisfied: kiwisolver>=1.0.1 in /opt/conda/lib/python3.10/site-packages (from matplotlib->visualdl>=2.2.0->-r PaddleSeg/requirements.txt (line 2)) (1.4.4)\n",
      "Requirement already satisfied: python-dateutil>=2.7 in /opt/conda/lib/python3.10/site-packages (from matplotlib->visualdl>=2.2.0->-r PaddleSeg/requirements.txt (line 2)) (2.8.2)\n",
      "Requirement already satisfied: fonttools>=4.22.0 in /opt/conda/lib/python3.10/site-packages (from matplotlib->visualdl>=2.2.0->-r PaddleSeg/requirements.txt (line 2)) (4.39.3)\n",
      "Requirement already satisfied: contourpy>=1.0.1 in /opt/conda/lib/python3.10/site-packages (from matplotlib->visualdl>=2.2.0->-r PaddleSeg/requirements.txt (line 2)) (1.0.7)\n",
      "Requirement already satisfied: pyparsing>=2.2.1 in /opt/conda/lib/python3.10/site-packages (from matplotlib->visualdl>=2.2.0->-r PaddleSeg/requirements.txt (line 2)) (3.0.9)\n",
      "Requirement already satisfied: cycler>=0.10 in /opt/conda/lib/python3.10/site-packages (from matplotlib->visualdl>=2.2.0->-r PaddleSeg/requirements.txt (line 2)) (0.11.0)\n",
      "Requirement already satisfied: idna<4,>=2.5 in /opt/conda/lib/python3.10/site-packages (from requests->visualdl>=2.2.0->-r PaddleSeg/requirements.txt (line 2)) (3.4)\n",
      "Requirement already satisfied: charset-normalizer<4,>=2 in /opt/conda/lib/python3.10/site-packages (from requests->visualdl>=2.2.0->-r PaddleSeg/requirements.txt (line 2)) (2.1.1)\n",
      "Requirement already satisfied: certifi>=2017.4.17 in /opt/conda/lib/python3.10/site-packages (from requests->visualdl>=2.2.0->-r PaddleSeg/requirements.txt (line 2)) (2022.12.7)\n",
      "Requirement already satisfied: urllib3<1.27,>=1.21.1 in /opt/conda/lib/python3.10/site-packages (from requests->visualdl>=2.2.0->-r PaddleSeg/requirements.txt (line 2)) (1.26.15)\n",
      "Requirement already satisfied: MarkupSafe>=2.0 in /opt/conda/lib/python3.10/site-packages (from Jinja2>=3.0->flask>=1.1.1->visualdl>=2.2.0->-r PaddleSeg/requirements.txt (line 2)) (2.1.2)\n",
      "Installing collected packages: rarfile, bce-python-sdk, Flask-Babel, visualdl\n",
      "Successfully installed Flask-Babel-3.1.0 bce-python-sdk-0.8.87 rarfile-4.0 visualdl-2.5.3\n"
     ]
    },
    {
     "name": "stderr",
     "output_type": "stream",
     "text": [
      "\u001b[33mWARNING: Running pip as the 'root' user can result in broken permissions and conflicting behaviour with the system package manager. It is recommended to use a virtual environment instead: https://pip.pypa.io/warnings/venv\u001b[0m\u001b[33m\n",
      "\u001b[0m"
     ]
    },
    {
     "data": {
      "text/plain": [
       "0"
      ]
     },
     "execution_count": 37,
     "metadata": {},
     "output_type": "execute_result"
    }
   ],
   "source": [
    "# !pip install -r PaddleSeg/requirements.txt\n",
    "# !pip install -r PaddleSeg/requirements.txt --no-index --find-links=file:///kaggle/input/libraries2/libraries/requirements \n",
    "os.system(\"pip install -r PaddleSeg/requirements.txt --no-index --find-links=file:///kaggle/input/libraries2/libraries/requirements \")"
   ]
  },
  {
   "cell_type": "code",
   "execution_count": 38,
   "id": "6d3aefc4",
   "metadata": {
    "execution": {
     "iopub.execute_input": "2023-08-02T15:30:50.719038Z",
     "iopub.status.busy": "2023-08-02T15:30:50.718625Z",
     "iopub.status.idle": "2023-08-02T15:31:09.005164Z",
     "shell.execute_reply": "2023-08-02T15:31:09.003897Z"
    },
    "papermill": {
     "duration": 18.320158,
     "end_time": "2023-08-02T15:31:09.007674",
     "exception": false,
     "start_time": "2023-08-02T15:30:50.687516",
     "status": "completed"
    },
    "tags": []
   },
   "outputs": [
    {
     "name": "stdout",
     "output_type": "stream",
     "text": [
      "Using pip 23.0.1 from /opt/conda/lib/python3.10/site-packages/pip (python 3.10)\n",
      "Looking in links: file:///kaggle/input/libraries2/libraries/setup\n",
      "Obtaining file:///kaggle/working/PaddleSeg\n",
      "  Preparing metadata (setup.py): started\n"
     ]
    },
    {
     "name": "stderr",
     "output_type": "stream",
     "text": [
      "  Running command python setup.py egg_info\n",
      "  /opt/conda/lib/python3.10/distutils/command/install.py:13: DeprecationWarning: The distutils.sysconfig module is deprecated, use sysconfig instead\n",
      "    from distutils.sysconfig import get_config_vars\n",
      "  /opt/conda/lib/python3.10/site-packages/scipy/__init__.py:146: UserWarning: A NumPy version >=1.16.5 and <1.23.0 is required for this version of SciPy (detected version 1.23.5\n",
      "    warnings.warn(f\"A NumPy version >={np_minversion} and <{np_maxversion}\"\n",
      "  /kaggle/working/PaddleSeg/paddleseg/models/layers/ms_deformable_attention.py:95: DeprecationWarning: invalid escape sequence '\\s'\n",
      "    \"\"\"\n",
      "  /kaggle/working/PaddleSeg/paddleseg/models/losses/rmi_loss.py:73: DeprecationWarning: invalid escape sequence '\\i'\n",
      "    \"\"\"\n",
      "  running egg_info\n",
      "  creating /tmp/pip-pip-egg-info-va0pzbry/paddleseg.egg-info\n",
      "  writing /tmp/pip-pip-egg-info-va0pzbry/paddleseg.egg-info/PKG-INFO\n",
      "  writing dependency_links to /tmp/pip-pip-egg-info-va0pzbry/paddleseg.egg-info/dependency_links.txt\n",
      "  writing requirements to /tmp/pip-pip-egg-info-va0pzbry/paddleseg.egg-info/requires.txt\n",
      "  writing top-level names to /tmp/pip-pip-egg-info-va0pzbry/paddleseg.egg-info/top_level.txt\n",
      "  writing manifest file '/tmp/pip-pip-egg-info-va0pzbry/paddleseg.egg-info/SOURCES.txt'\n",
      "  reading manifest file '/tmp/pip-pip-egg-info-va0pzbry/paddleseg.egg-info/SOURCES.txt'\n",
      "  adding license file 'LICENSE'\n",
      "  writing manifest file '/tmp/pip-pip-egg-info-va0pzbry/paddleseg.egg-info/SOURCES.txt'\n"
     ]
    },
    {
     "name": "stdout",
     "output_type": "stream",
     "text": [
      "  Preparing metadata (setup.py): finished with status 'done'\n",
      "Requirement already satisfied: pyyaml>=5.1 in /opt/conda/lib/python3.10/site-packages (from paddleseg==2.8.0) (6.0)\n",
      "Requirement already satisfied: visualdl>=2.2.0 in /opt/conda/lib/python3.10/site-packages (from paddleseg==2.8.0) (2.5.3)\n",
      "Requirement already satisfied: opencv-python<=4.6.0 in /opt/conda/lib/python3.10/site-packages (from paddleseg==2.8.0) (4.5.4.60)\n",
      "Requirement already satisfied: tqdm in /opt/conda/lib/python3.10/site-packages (from paddleseg==2.8.0) (4.64.1)\n",
      "Requirement already satisfied: filelock in /opt/conda/lib/python3.10/site-packages (from paddleseg==2.8.0) (3.11.0)\n",
      "Requirement already satisfied: scipy in /opt/conda/lib/python3.10/site-packages (from paddleseg==2.8.0) (1.9.3)\n",
      "Requirement already satisfied: prettytable in /opt/conda/lib/python3.10/site-packages (from paddleseg==2.8.0) (3.7.0)\n",
      "Requirement already satisfied: scikit-learn in /opt/conda/lib/python3.10/site-packages (from paddleseg==2.8.0) (1.2.2)\n",
      "Requirement already satisfied: numpy>=1.21.2 in /opt/conda/lib/python3.10/site-packages (from opencv-python<=4.6.0->paddleseg==2.8.0) (1.23.5)\n",
      "Requirement already satisfied: pandas in /opt/conda/lib/python3.10/site-packages (from visualdl>=2.2.0->paddleseg==2.8.0) (1.5.3)\n",
      "Requirement already satisfied: packaging in /opt/conda/lib/python3.10/site-packages (from visualdl>=2.2.0->paddleseg==2.8.0) (21.3)\n",
      "Requirement already satisfied: bce-python-sdk in /opt/conda/lib/python3.10/site-packages (from visualdl>=2.2.0->paddleseg==2.8.0) (0.8.87)\n",
      "Requirement already satisfied: protobuf>=3.20.0 in /opt/conda/lib/python3.10/site-packages (from visualdl>=2.2.0->paddleseg==2.8.0) (3.20.0)\n",
      "Requirement already satisfied: flask>=1.1.1 in /opt/conda/lib/python3.10/site-packages (from visualdl>=2.2.0->paddleseg==2.8.0) (2.2.3)\n",
      "Requirement already satisfied: matplotlib in /opt/conda/lib/python3.10/site-packages (from visualdl>=2.2.0->paddleseg==2.8.0) (3.6.3)\n",
      "Requirement already satisfied: Flask-Babel>=3.0.0 in /opt/conda/lib/python3.10/site-packages (from visualdl>=2.2.0->paddleseg==2.8.0) (3.1.0)\n",
      "Requirement already satisfied: six>=1.14.0 in /opt/conda/lib/python3.10/site-packages (from visualdl>=2.2.0->paddleseg==2.8.0) (1.16.0)\n",
      "Requirement already satisfied: rarfile in /opt/conda/lib/python3.10/site-packages (from visualdl>=2.2.0->paddleseg==2.8.0) (4.0)\n",
      "Requirement already satisfied: requests in /opt/conda/lib/python3.10/site-packages (from visualdl>=2.2.0->paddleseg==2.8.0) (2.28.2)\n",
      "Requirement already satisfied: psutil in /opt/conda/lib/python3.10/site-packages (from visualdl>=2.2.0->paddleseg==2.8.0) (5.9.4)\n",
      "Requirement already satisfied: Pillow>=7.0.0 in /opt/conda/lib/python3.10/site-packages (from visualdl>=2.2.0->paddleseg==2.8.0) (9.5.0)\n",
      "Requirement already satisfied: wcwidth in /opt/conda/lib/python3.10/site-packages (from prettytable->paddleseg==2.8.0) (0.2.6)\n",
      "Requirement already satisfied: threadpoolctl>=2.0.0 in /opt/conda/lib/python3.10/site-packages (from scikit-learn->paddleseg==2.8.0) (3.1.0)\n",
      "Requirement already satisfied: joblib>=1.1.1 in /opt/conda/lib/python3.10/site-packages (from scikit-learn->paddleseg==2.8.0) (1.2.0)\n",
      "Requirement already satisfied: Werkzeug>=2.2.2 in /opt/conda/lib/python3.10/site-packages (from flask>=1.1.1->visualdl>=2.2.0->paddleseg==2.8.0) (2.2.3)\n",
      "Requirement already satisfied: itsdangerous>=2.0 in /opt/conda/lib/python3.10/site-packages (from flask>=1.1.1->visualdl>=2.2.0->paddleseg==2.8.0) (2.1.2)\n",
      "Requirement already satisfied: click>=8.0 in /opt/conda/lib/python3.10/site-packages (from flask>=1.1.1->visualdl>=2.2.0->paddleseg==2.8.0) (8.1.3)\n",
      "Requirement already satisfied: Jinja2>=3.0 in /opt/conda/lib/python3.10/site-packages (from flask>=1.1.1->visualdl>=2.2.0->paddleseg==2.8.0) (3.1.2)\n",
      "Requirement already satisfied: Babel>=2.12 in /opt/conda/lib/python3.10/site-packages (from Flask-Babel>=3.0.0->visualdl>=2.2.0->paddleseg==2.8.0) (2.12.1)\n",
      "Requirement already satisfied: pytz>=2022.7 in /opt/conda/lib/python3.10/site-packages (from Flask-Babel>=3.0.0->visualdl>=2.2.0->paddleseg==2.8.0) (2023.3)\n",
      "Requirement already satisfied: pycryptodome>=3.8.0 in /opt/conda/lib/python3.10/site-packages (from bce-python-sdk->visualdl>=2.2.0->paddleseg==2.8.0) (3.17)\n",
      "Requirement already satisfied: future>=0.6.0 in /opt/conda/lib/python3.10/site-packages (from bce-python-sdk->visualdl>=2.2.0->paddleseg==2.8.0) (0.18.3)\n",
      "Requirement already satisfied: contourpy>=1.0.1 in /opt/conda/lib/python3.10/site-packages (from matplotlib->visualdl>=2.2.0->paddleseg==2.8.0) (1.0.7)\n",
      "Requirement already satisfied: pyparsing>=2.2.1 in /opt/conda/lib/python3.10/site-packages (from matplotlib->visualdl>=2.2.0->paddleseg==2.8.0) (3.0.9)\n",
      "Requirement already satisfied: python-dateutil>=2.7 in /opt/conda/lib/python3.10/site-packages (from matplotlib->visualdl>=2.2.0->paddleseg==2.8.0) (2.8.2)\n",
      "Requirement already satisfied: kiwisolver>=1.0.1 in /opt/conda/lib/python3.10/site-packages (from matplotlib->visualdl>=2.2.0->paddleseg==2.8.0) (1.4.4)\n",
      "Requirement already satisfied: cycler>=0.10 in /opt/conda/lib/python3.10/site-packages (from matplotlib->visualdl>=2.2.0->paddleseg==2.8.0) (0.11.0)\n",
      "Requirement already satisfied: fonttools>=4.22.0 in /opt/conda/lib/python3.10/site-packages (from matplotlib->visualdl>=2.2.0->paddleseg==2.8.0) (4.39.3)\n",
      "Requirement already satisfied: certifi>=2017.4.17 in /opt/conda/lib/python3.10/site-packages (from requests->visualdl>=2.2.0->paddleseg==2.8.0) (2022.12.7)\n",
      "Requirement already satisfied: urllib3<1.27,>=1.21.1 in /opt/conda/lib/python3.10/site-packages (from requests->visualdl>=2.2.0->paddleseg==2.8.0) (1.26.15)\n",
      "Requirement already satisfied: charset-normalizer<4,>=2 in /opt/conda/lib/python3.10/site-packages (from requests->visualdl>=2.2.0->paddleseg==2.8.0) (2.1.1)\n",
      "Requirement already satisfied: idna<4,>=2.5 in /opt/conda/lib/python3.10/site-packages (from requests->visualdl>=2.2.0->paddleseg==2.8.0) (3.4)\n",
      "Requirement already satisfied: MarkupSafe>=2.0 in /opt/conda/lib/python3.10/site-packages (from Jinja2>=3.0->flask>=1.1.1->visualdl>=2.2.0->paddleseg==2.8.0) (2.1.2)\n",
      "Installing collected packages: paddleseg\n",
      "  Running setup.py develop for paddleseg\n"
     ]
    },
    {
     "name": "stderr",
     "output_type": "stream",
     "text": [
      "    Running command python setup.py develop\n",
      "    /opt/conda/lib/python3.10/distutils/command/install.py:13: DeprecationWarning: The distutils.sysconfig module is deprecated, use sysconfig instead\n",
      "      from distutils.sysconfig import get_config_vars\n",
      "    /opt/conda/lib/python3.10/site-packages/scipy/__init__.py:146: UserWarning: A NumPy version >=1.16.5 and <1.23.0 is required for this version of SciPy (detected version 1.23.5\n",
      "      warnings.warn(f\"A NumPy version >={np_minversion} and <{np_maxversion}\"\n",
      "    running develop\n",
      "    /opt/conda/lib/python3.10/site-packages/setuptools/command/easy_install.py:156: EasyInstallDeprecationWarning: easy_install command is deprecated. Use build and pip and other standards-based tools.\n",
      "      warnings.warn(\n",
      "    /opt/conda/lib/python3.10/site-packages/setuptools/command/install.py:34: SetuptoolsDeprecationWarning: setup.py install is deprecated. Use build and pip and other standards-based tools.\n",
      "      warnings.warn(\n",
      "    running egg_info\n",
      "    creating paddleseg.egg-info\n",
      "    writing paddleseg.egg-info/PKG-INFO\n",
      "    writing dependency_links to paddleseg.egg-info/dependency_links.txt\n",
      "    writing requirements to paddleseg.egg-info/requires.txt\n",
      "    writing top-level names to paddleseg.egg-info/top_level.txt\n",
      "    writing manifest file 'paddleseg.egg-info/SOURCES.txt'\n",
      "    reading manifest file 'paddleseg.egg-info/SOURCES.txt'\n",
      "    adding license file 'LICENSE'\n",
      "    writing manifest file 'paddleseg.egg-info/SOURCES.txt'\n",
      "    running build_ext\n",
      "    Creating /opt/conda/lib/python3.10/site-packages/paddleseg.egg-link (link to .)\n",
      "    Adding paddleseg 2.8.0 to easy-install.pth file\n",
      "\n",
      "    Installed /kaggle/working/PaddleSeg\n"
     ]
    },
    {
     "name": "stdout",
     "output_type": "stream",
     "text": [
      "Successfully installed paddleseg-2.8.0\n"
     ]
    },
    {
     "name": "stderr",
     "output_type": "stream",
     "text": [
      "\u001b[33mWARNING: Running pip as the 'root' user can result in broken permissions and conflicting behaviour with the system package manager. It is recommended to use a virtual environment instead: https://pip.pypa.io/warnings/venv\u001b[0m\u001b[33m\n",
      "\u001b[0m"
     ]
    },
    {
     "data": {
      "text/plain": [
       "0"
      ]
     },
     "execution_count": 38,
     "metadata": {},
     "output_type": "execute_result"
    }
   ],
   "source": [
    "# !pip install -v -e PaddleSeg/. \n",
    "# !pip install -v -e PaddleSeg/. --no-index --find-links=file:///kaggle/input/libraries2/libraries/setup \n",
    "os.system(\"pip install -v -e PaddleSeg/. --no-index --find-links=file:///kaggle/input/libraries2/libraries/setup\")"
   ]
  },
  {
   "cell_type": "code",
   "execution_count": 39,
   "id": "9621c87e",
   "metadata": {
    "execution": {
     "iopub.execute_input": "2023-08-02T15:31:09.072023Z",
     "iopub.status.busy": "2023-08-02T15:31:09.071630Z",
     "iopub.status.idle": "2023-08-02T15:31:18.853189Z",
     "shell.execute_reply": "2023-08-02T15:31:18.852009Z"
    },
    "papermill": {
     "duration": 9.816146,
     "end_time": "2023-08-02T15:31:18.855374",
     "exception": false,
     "start_time": "2023-08-02T15:31:09.039228",
     "status": "completed"
    },
    "tags": []
   },
   "outputs": [
    {
     "name": "stdout",
     "output_type": "stream",
     "text": [
      "Looking in links: file:///kaggle/input/libraries2/libraries/paddleseg\n",
      "Requirement already satisfied: paddleseg in ./PaddleSeg (2.8.0)\n",
      "Requirement already satisfied: pyyaml>=5.1 in /opt/conda/lib/python3.10/site-packages (from paddleseg) (6.0)\n",
      "Requirement already satisfied: visualdl>=2.2.0 in /opt/conda/lib/python3.10/site-packages (from paddleseg) (2.5.3)\n",
      "Requirement already satisfied: opencv-python<=4.6.0 in /opt/conda/lib/python3.10/site-packages (from paddleseg) (4.5.4.60)\n",
      "Requirement already satisfied: tqdm in /opt/conda/lib/python3.10/site-packages (from paddleseg) (4.64.1)\n",
      "Requirement already satisfied: filelock in /opt/conda/lib/python3.10/site-packages (from paddleseg) (3.11.0)\n",
      "Requirement already satisfied: scipy in /opt/conda/lib/python3.10/site-packages (from paddleseg) (1.9.3)\n",
      "Requirement already satisfied: prettytable in /opt/conda/lib/python3.10/site-packages (from paddleseg) (3.7.0)\n",
      "Requirement already satisfied: scikit-learn in /opt/conda/lib/python3.10/site-packages (from paddleseg) (1.2.2)\n",
      "Requirement already satisfied: numpy>=1.21.2 in /opt/conda/lib/python3.10/site-packages (from opencv-python<=4.6.0->paddleseg) (1.23.5)\n",
      "Requirement already satisfied: Flask-Babel>=3.0.0 in /opt/conda/lib/python3.10/site-packages (from visualdl>=2.2.0->paddleseg) (3.1.0)\n",
      "Requirement already satisfied: protobuf>=3.20.0 in /opt/conda/lib/python3.10/site-packages (from visualdl>=2.2.0->paddleseg) (3.20.0)\n",
      "Requirement already satisfied: Pillow>=7.0.0 in /opt/conda/lib/python3.10/site-packages (from visualdl>=2.2.0->paddleseg) (9.5.0)\n",
      "Requirement already satisfied: psutil in /opt/conda/lib/python3.10/site-packages (from visualdl>=2.2.0->paddleseg) (5.9.4)\n",
      "Requirement already satisfied: six>=1.14.0 in /opt/conda/lib/python3.10/site-packages (from visualdl>=2.2.0->paddleseg) (1.16.0)\n",
      "Requirement already satisfied: flask>=1.1.1 in /opt/conda/lib/python3.10/site-packages (from visualdl>=2.2.0->paddleseg) (2.2.3)\n",
      "Requirement already satisfied: requests in /opt/conda/lib/python3.10/site-packages (from visualdl>=2.2.0->paddleseg) (2.28.2)\n",
      "Requirement already satisfied: packaging in /opt/conda/lib/python3.10/site-packages (from visualdl>=2.2.0->paddleseg) (21.3)\n",
      "Requirement already satisfied: rarfile in /opt/conda/lib/python3.10/site-packages (from visualdl>=2.2.0->paddleseg) (4.0)\n",
      "Requirement already satisfied: pandas in /opt/conda/lib/python3.10/site-packages (from visualdl>=2.2.0->paddleseg) (1.5.3)\n",
      "Requirement already satisfied: bce-python-sdk in /opt/conda/lib/python3.10/site-packages (from visualdl>=2.2.0->paddleseg) (0.8.87)\n",
      "Requirement already satisfied: matplotlib in /opt/conda/lib/python3.10/site-packages (from visualdl>=2.2.0->paddleseg) (3.6.3)\n",
      "Requirement already satisfied: wcwidth in /opt/conda/lib/python3.10/site-packages (from prettytable->paddleseg) (0.2.6)\n",
      "Requirement already satisfied: joblib>=1.1.1 in /opt/conda/lib/python3.10/site-packages (from scikit-learn->paddleseg) (1.2.0)\n",
      "Requirement already satisfied: threadpoolctl>=2.0.0 in /opt/conda/lib/python3.10/site-packages (from scikit-learn->paddleseg) (3.1.0)\n",
      "Requirement already satisfied: Jinja2>=3.0 in /opt/conda/lib/python3.10/site-packages (from flask>=1.1.1->visualdl>=2.2.0->paddleseg) (3.1.2)\n",
      "Requirement already satisfied: itsdangerous>=2.0 in /opt/conda/lib/python3.10/site-packages (from flask>=1.1.1->visualdl>=2.2.0->paddleseg) (2.1.2)\n",
      "Requirement already satisfied: Werkzeug>=2.2.2 in /opt/conda/lib/python3.10/site-packages (from flask>=1.1.1->visualdl>=2.2.0->paddleseg) (2.2.3)\n",
      "Requirement already satisfied: click>=8.0 in /opt/conda/lib/python3.10/site-packages (from flask>=1.1.1->visualdl>=2.2.0->paddleseg) (8.1.3)\n",
      "Requirement already satisfied: Babel>=2.12 in /opt/conda/lib/python3.10/site-packages (from Flask-Babel>=3.0.0->visualdl>=2.2.0->paddleseg) (2.12.1)\n",
      "Requirement already satisfied: pytz>=2022.7 in /opt/conda/lib/python3.10/site-packages (from Flask-Babel>=3.0.0->visualdl>=2.2.0->paddleseg) (2023.3)\n",
      "Requirement already satisfied: pycryptodome>=3.8.0 in /opt/conda/lib/python3.10/site-packages (from bce-python-sdk->visualdl>=2.2.0->paddleseg) (3.17)\n",
      "Requirement already satisfied: future>=0.6.0 in /opt/conda/lib/python3.10/site-packages (from bce-python-sdk->visualdl>=2.2.0->paddleseg) (0.18.3)\n",
      "Requirement already satisfied: contourpy>=1.0.1 in /opt/conda/lib/python3.10/site-packages (from matplotlib->visualdl>=2.2.0->paddleseg) (1.0.7)\n",
      "Requirement already satisfied: python-dateutil>=2.7 in /opt/conda/lib/python3.10/site-packages (from matplotlib->visualdl>=2.2.0->paddleseg) (2.8.2)\n",
      "Requirement already satisfied: kiwisolver>=1.0.1 in /opt/conda/lib/python3.10/site-packages (from matplotlib->visualdl>=2.2.0->paddleseg) (1.4.4)\n",
      "Requirement already satisfied: cycler>=0.10 in /opt/conda/lib/python3.10/site-packages (from matplotlib->visualdl>=2.2.0->paddleseg) (0.11.0)\n",
      "Requirement already satisfied: fonttools>=4.22.0 in /opt/conda/lib/python3.10/site-packages (from matplotlib->visualdl>=2.2.0->paddleseg) (4.39.3)\n",
      "Requirement already satisfied: pyparsing>=2.2.1 in /opt/conda/lib/python3.10/site-packages (from matplotlib->visualdl>=2.2.0->paddleseg) (3.0.9)\n",
      "Requirement already satisfied: idna<4,>=2.5 in /opt/conda/lib/python3.10/site-packages (from requests->visualdl>=2.2.0->paddleseg) (3.4)\n",
      "Requirement already satisfied: urllib3<1.27,>=1.21.1 in /opt/conda/lib/python3.10/site-packages (from requests->visualdl>=2.2.0->paddleseg) (1.26.15)\n",
      "Requirement already satisfied: certifi>=2017.4.17 in /opt/conda/lib/python3.10/site-packages (from requests->visualdl>=2.2.0->paddleseg) (2022.12.7)\n",
      "Requirement already satisfied: charset-normalizer<4,>=2 in /opt/conda/lib/python3.10/site-packages (from requests->visualdl>=2.2.0->paddleseg) (2.1.1)\n",
      "Requirement already satisfied: MarkupSafe>=2.0 in /opt/conda/lib/python3.10/site-packages (from Jinja2>=3.0->flask>=1.1.1->visualdl>=2.2.0->paddleseg) (2.1.2)\n"
     ]
    },
    {
     "name": "stderr",
     "output_type": "stream",
     "text": [
      "\u001b[33mWARNING: Running pip as the 'root' user can result in broken permissions and conflicting behaviour with the system package manager. It is recommended to use a virtual environment instead: https://pip.pypa.io/warnings/venv\u001b[0m\u001b[33m\n",
      "\u001b[0m"
     ]
    },
    {
     "data": {
      "text/plain": [
       "0"
      ]
     },
     "execution_count": 39,
     "metadata": {},
     "output_type": "execute_result"
    }
   ],
   "source": [
    "# !pip install paddleseg\n",
    "# !pip install paddleseg --no-index --find-links=file:///kaggle/input/libraries2/libraries/paddleseg \n",
    "os.system(\"pip install paddleseg --no-index --find-links=file:///kaggle/input/libraries2/libraries/paddleseg \")"
   ]
  },
  {
   "cell_type": "code",
   "execution_count": 40,
   "id": "41ac651d",
   "metadata": {
    "execution": {
     "iopub.execute_input": "2023-08-02T15:31:18.922482Z",
     "iopub.status.busy": "2023-08-02T15:31:18.922093Z",
     "iopub.status.idle": "2023-08-02T15:31:18.926529Z",
     "shell.execute_reply": "2023-08-02T15:31:18.925811Z"
    },
    "papermill": {
     "duration": 0.040726,
     "end_time": "2023-08-02T15:31:18.928595",
     "exception": false,
     "start_time": "2023-08-02T15:31:18.887869",
     "status": "completed"
    },
    "tags": []
   },
   "outputs": [],
   "source": [
    "# To use PaddleSeg, change working directory\n",
    "os.chdir(\"/kaggle/working/PaddleSeg\")\n",
    "# Check everything is installed correctly\n",
    "# !sh tests/install/check_predict.sh"
   ]
  },
  {
   "cell_type": "markdown",
   "id": "f147c32e",
   "metadata": {
    "papermill": {
     "duration": 0.03108,
     "end_time": "2023-08-02T15:31:18.991909",
     "exception": false,
     "start_time": "2023-08-02T15:31:18.960829",
     "status": "completed"
    },
    "tags": []
   },
   "source": [
    "<a id=\"2.2\"></a>\n",
    "## <div style=\"box-shadow: rgba(0, 0, 0, 0.18) 0px 2px 4px inset; padding:20px; font-size:24px; font-family: consolas; text-align:center; display:fill; border-radius:15px; color:rgb(67, 66, 66)\"> <b> 2.2 Prepare data</b></div>"
   ]
  },
  {
   "cell_type": "markdown",
   "id": "e07052eb",
   "metadata": {
    "papermill": {
     "duration": 0.031293,
     "end_time": "2023-08-02T15:31:19.054637",
     "exception": false,
     "start_time": "2023-08-02T15:31:19.023344",
     "status": "completed"
    },
    "tags": []
   },
   "source": [
    "https://github.com/PaddlePaddle/PaddleSeg/blob/release/2.8/docs/data/marker/marker.md"
   ]
  },
  {
   "cell_type": "code",
   "execution_count": 41,
   "id": "6302f74d",
   "metadata": {
    "execution": {
     "iopub.execute_input": "2023-08-02T15:31:19.120001Z",
     "iopub.status.busy": "2023-08-02T15:31:19.118907Z",
     "iopub.status.idle": "2023-08-02T15:31:19.123799Z",
     "shell.execute_reply": "2023-08-02T15:31:19.123113Z"
    },
    "papermill": {
     "duration": 0.039823,
     "end_time": "2023-08-02T15:31:19.125854",
     "exception": false,
     "start_time": "2023-08-02T15:31:19.086031",
     "status": "completed"
    },
    "tags": []
   },
   "outputs": [],
   "source": [
    "# Expected data structure:\n",
    "# custom_dataset\n",
    "#     |\n",
    "#     |--images\n",
    "#     |  |--image1.jpg\n",
    "#     |  |--image2.jpg\n",
    "#     |  |--...\n",
    "#     |\n",
    "#     |--labels\n",
    "#     |  |--label1.png\n",
    "#     |  |--label2.png\n",
    "#     |  |--...\n",
    "#     |\n",
    "#     |--train.txt\n",
    "#     |\n",
    "#     |--val.txt\n",
    "#     |\n",
    "#     |--test.txt\n",
    "\n",
    "# label1, etc. are png images with 0 for background, 1 for class"
   ]
  },
  {
   "cell_type": "code",
   "execution_count": 42,
   "id": "8d4b1e4e",
   "metadata": {
    "execution": {
     "iopub.execute_input": "2023-08-02T15:31:19.190028Z",
     "iopub.status.busy": "2023-08-02T15:31:19.189636Z",
     "iopub.status.idle": "2023-08-02T15:31:19.193777Z",
     "shell.execute_reply": "2023-08-02T15:31:19.193069Z"
    },
    "papermill": {
     "duration": 0.03885,
     "end_time": "2023-08-02T15:31:19.195844",
     "exception": false,
     "start_time": "2023-08-02T15:31:19.156994",
     "status": "completed"
    },
    "tags": []
   },
   "outputs": [],
   "source": [
    "# # Load standard dataset for data format reference\n",
    "# !mkdir disc_data\n",
    "# os.chdir(\"/kaggle/working/PaddleSeg/disc_data\")\n",
    "# !wget https://paddleseg.bj.bcebos.com/dataset/optic_disc_seg.zip\n",
    "# !unzip optic_disc_seg.zip\n",
    "# os.chdir(\"/kaggle/working/PaddleSeg\")\n"
   ]
  },
  {
   "cell_type": "code",
   "execution_count": 43,
   "id": "7a1fabb4",
   "metadata": {
    "execution": {
     "iopub.execute_input": "2023-08-02T15:31:19.260981Z",
     "iopub.status.busy": "2023-08-02T15:31:19.260353Z",
     "iopub.status.idle": "2023-08-02T15:31:19.264645Z",
     "shell.execute_reply": "2023-08-02T15:31:19.263883Z"
    },
    "papermill": {
     "duration": 0.03862,
     "end_time": "2023-08-02T15:31:19.266689",
     "exception": false,
     "start_time": "2023-08-02T15:31:19.228069",
     "status": "completed"
    },
    "tags": []
   },
   "outputs": [],
   "source": [
    "# img = mpimg.imread('/kaggle/working/PaddleSeg/disc_data/optic_disc_seg/Annotations/P0065.png')\n",
    "# plt.imshow(img,cmap='Greys')\n",
    "# plt.show()\n"
   ]
  },
  {
   "cell_type": "code",
   "execution_count": 44,
   "id": "d607b53c",
   "metadata": {
    "execution": {
     "iopub.execute_input": "2023-08-02T15:31:19.331694Z",
     "iopub.status.busy": "2023-08-02T15:31:19.331319Z",
     "iopub.status.idle": "2023-08-02T15:31:19.335805Z",
     "shell.execute_reply": "2023-08-02T15:31:19.334557Z"
    },
    "papermill": {
     "duration": 0.039351,
     "end_time": "2023-08-02T15:31:19.337913",
     "exception": false,
     "start_time": "2023-08-02T15:31:19.298562",
     "status": "completed"
    },
    "tags": []
   },
   "outputs": [],
   "source": [
    "# with open(\"/kaggle/working/PaddleSeg/disc_data/optic_disc_seg/test_list.txt\") as file:\n",
    "#     print(file.read())"
   ]
  },
  {
   "cell_type": "markdown",
   "id": "af073c3f",
   "metadata": {
    "papermill": {
     "duration": 0.0308,
     "end_time": "2023-08-02T15:31:19.400064",
     "exception": false,
     "start_time": "2023-08-02T15:31:19.369264",
     "status": "completed"
    },
    "tags": []
   },
   "source": [
    "Data conversion: \n",
    "1. Save labeled images as jpg in custom_dataset/images/image1.jpg\n",
    "2. Convert labels for Type 1 in png images and save in custom_dataset/labels/label1.jpg\n",
    "3. Generate txt files"
   ]
  },
  {
   "cell_type": "code",
   "execution_count": 45,
   "id": "9d9cae97",
   "metadata": {
    "execution": {
     "iopub.execute_input": "2023-08-02T15:31:19.464666Z",
     "iopub.status.busy": "2023-08-02T15:31:19.463703Z",
     "iopub.status.idle": "2023-08-02T15:31:19.467775Z",
     "shell.execute_reply": "2023-08-02T15:31:19.467054Z"
    },
    "papermill": {
     "duration": 0.038594,
     "end_time": "2023-08-02T15:31:19.469755",
     "exception": false,
     "start_time": "2023-08-02T15:31:19.431161",
     "status": "completed"
    },
    "tags": []
   },
   "outputs": [],
   "source": [
    "# # All polygons are in tiles_dicts. \n",
    "# # Only images with ids in tiles_dicts[][\"id\"] need to be injested for now as those are the only annotated ones\n",
    "# # Polygons with 'annotations': 'type': 'glomerulus' need to be filled for the label images\n",
    "\n",
    "# with open('/kaggle/input/hubmap-hacking-the-human-vasculature/polygons.jsonl', 'r') as json_file:\n",
    "#     json_list = list(json_file)\n",
    "    \n",
    "# tiles_dicts = []\n",
    "# for json_str in json_list:\n",
    "#     tiles_dicts.append(json.loads(json_str))"
   ]
  },
  {
   "cell_type": "code",
   "execution_count": 46,
   "id": "1fc07d91",
   "metadata": {
    "execution": {
     "iopub.execute_input": "2023-08-02T15:31:19.534234Z",
     "iopub.status.busy": "2023-08-02T15:31:19.533630Z",
     "iopub.status.idle": "2023-08-02T15:31:19.539039Z",
     "shell.execute_reply": "2023-08-02T15:31:19.538102Z"
    },
    "papermill": {
     "duration": 0.039841,
     "end_time": "2023-08-02T15:31:19.541026",
     "exception": false,
     "start_time": "2023-08-02T15:31:19.501185",
     "status": "completed"
    },
    "tags": []
   },
   "outputs": [],
   "source": [
    "# Create required folders\n",
    "folder_name = \"glomerulus_dataset\"\n",
    "if not os.path.exists(f\"/kaggle/working/PaddleSeg/{folder_name}\"):\n",
    "    os.mkdir(f\"/kaggle/working/PaddleSeg/{folder_name}\")\n",
    "if not os.path.exists(f\"/kaggle/working/PaddleSeg/{folder_name}/images\"):\n",
    "    os.mkdir(f\"/kaggle/working/PaddleSeg/{folder_name}/images\")\n",
    "if not os.path.exists(f\"/kaggle/working/PaddleSeg/{folder_name}/labels\"):\n",
    "    os.mkdir(f\"/kaggle/working/PaddleSeg/{folder_name}/labels\")\n",
    "    "
   ]
  },
  {
   "cell_type": "code",
   "execution_count": 47,
   "id": "c94b0bf9",
   "metadata": {
    "execution": {
     "iopub.execute_input": "2023-08-02T15:31:19.605138Z",
     "iopub.status.busy": "2023-08-02T15:31:19.604754Z",
     "iopub.status.idle": "2023-08-02T15:31:19.608868Z",
     "shell.execute_reply": "2023-08-02T15:31:19.607825Z"
    },
    "papermill": {
     "duration": 0.03858,
     "end_time": "2023-08-02T15:31:19.610749",
     "exception": false,
     "start_time": "2023-08-02T15:31:19.572169",
     "status": "completed"
    },
    "tags": []
   },
   "outputs": [],
   "source": [
    "# def save_tiff_as_jpg(image_dict, path) -> None:\n",
    "#     array = tiff.imread(CFG.img_path_template.format(image_dict[\"id\"]))\n",
    "#     img_example = Image.fromarray(array)\n",
    "#     path = path + f'image_{image_dict[\"id\"]}.jpg'\n",
    "#     img_example.save(path)"
   ]
  },
  {
   "cell_type": "code",
   "execution_count": 48,
   "id": "7861a1e1",
   "metadata": {
    "execution": {
     "iopub.execute_input": "2023-08-02T15:31:19.675982Z",
     "iopub.status.busy": "2023-08-02T15:31:19.675251Z",
     "iopub.status.idle": "2023-08-02T15:31:19.679680Z",
     "shell.execute_reply": "2023-08-02T15:31:19.679005Z"
    },
    "papermill": {
     "duration": 0.038918,
     "end_time": "2023-08-02T15:31:19.681623",
     "exception": false,
     "start_time": "2023-08-02T15:31:19.642705",
     "status": "completed"
    },
    "tags": []
   },
   "outputs": [],
   "source": [
    "# def save_polygon_as_png(image_dict, path, target_type = 'glomerulus') -> None:\n",
    "\n",
    "#     array = tiff.imread(CFG.img_path_template.format(image_dict[\"id\"]))\n",
    "#     img_example = Image.fromarray(array)\n",
    "\n",
    "#     annotations = image_dict[\"annotations\"]\n",
    "\n",
    "#     # constants\n",
    "#     img_width = img_example.size[0]\n",
    "#     img_height = img_example.size[1]\n",
    "\n",
    "#     # Create empty array\n",
    "#     img_array = np.zeros((img_width, img_height, 4), dtype='float32') \n",
    "#     for i in range(img_width):\n",
    "#         for j in range(img_height):\n",
    "#             img_array[i][j][3]=255\n",
    "\n",
    "#         # add polygons\n",
    "#         for annotation in annotations:\n",
    "#             name = annotation[\"type\"]\n",
    "#             if name == target_type:\n",
    "#                 xs, ys = get_cartesian_coords(annotation[\"coordinates\"], img_height)\n",
    "#                 contours = np.column_stack(get_cartesian_coords(annotation[\"coordinates\"], img_height))\n",
    "#                 cv2.fillPoly(img_array, pts =[contours], color=(128,0,0,255))\n",
    "\n",
    "#     path = path + f'{target_type}_{image_dict[\"id\"]}.png'\n",
    "\n",
    "#     # Save the image\n",
    "#     array_to_save = np.flip(img_array, axis=0)\n",
    "#     im = Image.fromarray(array_to_save.astype(np.uint8))\n",
    "#     im.convert('P').save(path, \"PNG\")\n"
   ]
  },
  {
   "cell_type": "code",
   "execution_count": 49,
   "id": "8ef6fb80",
   "metadata": {
    "execution": {
     "iopub.execute_input": "2023-08-02T15:31:19.746387Z",
     "iopub.status.busy": "2023-08-02T15:31:19.746000Z",
     "iopub.status.idle": "2023-08-02T15:31:19.749997Z",
     "shell.execute_reply": "2023-08-02T15:31:19.748949Z"
    },
    "papermill": {
     "duration": 0.038882,
     "end_time": "2023-08-02T15:31:19.752114",
     "exception": false,
     "start_time": "2023-08-02T15:31:19.713232",
     "status": "completed"
    },
    "tags": []
   },
   "outputs": [],
   "source": [
    "# tile_meta_df['dataset'].hist()"
   ]
  },
  {
   "cell_type": "code",
   "execution_count": 50,
   "id": "211420c3",
   "metadata": {
    "execution": {
     "iopub.execute_input": "2023-08-02T15:31:19.817094Z",
     "iopub.status.busy": "2023-08-02T15:31:19.816349Z",
     "iopub.status.idle": "2023-08-02T15:31:19.821852Z",
     "shell.execute_reply": "2023-08-02T15:31:19.820844Z"
    },
    "papermill": {
     "duration": 0.040246,
     "end_time": "2023-08-02T15:31:19.823964",
     "exception": false,
     "start_time": "2023-08-02T15:31:19.783718",
     "status": "completed"
    },
    "tags": []
   },
   "outputs": [],
   "source": [
    "# base_path = \"/kaggle/working/PaddleSeg/glomerulus_dataset/\"\n",
    "# path_images = \"images/\"\n",
    "# path_labels = \"labels/\"\n",
    "# target_type = 'glomerulus'\n",
    "\n",
    "# files = ['train.txt', 'test.txt', 'val.txt']\n",
    "\n",
    "# for tile in tiles_dicts:\n",
    "#     # Save annotated images in custom_dataset/images\n",
    "#     save_tiff_as_jpg(tile, base_path + path_images)\n",
    "#     # Save labels as png in custom_dataset/labels\n",
    "#     save_polygon_as_png(tile, base_path + path_labels, target_type)\n",
    "    \n",
    "#     # Save txt description files\n",
    "#     # First, determine source dataset\n",
    "#     dataset_id = tile_meta_df[tile_meta_df.id == tile[\"id\"]]['dataset'].values \n",
    "#     # All of dataset 2 is assigned to train\n",
    "#     # Dataset 1 is split 1:1:1 in train, test and val\n",
    "#     text = path_images + f'image_{tile[\"id\"]}.jpg' + ' ' + path_labels + f'{target_type}_{tile[\"id\"]}.png \\n'\n",
    "    \n",
    "#     if dataset_id == 2:\n",
    "#         # All of dataset 2 is assigned to train\n",
    "#         with open(base_path + 'train.txt', 'a') as f:\n",
    "#             f.write(text)\n",
    "#     else:\n",
    "#         # Dataset 1 is split 1:1:1 in train, test and val\n",
    "#         with open(base_path + random.choice(files), 'a') as f:\n",
    "#             f.write(text)"
   ]
  },
  {
   "cell_type": "code",
   "execution_count": 51,
   "id": "b933cce0",
   "metadata": {
    "execution": {
     "iopub.execute_input": "2023-08-02T15:31:19.888209Z",
     "iopub.status.busy": "2023-08-02T15:31:19.887826Z",
     "iopub.status.idle": "2023-08-02T15:31:19.892190Z",
     "shell.execute_reply": "2023-08-02T15:31:19.891263Z"
    },
    "papermill": {
     "duration": 0.038764,
     "end_time": "2023-08-02T15:31:19.894123",
     "exception": false,
     "start_time": "2023-08-02T15:31:19.855359",
     "status": "completed"
    },
    "tags": []
   },
   "outputs": [],
   "source": [
    "# os.chdir(\"/kaggle/working/PaddleSeg/glomerulus_dataset/images\")\n",
    "# !ls\n",
    "# os.chdir(\"/kaggle/working/PaddleSeg\")\n"
   ]
  },
  {
   "cell_type": "code",
   "execution_count": 52,
   "id": "f1533f87",
   "metadata": {
    "execution": {
     "iopub.execute_input": "2023-08-02T15:31:19.959399Z",
     "iopub.status.busy": "2023-08-02T15:31:19.959011Z",
     "iopub.status.idle": "2023-08-02T15:31:19.963356Z",
     "shell.execute_reply": "2023-08-02T15:31:19.962357Z"
    },
    "papermill": {
     "duration": 0.039063,
     "end_time": "2023-08-02T15:31:19.965534",
     "exception": false,
     "start_time": "2023-08-02T15:31:19.926471",
     "status": "completed"
    },
    "tags": []
   },
   "outputs": [],
   "source": [
    "# img = mpimg.imread('/kaggle/working/PaddleSeg/glomerulus_dataset/images/image_0006ff2aa7cd.jpg')\n",
    "# imgplot = plt.imshow(img)\n",
    "# plt.show()"
   ]
  },
  {
   "cell_type": "code",
   "execution_count": 53,
   "id": "66c34305",
   "metadata": {
    "execution": {
     "iopub.execute_input": "2023-08-02T15:31:20.029833Z",
     "iopub.status.busy": "2023-08-02T15:31:20.029242Z",
     "iopub.status.idle": "2023-08-02T15:31:20.033415Z",
     "shell.execute_reply": "2023-08-02T15:31:20.032691Z"
    },
    "papermill": {
     "duration": 0.038595,
     "end_time": "2023-08-02T15:31:20.035290",
     "exception": false,
     "start_time": "2023-08-02T15:31:19.996695",
     "status": "completed"
    },
    "tags": []
   },
   "outputs": [],
   "source": [
    "# img = mpimg.imread('/kaggle/working/PaddleSeg/glomerulus_dataset/labels/glomerulus_0006ff2aa7cd.png')\n",
    "# plt.imshow(img,cmap='Greys')\n",
    "# plt.show()"
   ]
  },
  {
   "cell_type": "code",
   "execution_count": 54,
   "id": "f180adde",
   "metadata": {
    "execution": {
     "iopub.execute_input": "2023-08-02T15:31:20.099512Z",
     "iopub.status.busy": "2023-08-02T15:31:20.098907Z",
     "iopub.status.idle": "2023-08-02T15:31:20.102976Z",
     "shell.execute_reply": "2023-08-02T15:31:20.102246Z"
    },
    "papermill": {
     "duration": 0.038419,
     "end_time": "2023-08-02T15:31:20.104894",
     "exception": false,
     "start_time": "2023-08-02T15:31:20.066475",
     "status": "completed"
    },
    "tags": []
   },
   "outputs": [],
   "source": [
    "# with open(\"/kaggle/working/PaddleSeg/glomerulus_dataset/val.txt\") as file:\n",
    "#     print(file.read())"
   ]
  },
  {
   "cell_type": "markdown",
   "id": "77a75035",
   "metadata": {
    "papermill": {
     "duration": 0.030658,
     "end_time": "2023-08-02T15:31:20.166820",
     "exception": false,
     "start_time": "2023-08-02T15:31:20.136162",
     "status": "completed"
    },
    "tags": []
   },
   "source": [
    "<a id=\"2.3\"></a>\n",
    "## <div style=\"box-shadow: rgba(0, 0, 0, 0.18) 0px 2px 4px inset; padding:20px; font-size:24px; font-family: consolas; text-align:center; display:fill; border-radius:15px; color:rgb(67, 66, 66)\"> <b> 2.3 Prepare Config File</b></div>"
   ]
  },
  {
   "cell_type": "code",
   "execution_count": 55,
   "id": "3cb60bd7",
   "metadata": {
    "execution": {
     "iopub.execute_input": "2023-08-02T15:31:20.230959Z",
     "iopub.status.busy": "2023-08-02T15:31:20.230354Z",
     "iopub.status.idle": "2023-08-02T15:31:20.234489Z",
     "shell.execute_reply": "2023-08-02T15:31:20.233778Z"
    },
    "papermill": {
     "duration": 0.038436,
     "end_time": "2023-08-02T15:31:20.236403",
     "exception": false,
     "start_time": "2023-08-02T15:31:20.197967",
     "status": "completed"
    },
    "tags": []
   },
   "outputs": [],
   "source": [
    "# os.chdir(\"/kaggle/working/PaddleSeg/disc_data/optic_disc_seg\")\n",
    "# !ls\n",
    "# os.chdir(\"/kaggle/working/PaddleSeg\")\n"
   ]
  },
  {
   "cell_type": "code",
   "execution_count": 56,
   "id": "9aea6bef",
   "metadata": {
    "execution": {
     "iopub.execute_input": "2023-08-02T15:31:20.300568Z",
     "iopub.status.busy": "2023-08-02T15:31:20.299966Z",
     "iopub.status.idle": "2023-08-02T15:31:20.304355Z",
     "shell.execute_reply": "2023-08-02T15:31:20.303486Z"
    },
    "papermill": {
     "duration": 0.038781,
     "end_time": "2023-08-02T15:31:20.306241",
     "exception": false,
     "start_time": "2023-08-02T15:31:20.267460",
     "status": "completed"
    },
    "tags": []
   },
   "outputs": [],
   "source": [
    "# os.chdir(\"/kaggle/working/PaddleSeg/glomerulus_dataset/\")\n",
    "# with open('labels.txt', 'w') as f:\n",
    "#     f.write(\"background\\n\")\n",
    "#     f.write(\"glomerulus\")\n",
    "# # !ls\n",
    "# os.chdir(\"/kaggle/working/PaddleSeg\")\n"
   ]
  },
  {
   "cell_type": "code",
   "execution_count": 57,
   "id": "7864f490",
   "metadata": {
    "execution": {
     "iopub.execute_input": "2023-08-02T15:31:20.370978Z",
     "iopub.status.busy": "2023-08-02T15:31:20.369892Z",
     "iopub.status.idle": "2023-08-02T15:31:20.374632Z",
     "shell.execute_reply": "2023-08-02T15:31:20.373857Z"
    },
    "papermill": {
     "duration": 0.039072,
     "end_time": "2023-08-02T15:31:20.376680",
     "exception": false,
     "start_time": "2023-08-02T15:31:20.337608",
     "status": "completed"
    },
    "tags": []
   },
   "outputs": [],
   "source": [
    "# with open(\"/kaggle/working/PaddleSeg/glomerulus_dataset/labels.txt\") as file:\n",
    "#     print(file.read())"
   ]
  },
  {
   "cell_type": "code",
   "execution_count": 58,
   "id": "b81085fe",
   "metadata": {
    "execution": {
     "iopub.execute_input": "2023-08-02T15:31:20.442334Z",
     "iopub.status.busy": "2023-08-02T15:31:20.441705Z",
     "iopub.status.idle": "2023-08-02T15:31:20.447812Z",
     "shell.execute_reply": "2023-08-02T15:31:20.446380Z"
    },
    "papermill": {
     "duration": 0.041929,
     "end_time": "2023-08-02T15:31:20.450166",
     "exception": false,
     "start_time": "2023-08-02T15:31:20.408237",
     "status": "completed"
    },
    "tags": []
   },
   "outputs": [],
   "source": [
    "# os.chdir(\"/kaggle/working/PaddleSeg/configs/\")\n",
    "\n",
    "# if not os.path.exists(\"/kaggle/working/PaddleSeg/configs/glomerulus_dataset\"):\n",
    "#     os.mkdir(\"/kaggle/working/PaddleSeg/configs/glomerulus_dataset\")\n",
    "    \n",
    "# os.chdir(\"/kaggle/working/PaddleSeg/configs/glomerulus_dataset/\")\n",
    "\n",
    "# with open('glomerulus_config_512x512_1k.yml', 'w') as f:\n",
    "#     f.write(\"batch_size: 4\\n\")\n",
    "#     f.write(\"iters: 1000\\n\")\n",
    "#     f.write(\"\\n\")\n",
    "#     f.write(\"train_dataset:\\n\")\n",
    "#     f.write(\"  type: Dataset\\n\")\n",
    "#     f.write(\"  dataset_root: glomerulus_dataset\\n\")\n",
    "#     f.write(\"  train_path: glomerulus_dataset/train.txt\\n\")\n",
    "#     f.write(\"  num_classes: 2\\n\")\n",
    "#     f.write(\"  mode: train\\n\")\n",
    "#     f.write(\"  transforms:\\n    - type: ResizeStepScaling\\n      min_scale_factor: 0.5\\n      max_scale_factor: 2.0\\n      scale_step_size: 0.25\\n    - type: RandomPaddingCrop\\n      crop_size: [512, 512]\\n    - type: RandomHorizontalFlip\\n    - type: RandomDistort\\n      brightness_range: 0.5\\n      contrast_range: 0.5\\n      saturation_range: 0.5\\n    - type: Normalize\\n\")\n",
    "#     f.write(\"\\n\")\n",
    "#     f.write(\"val_dataset:\\n\")\n",
    "#     f.write(\"  type: Dataset\\n\")\n",
    "#     f.write(\"  dataset_root: glomerulus_dataset\\n\")\n",
    "#     f.write(\"  val_path: glomerulus_dataset/val.txt\\n\")\n",
    "#     f.write(\"  num_classes: 2\\n\")\n",
    "#     f.write(\"  mode: val\\n\")\n",
    "#     f.write(\"  transforms:\\n    - type: Normalize\\n\")\n",
    "#     f.write(\"\\n\")\n",
    "#     f.write(\"optimizer:\\n  type: SGD\\n  momentum: 0.9\\n  weight_decay: 4.0e-5\\n\\n\")\n",
    "#     f.write(\"lr_scheduler:\\n  type: PolynomialDecay\\n  learning_rate: 0.01\\n  end_lr: 0\\n  power: 0.9\\n\\n\")\n",
    "#     f.write(\"loss:\\n  types:\\n    - type: CrossEntropyLoss\\n  coef: [1, 1, 1]\\n\\n\")\n",
    "#     f.write(\"model:\\n  type: PPLiteSeg\\n  backbone:\\n    type: STDC2\\n    pretrained: https://bj.bcebos.com/paddleseg/dygraph/PP_STDCNet2.tar.gz\\n\\n\")\n",
    "    \n",
    "# # !ls\n",
    "# os.chdir(\"/kaggle/working/PaddleSeg\")"
   ]
  },
  {
   "cell_type": "code",
   "execution_count": 59,
   "id": "4fe7a900",
   "metadata": {
    "execution": {
     "iopub.execute_input": "2023-08-02T15:31:20.515101Z",
     "iopub.status.busy": "2023-08-02T15:31:20.514704Z",
     "iopub.status.idle": "2023-08-02T15:31:20.518861Z",
     "shell.execute_reply": "2023-08-02T15:31:20.517838Z"
    },
    "papermill": {
     "duration": 0.039199,
     "end_time": "2023-08-02T15:31:20.520911",
     "exception": false,
     "start_time": "2023-08-02T15:31:20.481712",
     "status": "completed"
    },
    "tags": []
   },
   "outputs": [],
   "source": [
    "# with open(\"/kaggle/working/PaddleSeg/configs/glomerulus_dataset/glomerulus_config_512x512_1k.yml\") as file:\n",
    "#     print(file.read())"
   ]
  },
  {
   "cell_type": "code",
   "execution_count": 60,
   "id": "d33b9571",
   "metadata": {
    "execution": {
     "iopub.execute_input": "2023-08-02T15:31:20.586195Z",
     "iopub.status.busy": "2023-08-02T15:31:20.585837Z",
     "iopub.status.idle": "2023-08-02T15:31:20.589771Z",
     "shell.execute_reply": "2023-08-02T15:31:20.588697Z"
    },
    "papermill": {
     "duration": 0.039336,
     "end_time": "2023-08-02T15:31:20.591818",
     "exception": false,
     "start_time": "2023-08-02T15:31:20.552482",
     "status": "completed"
    },
    "tags": []
   },
   "outputs": [],
   "source": [
    "# with open(\"/kaggle/working/PaddleSeg/configs/quick_start/pp_liteseg_optic_disc_512x512_1k.yml\") as file:\n",
    "#     print(file.read())"
   ]
  },
  {
   "cell_type": "markdown",
   "id": "a7f43512",
   "metadata": {
    "papermill": {
     "duration": 0.031762,
     "end_time": "2023-08-02T15:31:20.655106",
     "exception": false,
     "start_time": "2023-08-02T15:31:20.623344",
     "status": "completed"
    },
    "tags": []
   },
   "source": [
    "<a id=\"2.4\"></a>\n",
    "## <div style=\"box-shadow: rgba(0, 0, 0, 0.18) 0px 2px 4px inset; padding:20px; font-size:24px; font-family: consolas; text-align:center; display:fill; border-radius:15px; color:rgb(67, 66, 66)\"> <b> 2.4 Train Model 1</b></div>"
   ]
  },
  {
   "cell_type": "code",
   "execution_count": 61,
   "id": "080b6237",
   "metadata": {
    "execution": {
     "iopub.execute_input": "2023-08-02T15:31:20.720396Z",
     "iopub.status.busy": "2023-08-02T15:31:20.720019Z",
     "iopub.status.idle": "2023-08-02T15:31:20.724187Z",
     "shell.execute_reply": "2023-08-02T15:31:20.723118Z"
    },
    "papermill": {
     "duration": 0.039047,
     "end_time": "2023-08-02T15:31:20.726114",
     "exception": false,
     "start_time": "2023-08-02T15:31:20.687067",
     "status": "completed"
    },
    "tags": []
   },
   "outputs": [],
   "source": [
    "# # !export CUDA_VISIBLE_DEVICES=0 # Set 1 usable card\n",
    "\n",
    "# !python tools/train.py \\\n",
    "#         --config configs/glomerulus_dataset/glomerulus_config_512x512_1k.yml \\\n",
    "#         --do_eval \\\n",
    "#         --use_vdl \\\n",
    "#         --save_interval 500 \\\n",
    "#         --save_dir output"
   ]
  },
  {
   "cell_type": "code",
   "execution_count": 62,
   "id": "9197c004",
   "metadata": {
    "execution": {
     "iopub.execute_input": "2023-08-02T15:31:20.791666Z",
     "iopub.status.busy": "2023-08-02T15:31:20.790713Z",
     "iopub.status.idle": "2023-08-02T15:31:20.795086Z",
     "shell.execute_reply": "2023-08-02T15:31:20.794210Z"
    },
    "papermill": {
     "duration": 0.039586,
     "end_time": "2023-08-02T15:31:20.797268",
     "exception": false,
     "start_time": "2023-08-02T15:31:20.757682",
     "status": "completed"
    },
    "tags": []
   },
   "outputs": [],
   "source": [
    "# # Export the model\n",
    "# !python tools/export.py \\\n",
    "#        --config configs/glomerulus_dataset/glomerulus_config_512x512_1k.yml \\\n",
    "#        --model_path output/iter_1000/model.pdparams"
   ]
  },
  {
   "cell_type": "code",
   "execution_count": 63,
   "id": "e51a049e",
   "metadata": {
    "execution": {
     "iopub.execute_input": "2023-08-02T15:31:20.862876Z",
     "iopub.status.busy": "2023-08-02T15:31:20.862270Z",
     "iopub.status.idle": "2023-08-02T15:31:20.866539Z",
     "shell.execute_reply": "2023-08-02T15:31:20.865708Z"
    },
    "papermill": {
     "duration": 0.039366,
     "end_time": "2023-08-02T15:31:20.868595",
     "exception": false,
     "start_time": "2023-08-02T15:31:20.829229",
     "status": "completed"
    },
    "tags": []
   },
   "outputs": [],
   "source": [
    "# Save all files / trained model\n",
    "# os.chdir(\"/kaggle/working/PaddleSeg\")\n",
    "# zip_dir(file_name = 'PaddleSeg.zip')"
   ]
  },
  {
   "cell_type": "code",
   "execution_count": 64,
   "id": "3137e8c7",
   "metadata": {
    "execution": {
     "iopub.execute_input": "2023-08-02T15:31:20.934526Z",
     "iopub.status.busy": "2023-08-02T15:31:20.933915Z",
     "iopub.status.idle": "2023-08-02T15:31:25.229050Z",
     "shell.execute_reply": "2023-08-02T15:31:25.227968Z"
    },
    "papermill": {
     "duration": 4.331247,
     "end_time": "2023-08-02T15:31:25.231418",
     "exception": false,
     "start_time": "2023-08-02T15:31:20.900171",
     "status": "completed"
    },
    "tags": []
   },
   "outputs": [
    {
     "data": {
      "text/plain": [
       "'/kaggle/working/PaddleSeg/output'"
      ]
     },
     "execution_count": 64,
     "metadata": {},
     "output_type": "execute_result"
    }
   ],
   "source": [
    "#Instead of re-training the model, load it from computer in model-folder\n",
    "# !rm -r /kaggle/working/PaddleSeg/output\n",
    "# !cp -r /kaggle/input/model-folder/output /kaggle/working/PaddleSeg/\n",
    "shutil.copytree(\"/kaggle/input/model-folder/output\", \"/kaggle/working/PaddleSeg/output\")"
   ]
  },
  {
   "cell_type": "code",
   "execution_count": 65,
   "id": "49a71fab",
   "metadata": {
    "execution": {
     "iopub.execute_input": "2023-08-02T15:31:25.296650Z",
     "iopub.status.busy": "2023-08-02T15:31:25.295946Z",
     "iopub.status.idle": "2023-08-02T15:31:25.300751Z",
     "shell.execute_reply": "2023-08-02T15:31:25.299829Z"
    },
    "papermill": {
     "duration": 0.0397,
     "end_time": "2023-08-02T15:31:25.302920",
     "exception": false,
     "start_time": "2023-08-02T15:31:25.263220",
     "status": "completed"
    },
    "tags": []
   },
   "outputs": [],
   "source": [
    "# # Predict and vizualize as an example\n",
    "# !python tools/predict.py \\\n",
    "#         --config configs/glomerulus_dataset/glomerulus_config_512x512_1k.yml \\\n",
    "#         --model_path output/iter_1000/model.pdparams \\\n",
    "#         --image_path glomerulus_dataset/images/image_0006ff2aa7cd.jpg \\\n",
    "#         --save_dir output/result"
   ]
  },
  {
   "cell_type": "code",
   "execution_count": 66,
   "id": "1d52c8fa",
   "metadata": {
    "execution": {
     "iopub.execute_input": "2023-08-02T15:31:25.368019Z",
     "iopub.status.busy": "2023-08-02T15:31:25.367307Z",
     "iopub.status.idle": "2023-08-02T15:31:25.371527Z",
     "shell.execute_reply": "2023-08-02T15:31:25.370846Z"
    },
    "papermill": {
     "duration": 0.038857,
     "end_time": "2023-08-02T15:31:25.373466",
     "exception": false,
     "start_time": "2023-08-02T15:31:25.334609",
     "status": "completed"
    },
    "tags": []
   },
   "outputs": [],
   "source": [
    "# plot_annotated_image(tiles_dicts[0])"
   ]
  },
  {
   "cell_type": "code",
   "execution_count": 67,
   "id": "afb085d2",
   "metadata": {
    "execution": {
     "iopub.execute_input": "2023-08-02T15:31:25.438110Z",
     "iopub.status.busy": "2023-08-02T15:31:25.437408Z",
     "iopub.status.idle": "2023-08-02T15:31:25.441690Z",
     "shell.execute_reply": "2023-08-02T15:31:25.440948Z"
    },
    "papermill": {
     "duration": 0.039218,
     "end_time": "2023-08-02T15:31:25.443758",
     "exception": false,
     "start_time": "2023-08-02T15:31:25.404540",
     "status": "completed"
    },
    "tags": []
   },
   "outputs": [],
   "source": [
    "# img = mpimg.imread('/kaggle/working/PaddleSeg/glomerulus_dataset/images/image_0006ff2aa7cd.jpg')\n",
    "# imgplot = plt.imshow(img)\n",
    "# plt.show()"
   ]
  },
  {
   "cell_type": "code",
   "execution_count": 68,
   "id": "eec2d39a",
   "metadata": {
    "execution": {
     "iopub.execute_input": "2023-08-02T15:31:25.509502Z",
     "iopub.status.busy": "2023-08-02T15:31:25.508758Z",
     "iopub.status.idle": "2023-08-02T15:31:25.513452Z",
     "shell.execute_reply": "2023-08-02T15:31:25.512497Z"
    },
    "papermill": {
     "duration": 0.039654,
     "end_time": "2023-08-02T15:31:25.515534",
     "exception": false,
     "start_time": "2023-08-02T15:31:25.475880",
     "status": "completed"
    },
    "tags": []
   },
   "outputs": [],
   "source": [
    "# img = mpimg.imread('/kaggle/working/PaddleSeg/output/result/added_prediction/image_0006ff2aa7cd.jpg')\n",
    "# imgplot = plt.imshow(img)\n",
    "# plt.show()"
   ]
  },
  {
   "cell_type": "markdown",
   "id": "74c5836f",
   "metadata": {
    "papermill": {
     "duration": 0.030928,
     "end_time": "2023-08-02T15:31:25.577642",
     "exception": false,
     "start_time": "2023-08-02T15:31:25.546714",
     "status": "completed"
    },
    "tags": []
   },
   "source": [
    "<a id=\"2.5\"></a>\n",
    "## <div style=\"box-shadow: rgba(0, 0, 0, 0.18) 0px 2px 4px inset; padding:20px; font-size:24px; font-family: consolas; text-align:center; display:fill; border-radius:15px; color:rgb(67, 66, 66)\"> <b> 2.5 Model 2</b></div>"
   ]
  },
  {
   "cell_type": "code",
   "execution_count": 69,
   "id": "7800b02b",
   "metadata": {
    "execution": {
     "iopub.execute_input": "2023-08-02T15:31:25.642491Z",
     "iopub.status.busy": "2023-08-02T15:31:25.641764Z",
     "iopub.status.idle": "2023-08-02T15:31:25.647138Z",
     "shell.execute_reply": "2023-08-02T15:31:25.646138Z"
    },
    "papermill": {
     "duration": 0.039984,
     "end_time": "2023-08-02T15:31:25.649224",
     "exception": false,
     "start_time": "2023-08-02T15:31:25.609240",
     "status": "completed"
    },
    "tags": []
   },
   "outputs": [],
   "source": [
    "# Do same file prep as for model 1\n",
    "\n",
    "# # Create required folders\n",
    "# folder_name = \"vessel_dataset\"\n",
    "# if not os.path.exists(f\"/kaggle/working/PaddleSeg/{folder_name}\"):\n",
    "#     os.mkdir(f\"/kaggle/working/PaddleSeg/{folder_name}\")\n",
    "# if not os.path.exists(f\"/kaggle/working/PaddleSeg/{folder_name}/images\"):\n",
    "#     os.mkdir(f\"/kaggle/working/PaddleSeg/{folder_name}/images\")\n",
    "# if not os.path.exists(f\"/kaggle/working/PaddleSeg/{folder_name}/labels\"):\n",
    "#     os.mkdir(f\"/kaggle/working/PaddleSeg/{folder_name}/labels\")\n",
    "    \n",
    "# base_path = f\"/kaggle/working/PaddleSeg/{folder_name}/\"\n",
    "# path_images = \"images/\"\n",
    "# path_labels = \"labels/\"\n",
    "# target_type = 'blood_vessel'\n",
    "\n",
    "# files = ['train.txt', 'test.txt', 'val.txt']\n",
    "\n",
    "# for tile in tiles_dicts:\n",
    "#     # Save annotated images in custom_dataset/images\n",
    "#     save_tiff_as_jpg(tile, base_path + path_images)\n",
    "#     # Save labels as png in custom_dataset/labels\n",
    "#     save_polygon_as_png(tile, base_path + path_labels, target_type)\n",
    "    \n",
    "#     # Save txt description files\n",
    "#     # First, determine source dataset\n",
    "#     dataset_id = tile_meta_df[tile_meta_df.id == tile[\"id\"]]['dataset'].values \n",
    "#     # All of dataset 2 is assigned to train\n",
    "#     # Dataset 1 is split 1:1:1 in train, test and val\n",
    "#     text = path_images + f'image_{tile[\"id\"]}.jpg' + ' ' + path_labels + f'{target_type}_{tile[\"id\"]}.png \\n'\n",
    "    \n",
    "#     if dataset_id == 2:\n",
    "#         # All of dataset 2 is assigned to train\n",
    "#         with open(base_path + 'train.txt', 'a') as f:\n",
    "#             f.write(text)\n",
    "#     else:\n",
    "#         # Dataset 1 is split 1:1:1 in train, test and val\n",
    "#         with open(base_path + random.choice(files), 'a') as f:\n",
    "#             f.write(text)"
   ]
  },
  {
   "cell_type": "code",
   "execution_count": 70,
   "id": "5a6d0e50",
   "metadata": {
    "execution": {
     "iopub.execute_input": "2023-08-02T15:31:25.715068Z",
     "iopub.status.busy": "2023-08-02T15:31:25.714689Z",
     "iopub.status.idle": "2023-08-02T15:31:25.718950Z",
     "shell.execute_reply": "2023-08-02T15:31:25.717952Z"
    },
    "papermill": {
     "duration": 0.038984,
     "end_time": "2023-08-02T15:31:25.721030",
     "exception": false,
     "start_time": "2023-08-02T15:31:25.682046",
     "status": "completed"
    },
    "tags": []
   },
   "outputs": [],
   "source": [
    "# img = mpimg.imread(f'/kaggle/working/PaddleSeg/{folder_name}/images/image_0006ff2aa7cd.jpg')\n",
    "# imgplot = plt.imshow(img)\n",
    "# plt.show()"
   ]
  },
  {
   "cell_type": "code",
   "execution_count": 71,
   "id": "3db27f4d",
   "metadata": {
    "execution": {
     "iopub.execute_input": "2023-08-02T15:31:25.785763Z",
     "iopub.status.busy": "2023-08-02T15:31:25.785402Z",
     "iopub.status.idle": "2023-08-02T15:31:25.790195Z",
     "shell.execute_reply": "2023-08-02T15:31:25.789096Z"
    },
    "papermill": {
     "duration": 0.03955,
     "end_time": "2023-08-02T15:31:25.792314",
     "exception": false,
     "start_time": "2023-08-02T15:31:25.752764",
     "status": "completed"
    },
    "tags": []
   },
   "outputs": [],
   "source": [
    "# img = mpimg.imread(f'/kaggle/working/PaddleSeg/{folder_name}/labels/blood_vessel_0006ff2aa7cd.png')\n",
    "# plt.imshow(img,cmap='Greys')\n",
    "# plt.show()"
   ]
  },
  {
   "cell_type": "code",
   "execution_count": 72,
   "id": "bf5ad4f0",
   "metadata": {
    "execution": {
     "iopub.execute_input": "2023-08-02T15:31:25.857872Z",
     "iopub.status.busy": "2023-08-02T15:31:25.856672Z",
     "iopub.status.idle": "2023-08-02T15:31:25.863629Z",
     "shell.execute_reply": "2023-08-02T15:31:25.862739Z"
    },
    "papermill": {
     "duration": 0.041869,
     "end_time": "2023-08-02T15:31:25.865889",
     "exception": false,
     "start_time": "2023-08-02T15:31:25.824020",
     "status": "completed"
    },
    "tags": []
   },
   "outputs": [],
   "source": [
    "# # Create config file\n",
    "# os.chdir(f\"/kaggle/working/PaddleSeg/{folder_name}/\")\n",
    "# with open('labels.txt', 'w') as f:\n",
    "#     f.write(\"background\\n\")\n",
    "#     f.write(\"blood_vessel\")\n",
    "    \n",
    "# os.chdir(\"/kaggle/working/PaddleSeg/configs/\")\n",
    "\n",
    "# if not os.path.exists(f\"/kaggle/working/PaddleSeg/configs/{folder_name}\"):\n",
    "#     os.mkdir(f\"/kaggle/working/PaddleSeg/configs/{folder_name}\")\n",
    "    \n",
    "# os.chdir(f\"/kaggle/working/PaddleSeg/configs/{folder_name}/\")\n",
    "\n",
    "# with open('vessel_config_512x512_1k.yml', 'w') as f:\n",
    "#     f.write(\"batch_size: 4\\n\")\n",
    "#     f.write(\"iters: 1000\\n\")\n",
    "#     f.write(\"\\n\")\n",
    "#     f.write(\"train_dataset:\\n\")\n",
    "#     f.write(\"  type: Dataset\\n\")\n",
    "#     f.write(f\"  dataset_root: {folder_name}\\n\")\n",
    "#     f.write(f\"  train_path: {folder_name}/train.txt\\n\")\n",
    "#     f.write(\"  num_classes: 2\\n\")\n",
    "#     f.write(\"  mode: train\\n\")\n",
    "#     f.write(\"  transforms:\\n    - type: ResizeStepScaling\\n      min_scale_factor: 0.5\\n      max_scale_factor: 2.0\\n      scale_step_size: 0.25\\n    - type: RandomPaddingCrop\\n      crop_size: [512, 512]\\n    - type: RandomHorizontalFlip\\n    - type: RandomDistort\\n      brightness_range: 0.5\\n      contrast_range: 0.5\\n      saturation_range: 0.5\\n    - type: Normalize\\n\")\n",
    "#     f.write(\"\\n\")\n",
    "#     f.write(\"val_dataset:\\n\")\n",
    "#     f.write(\"  type: Dataset\\n\")\n",
    "#     f.write(f\"  dataset_root: {folder_name}\\n\")\n",
    "#     f.write(f\"  val_path: {folder_name}/val.txt\\n\")\n",
    "#     f.write(\"  num_classes: 2\\n\")\n",
    "#     f.write(\"  mode: val\\n\")\n",
    "#     f.write(\"  transforms:\\n    - type: Normalize\\n\")\n",
    "#     f.write(\"\\n\")\n",
    "#     f.write(\"optimizer:\\n  type: SGD\\n  momentum: 0.9\\n  weight_decay: 4.0e-5\\n\\n\")\n",
    "#     f.write(\"lr_scheduler:\\n  type: PolynomialDecay\\n  learning_rate: 0.01\\n  end_lr: 0\\n  power: 0.9\\n\\n\")\n",
    "#     f.write(\"loss:\\n  types:\\n    - type: CrossEntropyLoss\\n  coef: [1, 1, 1]\\n\\n\")\n",
    "#     f.write(\"model:\\n  type: PPLiteSeg\\n  backbone:\\n    type: STDC2\\n    pretrained: https://bj.bcebos.com/paddleseg/dygraph/PP_STDCNet2.tar.gz\\n\\n\")\n",
    "    \n",
    "# # !ls\n",
    "# os.chdir(\"/kaggle/working/PaddleSeg\")"
   ]
  },
  {
   "cell_type": "code",
   "execution_count": 73,
   "id": "db5de8b4",
   "metadata": {
    "execution": {
     "iopub.execute_input": "2023-08-02T15:31:25.930549Z",
     "iopub.status.busy": "2023-08-02T15:31:25.930191Z",
     "iopub.status.idle": "2023-08-02T15:31:25.935967Z",
     "shell.execute_reply": "2023-08-02T15:31:25.934587Z"
    },
    "papermill": {
     "duration": 0.040952,
     "end_time": "2023-08-02T15:31:25.938479",
     "exception": false,
     "start_time": "2023-08-02T15:31:25.897527",
     "status": "completed"
    },
    "tags": []
   },
   "outputs": [],
   "source": [
    "# # Train the model\n",
    "# !python tools/train.py \\\n",
    "#         --config configs/vessel_dataset/vessel_config_512x512_1k.yml \\\n",
    "#         --do_eval \\\n",
    "#         --use_vdl \\\n",
    "#         --save_interval 500 \\\n",
    "#         --save_dir vessel_output"
   ]
  },
  {
   "cell_type": "code",
   "execution_count": 74,
   "id": "ef7c7733",
   "metadata": {
    "execution": {
     "iopub.execute_input": "2023-08-02T15:31:26.003966Z",
     "iopub.status.busy": "2023-08-02T15:31:26.003140Z",
     "iopub.status.idle": "2023-08-02T15:31:26.007713Z",
     "shell.execute_reply": "2023-08-02T15:31:26.007001Z"
    },
    "papermill": {
     "duration": 0.03906,
     "end_time": "2023-08-02T15:31:26.009727",
     "exception": false,
     "start_time": "2023-08-02T15:31:25.970667",
     "status": "completed"
    },
    "tags": []
   },
   "outputs": [],
   "source": [
    "# # Export the model\n",
    "# !python tools/export.py \\\n",
    "#        --config configs/vessel_dataset/vessel_config_512x512_1k.yml \\\n",
    "#        --model_path vessel_output/iter_1000/model.pdparams"
   ]
  },
  {
   "cell_type": "code",
   "execution_count": 75,
   "id": "89afd751",
   "metadata": {
    "execution": {
     "iopub.execute_input": "2023-08-02T15:31:26.074590Z",
     "iopub.status.busy": "2023-08-02T15:31:26.073572Z",
     "iopub.status.idle": "2023-08-02T15:31:29.162654Z",
     "shell.execute_reply": "2023-08-02T15:31:29.161460Z"
    },
    "papermill": {
     "duration": 3.123866,
     "end_time": "2023-08-02T15:31:29.165012",
     "exception": false,
     "start_time": "2023-08-02T15:31:26.041146",
     "status": "completed"
    },
    "tags": []
   },
   "outputs": [
    {
     "data": {
      "text/plain": [
       "'/kaggle/working/PaddleSeg/vessel_output'"
      ]
     },
     "execution_count": 75,
     "metadata": {},
     "output_type": "execute_result"
    }
   ],
   "source": [
    "#Instead of re-training the model, load it from computer in model-folder\n",
    "# !rm -r /kaggle/working/PaddleSeg/vessel_output\n",
    "# !cp -r /kaggle/input/vessel-folder/vessel_output /kaggle/working/PaddleSeg/\n",
    "shutil.copytree(\"/kaggle/input/vessel-folder/vessel_output\", \"/kaggle/working/PaddleSeg/vessel_output\")"
   ]
  },
  {
   "cell_type": "code",
   "execution_count": 76,
   "id": "7c0a3bee",
   "metadata": {
    "execution": {
     "iopub.execute_input": "2023-08-02T15:31:29.230064Z",
     "iopub.status.busy": "2023-08-02T15:31:29.229447Z",
     "iopub.status.idle": "2023-08-02T15:31:29.819095Z",
     "shell.execute_reply": "2023-08-02T15:31:29.817990Z"
    },
    "papermill": {
     "duration": 0.624737,
     "end_time": "2023-08-02T15:31:29.821373",
     "exception": false,
     "start_time": "2023-08-02T15:31:29.196636",
     "status": "completed"
    },
    "tags": []
   },
   "outputs": [
    {
     "data": {
      "text/plain": [
       "'/kaggle/working/PaddleSeg/vessel_output/vessel_inference'"
      ]
     },
     "execution_count": 76,
     "metadata": {},
     "output_type": "execute_result"
    }
   ],
   "source": [
    "#Instead of re-training the model, load it from computer in model-folder\n",
    "# !cp -r /kaggle/input/vessel-inference/vessel_inference /kaggle/working/PaddleSeg/vessel_output\n",
    "shutil.copytree(\"/kaggle/input/vessel-inference/vessel_inference\", \"/kaggle/working/PaddleSeg/vessel_output/vessel_inference\")"
   ]
  },
  {
   "cell_type": "code",
   "execution_count": 77,
   "id": "65589fc2",
   "metadata": {
    "execution": {
     "iopub.execute_input": "2023-08-02T15:31:29.885605Z",
     "iopub.status.busy": "2023-08-02T15:31:29.885229Z",
     "iopub.status.idle": "2023-08-02T15:31:29.889697Z",
     "shell.execute_reply": "2023-08-02T15:31:29.888673Z"
    },
    "papermill": {
     "duration": 0.039103,
     "end_time": "2023-08-02T15:31:29.891933",
     "exception": false,
     "start_time": "2023-08-02T15:31:29.852830",
     "status": "completed"
    },
    "tags": []
   },
   "outputs": [],
   "source": [
    "# # Predict and vizualize as an example\n",
    "# !python tools/predict.py \\\n",
    "#         --config configs/vessel_dataset/vessel_config_512x512_1k.yml \\\n",
    "#         --model_path vessel_output/iter_1000/model.pdparams \\\n",
    "#         --image_path vessel_dataset/images/image_0006ff2aa7cd.jpg \\\n",
    "#         --save_dir vessel_output/result"
   ]
  },
  {
   "cell_type": "code",
   "execution_count": 78,
   "id": "0f4f4266",
   "metadata": {
    "execution": {
     "iopub.execute_input": "2023-08-02T15:31:29.957460Z",
     "iopub.status.busy": "2023-08-02T15:31:29.957079Z",
     "iopub.status.idle": "2023-08-02T15:31:29.962277Z",
     "shell.execute_reply": "2023-08-02T15:31:29.961486Z"
    },
    "papermill": {
     "duration": 0.04085,
     "end_time": "2023-08-02T15:31:29.964379",
     "exception": false,
     "start_time": "2023-08-02T15:31:29.923529",
     "status": "completed"
    },
    "tags": []
   },
   "outputs": [],
   "source": [
    "# plot_annotated_image(tiles_dicts[0])"
   ]
  },
  {
   "cell_type": "code",
   "execution_count": 79,
   "id": "fce0b852",
   "metadata": {
    "execution": {
     "iopub.execute_input": "2023-08-02T15:31:30.029923Z",
     "iopub.status.busy": "2023-08-02T15:31:30.028810Z",
     "iopub.status.idle": "2023-08-02T15:31:30.033489Z",
     "shell.execute_reply": "2023-08-02T15:31:30.032762Z"
    },
    "papermill": {
     "duration": 0.039186,
     "end_time": "2023-08-02T15:31:30.035442",
     "exception": false,
     "start_time": "2023-08-02T15:31:29.996256",
     "status": "completed"
    },
    "tags": []
   },
   "outputs": [],
   "source": [
    "# img = mpimg.imread(f'/kaggle/working/PaddleSeg/{folder_name}/images/image_0006ff2aa7cd.jpg')\n",
    "# imgplot = plt.imshow(img)\n",
    "# plt.show()"
   ]
  },
  {
   "cell_type": "code",
   "execution_count": 80,
   "id": "4b44b259",
   "metadata": {
    "execution": {
     "iopub.execute_input": "2023-08-02T15:31:30.100638Z",
     "iopub.status.busy": "2023-08-02T15:31:30.099932Z",
     "iopub.status.idle": "2023-08-02T15:31:30.104643Z",
     "shell.execute_reply": "2023-08-02T15:31:30.103734Z"
    },
    "papermill": {
     "duration": 0.039981,
     "end_time": "2023-08-02T15:31:30.106822",
     "exception": false,
     "start_time": "2023-08-02T15:31:30.066841",
     "status": "completed"
    },
    "tags": []
   },
   "outputs": [],
   "source": [
    "# img = mpimg.imread('/kaggle/working/PaddleSeg/vessel_output/result/added_prediction/image_0006ff2aa7cd.jpg')\n",
    "# imgplot = plt.imshow(img)\n",
    "# plt.show()"
   ]
  },
  {
   "cell_type": "code",
   "execution_count": 81,
   "id": "57d540a9",
   "metadata": {
    "execution": {
     "iopub.execute_input": "2023-08-02T15:31:30.171686Z",
     "iopub.status.busy": "2023-08-02T15:31:30.171340Z",
     "iopub.status.idle": "2023-08-02T15:31:30.175301Z",
     "shell.execute_reply": "2023-08-02T15:31:30.174253Z"
    },
    "papermill": {
     "duration": 0.039379,
     "end_time": "2023-08-02T15:31:30.177687",
     "exception": false,
     "start_time": "2023-08-02T15:31:30.138308",
     "status": "completed"
    },
    "tags": []
   },
   "outputs": [],
   "source": [
    "# # # Save trained model\n",
    "# os.chdir(\"/kaggle/working\")\n",
    "# # zip_dir(file_name = 'vessel_output.zip')\n",
    "# !zip -r PaddleSeg.zip \"/kaggle/working/PaddleSeg\"\n",
    "# os.chdir(\"/kaggle/working/PaddleSeg\")"
   ]
  },
  {
   "cell_type": "code",
   "execution_count": 82,
   "id": "a207da52",
   "metadata": {
    "execution": {
     "iopub.execute_input": "2023-08-02T15:31:30.242460Z",
     "iopub.status.busy": "2023-08-02T15:31:30.242067Z",
     "iopub.status.idle": "2023-08-02T15:31:30.246623Z",
     "shell.execute_reply": "2023-08-02T15:31:30.245577Z"
    },
    "papermill": {
     "duration": 0.039283,
     "end_time": "2023-08-02T15:31:30.248602",
     "exception": false,
     "start_time": "2023-08-02T15:31:30.209319",
     "status": "completed"
    },
    "tags": []
   },
   "outputs": [],
   "source": [
    "# # Save inference model\n",
    "# os.chdir(\"/kaggle/working/PaddleSeg/output/inference_model\")\n",
    "# zip_dir(file_name = 'vessel_inference.zip')\n",
    "# !zip -r vessel_inference.zip \"/kaggle/working/PaddleSeg/output/inference_model\""
   ]
  },
  {
   "cell_type": "markdown",
   "id": "6f26fd6e",
   "metadata": {
    "papermill": {
     "duration": 0.031366,
     "end_time": "2023-08-02T15:31:30.313867",
     "exception": false,
     "start_time": "2023-08-02T15:31:30.282501",
     "status": "completed"
    },
    "tags": []
   },
   "source": [
    "# <center style=\"font-family: consolas; font-size: 32px; font-weight: bold;\"> Part 3 - Model deployment</center>\n"
   ]
  },
  {
   "cell_type": "markdown",
   "id": "f44603b3",
   "metadata": {
    "papermill": {
     "duration": 0.031168,
     "end_time": "2023-08-02T15:31:30.377129",
     "exception": false,
     "start_time": "2023-08-02T15:31:30.345961",
     "status": "completed"
    },
    "tags": []
   },
   "source": [
    "<a id=\"3.1\"></a>\n",
    "## <div style=\"box-shadow: rgba(0, 0, 0, 0.18) 0px 2px 4px inset; padding:20px; font-size:24px; font-family: consolas; text-align:center; display:fill; border-radius:15px; color:rgb(67, 66, 66)\"> <b> 3.1 Deploy Models 1 & 2</b></div>"
   ]
  },
  {
   "cell_type": "code",
   "execution_count": 83,
   "id": "9d496b5f",
   "metadata": {
    "execution": {
     "iopub.execute_input": "2023-08-02T15:31:30.441705Z",
     "iopub.status.busy": "2023-08-02T15:31:30.441337Z",
     "iopub.status.idle": "2023-08-02T15:31:30.446652Z",
     "shell.execute_reply": "2023-08-02T15:31:30.445563Z"
    },
    "papermill": {
     "duration": 0.040101,
     "end_time": "2023-08-02T15:31:30.448708",
     "exception": false,
     "start_time": "2023-08-02T15:31:30.408607",
     "status": "completed"
    },
    "tags": []
   },
   "outputs": [],
   "source": [
    "def save_test_tiff_as_jpg(input_path, output_path) -> None:\n",
    "    array = tiff.imread(input_path)\n",
    "    img_example = Image.fromarray(array)\n",
    "    file_id = input_path.split('/')[-1].split('.')[0]\n",
    "    output_path = output_path + f'image_{file_id}.jpg'\n",
    "    img_example.save(output_path)"
   ]
  },
  {
   "cell_type": "code",
   "execution_count": 84,
   "id": "f7e71214",
   "metadata": {
    "execution": {
     "iopub.execute_input": "2023-08-02T15:31:30.513807Z",
     "iopub.status.busy": "2023-08-02T15:31:30.513428Z",
     "iopub.status.idle": "2023-08-02T15:31:30.573049Z",
     "shell.execute_reply": "2023-08-02T15:31:30.572239Z"
    },
    "papermill": {
     "duration": 0.094908,
     "end_time": "2023-08-02T15:31:30.575268",
     "exception": false,
     "start_time": "2023-08-02T15:31:30.480360",
     "status": "completed"
    },
    "tags": []
   },
   "outputs": [],
   "source": [
    "# Save test dataset in the same format\n",
    "\n",
    "# Create required folders\n",
    "folder_name = \"test_dataset\"\n",
    "if not os.path.exists(f\"/kaggle/working/PaddleSeg/{folder_name}\"):\n",
    "    os.mkdir(f\"/kaggle/working/PaddleSeg/{folder_name}\")\n",
    "if not os.path.exists(f\"/kaggle/working/PaddleSeg/{folder_name}/images\"):\n",
    "    os.mkdir(f\"/kaggle/working/PaddleSeg/{folder_name}/images\")\n",
    "    \n",
    "base_path = f\"/kaggle/working/PaddleSeg/{folder_name}/\"\n",
    "path_images = \"images/\"\n",
    "\n",
    "# n=0\n",
    "for file in glob.glob(\"/kaggle/input/hubmap-hacking-the-human-vasculature/test/*.tif\"):\n",
    "    # Save annotated images in folder_name/images\n",
    "    save_test_tiff_as_jpg(file, base_path + path_images)\n",
    "#     n=n+1\n",
    "#     if n==50:\n",
    "#         break\n"
   ]
  },
  {
   "cell_type": "code",
   "execution_count": 85,
   "id": "0ee306db",
   "metadata": {
    "execution": {
     "iopub.execute_input": "2023-08-02T15:31:30.640570Z",
     "iopub.status.busy": "2023-08-02T15:31:30.639651Z",
     "iopub.status.idle": "2023-08-02T15:31:30.643473Z",
     "shell.execute_reply": "2023-08-02T15:31:30.642762Z"
    },
    "papermill": {
     "duration": 0.038496,
     "end_time": "2023-08-02T15:31:30.645260",
     "exception": false,
     "start_time": "2023-08-02T15:31:30.606764",
     "status": "completed"
    },
    "tags": []
   },
   "outputs": [],
   "source": [
    "# !rm -r /kaggle/working/PaddleSeg/test_dataset/images\n",
    "# !rm -r /kaggle/working/PaddleSeg/glomerulus_output\n",
    "# !rm -r /kaggle/working/PaddleSeg/vessel_output\n",
    "# !rm -r /kaggle/working/PaddleSeg/combined_output"
   ]
  },
  {
   "cell_type": "code",
   "execution_count": 86,
   "id": "4f115ef5",
   "metadata": {
    "execution": {
     "iopub.execute_input": "2023-08-02T15:31:30.711450Z",
     "iopub.status.busy": "2023-08-02T15:31:30.710504Z",
     "iopub.status.idle": "2023-08-02T15:31:30.714870Z",
     "shell.execute_reply": "2023-08-02T15:31:30.713837Z"
    },
    "papermill": {
     "duration": 0.039659,
     "end_time": "2023-08-02T15:31:30.717147",
     "exception": false,
     "start_time": "2023-08-02T15:31:30.677488",
     "status": "completed"
    },
    "tags": []
   },
   "outputs": [],
   "source": [
    "# os.chdir(\"/kaggle/working/PaddleSeg/test_dataset/images\")\n",
    "# !ls\n",
    "# os.chdir(\"/kaggle/working/PaddleSeg\")"
   ]
  },
  {
   "cell_type": "code",
   "execution_count": 87,
   "id": "fdce547b",
   "metadata": {
    "execution": {
     "iopub.execute_input": "2023-08-02T15:31:30.781835Z",
     "iopub.status.busy": "2023-08-02T15:31:30.781419Z",
     "iopub.status.idle": "2023-08-02T15:31:30.786167Z",
     "shell.execute_reply": "2023-08-02T15:31:30.785114Z"
    },
    "papermill": {
     "duration": 0.03969,
     "end_time": "2023-08-02T15:31:30.788316",
     "exception": false,
     "start_time": "2023-08-02T15:31:30.748626",
     "status": "completed"
    },
    "tags": []
   },
   "outputs": [],
   "source": [
    "# # Predict and vizualize as an example\n",
    "# !python tools/predict.py \\\n",
    "#         --config configs/glomerulus_dataset/glomerulus_config_512x512_1k.yml \\\n",
    "#         --model_path output/iter_1000/model.pdparams \\\n",
    "#         --image_path test_dataset/images/image_0006ff2aa7cd.jpg \\\n",
    "#         --save_dir glomerulus_output/result"
   ]
  },
  {
   "cell_type": "code",
   "execution_count": 88,
   "id": "5a4e45b5",
   "metadata": {
    "execution": {
     "iopub.execute_input": "2023-08-02T15:31:30.853071Z",
     "iopub.status.busy": "2023-08-02T15:31:30.852676Z",
     "iopub.status.idle": "2023-08-02T15:31:30.856828Z",
     "shell.execute_reply": "2023-08-02T15:31:30.855832Z"
    },
    "papermill": {
     "duration": 0.038875,
     "end_time": "2023-08-02T15:31:30.859030",
     "exception": false,
     "start_time": "2023-08-02T15:31:30.820155",
     "status": "completed"
    },
    "tags": []
   },
   "outputs": [],
   "source": [
    "# img = mpimg.imread('/kaggle/working/PaddleSeg/glomerulus_output/result/added_prediction/image_0006ff2aa7cd.jpg')\n",
    "# imgplot = plt.imshow(img)\n",
    "# plt.show()"
   ]
  },
  {
   "cell_type": "code",
   "execution_count": 89,
   "id": "ae7a83bc",
   "metadata": {
    "execution": {
     "iopub.execute_input": "2023-08-02T15:31:30.924019Z",
     "iopub.status.busy": "2023-08-02T15:31:30.923431Z",
     "iopub.status.idle": "2023-08-02T15:31:34.805620Z",
     "shell.execute_reply": "2023-08-02T15:31:34.804846Z"
    },
    "papermill": {
     "duration": 3.917501,
     "end_time": "2023-08-02T15:31:34.808085",
     "exception": false,
     "start_time": "2023-08-02T15:31:30.890584",
     "status": "completed"
    },
    "tags": []
   },
   "outputs": [
    {
     "name": "stderr",
     "output_type": "stream",
     "text": [
      "/opt/conda/lib/python3.10/site-packages/scipy/__init__.py:146: UserWarning: A NumPy version >=1.16.5 and <1.23.0 is required for this version of SciPy (detected version 1.23.5\n",
      "  warnings.warn(f\"A NumPy version >={np_minversion} and <{np_maxversion}\"\n"
     ]
    },
    {
     "name": "stdout",
     "output_type": "stream",
     "text": [
      "2023-08-02 15:31:33 [INFO]\tUse GPU\n"
     ]
    },
    {
     "name": "stderr",
     "output_type": "stream",
     "text": [
      "E0802 15:31:33.337492   112 analysis_config.cc:110] Please use PaddlePaddle with GPU version.\n",
      "\u001b[1m\u001b[35m--- Running analysis [ir_graph_build_pass]\u001b[0m\n",
      "\u001b[1m\u001b[35m--- Running analysis [ir_analysis_pass]\u001b[0m\n",
      "\u001b[32m--- Running IR pass [simplify_with_basic_ops_pass]\u001b[0m\n",
      "\u001b[32m--- Running IR pass [layer_norm_fuse_pass]\u001b[0m\n",
      "\u001b[37m---    Fused 0 subgraphs into layer_norm op.\u001b[0m\n",
      "\u001b[32m--- Running IR pass [attention_lstm_fuse_pass]\u001b[0m\n",
      "\u001b[32m--- Running IR pass [seqconv_eltadd_relu_fuse_pass]\u001b[0m\n",
      "\u001b[32m--- Running IR pass [seqpool_cvm_concat_fuse_pass]\u001b[0m\n",
      "\u001b[32m--- Running IR pass [mul_lstm_fuse_pass]\u001b[0m\n",
      "\u001b[32m--- Running IR pass [fc_gru_fuse_pass]\u001b[0m\n",
      "\u001b[37m---    fused 0 pairs of fc gru patterns\u001b[0m\n",
      "\u001b[32m--- Running IR pass [mul_gru_fuse_pass]\u001b[0m\n",
      "\u001b[32m--- Running IR pass [seq_concat_fc_fuse_pass]\u001b[0m\n",
      "\u001b[32m--- Running IR pass [gpu_cpu_squeeze2_matmul_fuse_pass]\u001b[0m\n",
      "\u001b[32m--- Running IR pass [gpu_cpu_reshape2_matmul_fuse_pass]\u001b[0m\n",
      "\u001b[32m--- Running IR pass [gpu_cpu_flatten2_matmul_fuse_pass]\u001b[0m\n",
      "\u001b[32m--- Running IR pass [matmul_v2_scale_fuse_pass]\u001b[0m\n",
      "\u001b[32m--- Running IR pass [gpu_cpu_map_matmul_v2_to_mul_pass]\u001b[0m\n",
      "\u001b[32m--- Running IR pass [gpu_cpu_map_matmul_v2_to_matmul_pass]\u001b[0m\n",
      "\u001b[32m--- Running IR pass [matmul_scale_fuse_pass]\u001b[0m\n",
      "\u001b[32m--- Running IR pass [gpu_cpu_map_matmul_to_mul_pass]\u001b[0m\n",
      "\u001b[32m--- Running IR pass [fc_fuse_pass]\u001b[0m\n",
      "\u001b[32m--- Running IR pass [repeated_fc_relu_fuse_pass]\u001b[0m\n",
      "\u001b[32m--- Running IR pass [squared_mat_sub_fuse_pass]\u001b[0m\n",
      "\u001b[32m--- Running IR pass [conv_bn_fuse_pass]\u001b[0m\n",
      "I0802 15:31:33.592396   112 fuse_pass_base.cc:59] ---  detected 63 subgraphs\n",
      "\u001b[32m--- Running IR pass [conv_eltwiseadd_bn_fuse_pass]\u001b[0m\n",
      "I0802 15:31:33.628894   112 fuse_pass_base.cc:59] ---  detected 4 subgraphs\n",
      "\u001b[32m--- Running IR pass [conv_transpose_bn_fuse_pass]\u001b[0m\n",
      "\u001b[32m--- Running IR pass [conv_transpose_eltwiseadd_bn_fuse_pass]\u001b[0m\n",
      "\u001b[32m--- Running IR pass [is_test_pass]\u001b[0m\n",
      "\u001b[32m--- Running IR pass [constant_folding_pass]\u001b[0m\n",
      "\u001b[32m--- Running IR pass [runtime_context_cache_pass]\u001b[0m\n",
      "\u001b[1m\u001b[35m--- Running analysis [ir_params_sync_among_devices_pass]\u001b[0m\n",
      "\u001b[1m\u001b[35m--- Running analysis [adjust_cudnn_workspace_size_pass]\u001b[0m\n",
      "\u001b[1m\u001b[35m--- Running analysis [inference_op_replace_pass]\u001b[0m\n",
      "\u001b[1m\u001b[35m--- Running analysis [memory_optimize_pass]\u001b[0m\n",
      "I0802 15:31:33.668716   112 memory_optimize_pass.cc:219] Cluster name : x  size: 12\n",
      "I0802 15:31:33.668759   112 memory_optimize_pass.cc:219] Cluster name : concat_3.tmp_0  size: 1024\n",
      "I0802 15:31:33.668766   112 memory_optimize_pass.cc:219] Cluster name : relu_41.tmp_0  size: 512\n",
      "I0802 15:31:33.668771   112 memory_optimize_pass.cc:219] Cluster name : depthwise_conv2d_2.tmp_0  size: 2048\n",
      "I0802 15:31:33.668776   112 memory_optimize_pass.cc:219] Cluster name : max_0.tmp_0  size: 4\n",
      "I0802 15:31:33.668794   112 memory_optimize_pass.cc:219] Cluster name : concat_8.tmp_0  size: 2048\n",
      "I0802 15:31:33.668800   112 memory_optimize_pass.cc:219] Cluster name : shape_0.tmp_0_slice_0  size: 8\n",
      "I0802 15:31:33.668807   112 memory_optimize_pass.cc:219] Cluster name : concat_11.tmp_0  size: 4096\n",
      "I0802 15:31:33.668812   112 memory_optimize_pass.cc:219] Cluster name : batch_norm_55.tmp_2  size: 8192\n",
      "I0802 15:31:33.668816   112 memory_optimize_pass.cc:219] Cluster name : conv2d_127.tmp_0  size: 8192\n",
      "I0802 15:31:33.668821   112 memory_optimize_pass.cc:219] Cluster name : pool2d_5.tmp_0  size: 65536\n",
      "\u001b[1m\u001b[35m--- Running analysis [ir_graph_to_program_pass]\u001b[0m\n",
      "I0802 15:31:33.718701   112 analysis_predictor.cc:1318] ======= optimize end =======\n",
      "I0802 15:31:33.720667   112 naive_executor.cc:110] ---  skip [feed], feed -> x\n",
      "I0802 15:31:33.722676   112 naive_executor.cc:110] ---  skip [argmax_0.tmp_0], fetch -> fetch\n"
     ]
    },
    {
     "name": "stdout",
     "output_type": "stream",
     "text": [
      "2023-08-02 15:31:34 [INFO]\tFinish\n"
     ]
    },
    {
     "data": {
      "text/plain": [
       "0"
      ]
     },
     "execution_count": 89,
     "metadata": {},
     "output_type": "execute_result"
    }
   ],
   "source": [
    "# Deploy Model 1\n",
    "# !python deploy/python/infer.py \\\n",
    "# --config output/inference_model/deploy.yaml\\\n",
    "# --image_path test_dataset/images/\\\n",
    "# --save_dir glomerulus_output\n",
    "\n",
    "os.chdir(\"/kaggle/working/PaddleSeg\")\n",
    "os.system(\"python deploy/python/infer.py --config output/inference_model/deploy.yaml --image_path test_dataset/images/ --save_dir glomerulus_output\")\n"
   ]
  },
  {
   "cell_type": "code",
   "execution_count": 90,
   "id": "dcc7b4de",
   "metadata": {
    "execution": {
     "iopub.execute_input": "2023-08-02T15:31:34.873994Z",
     "iopub.status.busy": "2023-08-02T15:31:34.873592Z",
     "iopub.status.idle": "2023-08-02T15:31:34.878016Z",
     "shell.execute_reply": "2023-08-02T15:31:34.876851Z"
    },
    "papermill": {
     "duration": 0.039786,
     "end_time": "2023-08-02T15:31:34.880121",
     "exception": false,
     "start_time": "2023-08-02T15:31:34.840335",
     "status": "completed"
    },
    "tags": []
   },
   "outputs": [],
   "source": [
    "# img = mpimg.imread('/kaggle/working/PaddleSeg/glomerulus_output/image_72e40acccadf.png')\n",
    "# imgplot = plt.imshow(img)\n",
    "# plt.show()"
   ]
  },
  {
   "cell_type": "code",
   "execution_count": 91,
   "id": "598df943",
   "metadata": {
    "execution": {
     "iopub.execute_input": "2023-08-02T15:31:34.945935Z",
     "iopub.status.busy": "2023-08-02T15:31:34.945543Z",
     "iopub.status.idle": "2023-08-02T15:31:34.950422Z",
     "shell.execute_reply": "2023-08-02T15:31:34.949173Z"
    },
    "papermill": {
     "duration": 0.040062,
     "end_time": "2023-08-02T15:31:34.952434",
     "exception": false,
     "start_time": "2023-08-02T15:31:34.912372",
     "status": "completed"
    },
    "tags": []
   },
   "outputs": [],
   "source": [
    "# # test deployment of model 2\n",
    "# # Predict and vizualize as an example\n",
    "# !python tools/predict.py \\\n",
    "#         --config configs/vessel_dataset/vessel_config_512x512_1k.yml \\\n",
    "#         --model_path vessel_output/iter_1000/model.pdparams \\\n",
    "#         --image_path test_dataset/images/image_0006ff2aa7cd.jpg \\\n",
    "#         --save_dir vessel_output/result"
   ]
  },
  {
   "cell_type": "code",
   "execution_count": 92,
   "id": "03c66388",
   "metadata": {
    "execution": {
     "iopub.execute_input": "2023-08-02T15:31:35.018580Z",
     "iopub.status.busy": "2023-08-02T15:31:35.018174Z",
     "iopub.status.idle": "2023-08-02T15:31:35.022406Z",
     "shell.execute_reply": "2023-08-02T15:31:35.021586Z"
    },
    "papermill": {
     "duration": 0.039574,
     "end_time": "2023-08-02T15:31:35.024351",
     "exception": false,
     "start_time": "2023-08-02T15:31:34.984777",
     "status": "completed"
    },
    "tags": []
   },
   "outputs": [],
   "source": [
    "# img = mpimg.imread('/kaggle/working/PaddleSeg/vessel_output/result/added_prediction/image_0006ff2aa7cd.jpg')\n",
    "# imgplot = plt.imshow(img)\n",
    "# plt.show()"
   ]
  },
  {
   "cell_type": "code",
   "execution_count": 93,
   "id": "022e5558",
   "metadata": {
    "execution": {
     "iopub.execute_input": "2023-08-02T15:31:35.091131Z",
     "iopub.status.busy": "2023-08-02T15:31:35.090708Z",
     "iopub.status.idle": "2023-08-02T15:31:38.874924Z",
     "shell.execute_reply": "2023-08-02T15:31:38.873178Z"
    },
    "papermill": {
     "duration": 3.819716,
     "end_time": "2023-08-02T15:31:38.877075",
     "exception": false,
     "start_time": "2023-08-02T15:31:35.057359",
     "status": "completed"
    },
    "tags": []
   },
   "outputs": [
    {
     "name": "stderr",
     "output_type": "stream",
     "text": [
      "/opt/conda/lib/python3.10/site-packages/scipy/__init__.py:146: UserWarning: A NumPy version >=1.16.5 and <1.23.0 is required for this version of SciPy (detected version 1.23.5\n",
      "  warnings.warn(f\"A NumPy version >={np_minversion} and <{np_maxversion}\"\n"
     ]
    },
    {
     "name": "stdout",
     "output_type": "stream",
     "text": [
      "2023-08-02 15:31:37 [INFO]\tUse GPU\n"
     ]
    },
    {
     "name": "stderr",
     "output_type": "stream",
     "text": [
      "E0802 15:31:37.433564   126 analysis_config.cc:110] Please use PaddlePaddle with GPU version.\n",
      "\u001b[1m\u001b[35m--- Running analysis [ir_graph_build_pass]\u001b[0m\n",
      "\u001b[1m\u001b[35m--- Running analysis [ir_analysis_pass]\u001b[0m\n",
      "\u001b[32m--- Running IR pass [simplify_with_basic_ops_pass]\u001b[0m\n",
      "\u001b[32m--- Running IR pass [layer_norm_fuse_pass]\u001b[0m\n",
      "\u001b[37m---    Fused 0 subgraphs into layer_norm op.\u001b[0m\n",
      "\u001b[32m--- Running IR pass [attention_lstm_fuse_pass]\u001b[0m\n",
      "\u001b[32m--- Running IR pass [seqconv_eltadd_relu_fuse_pass]\u001b[0m\n",
      "\u001b[32m--- Running IR pass [seqpool_cvm_concat_fuse_pass]\u001b[0m\n",
      "\u001b[32m--- Running IR pass [mul_lstm_fuse_pass]\u001b[0m\n",
      "\u001b[32m--- Running IR pass [fc_gru_fuse_pass]\u001b[0m\n",
      "\u001b[37m---    fused 0 pairs of fc gru patterns\u001b[0m\n",
      "\u001b[32m--- Running IR pass [mul_gru_fuse_pass]\u001b[0m\n",
      "\u001b[32m--- Running IR pass [seq_concat_fc_fuse_pass]\u001b[0m\n",
      "\u001b[32m--- Running IR pass [gpu_cpu_squeeze2_matmul_fuse_pass]\u001b[0m\n",
      "\u001b[32m--- Running IR pass [gpu_cpu_reshape2_matmul_fuse_pass]\u001b[0m\n",
      "\u001b[32m--- Running IR pass [gpu_cpu_flatten2_matmul_fuse_pass]\u001b[0m\n",
      "\u001b[32m--- Running IR pass [matmul_v2_scale_fuse_pass]\u001b[0m\n",
      "\u001b[32m--- Running IR pass [gpu_cpu_map_matmul_v2_to_mul_pass]\u001b[0m\n",
      "\u001b[32m--- Running IR pass [gpu_cpu_map_matmul_v2_to_matmul_pass]\u001b[0m\n",
      "\u001b[32m--- Running IR pass [matmul_scale_fuse_pass]\u001b[0m\n",
      "\u001b[32m--- Running IR pass [gpu_cpu_map_matmul_to_mul_pass]\u001b[0m\n",
      "\u001b[32m--- Running IR pass [fc_fuse_pass]\u001b[0m\n",
      "\u001b[32m--- Running IR pass [repeated_fc_relu_fuse_pass]\u001b[0m\n",
      "\u001b[32m--- Running IR pass [squared_mat_sub_fuse_pass]\u001b[0m\n",
      "\u001b[32m--- Running IR pass [conv_bn_fuse_pass]\u001b[0m\n",
      "I0802 15:31:37.673341   126 fuse_pass_base.cc:59] ---  detected 63 subgraphs\n",
      "\u001b[32m--- Running IR pass [conv_eltwiseadd_bn_fuse_pass]\u001b[0m\n",
      "I0802 15:31:37.709573   126 fuse_pass_base.cc:59] ---  detected 4 subgraphs\n",
      "\u001b[32m--- Running IR pass [conv_transpose_bn_fuse_pass]\u001b[0m\n",
      "\u001b[32m--- Running IR pass [conv_transpose_eltwiseadd_bn_fuse_pass]\u001b[0m\n",
      "\u001b[32m--- Running IR pass [is_test_pass]\u001b[0m\n",
      "\u001b[32m--- Running IR pass [constant_folding_pass]\u001b[0m\n",
      "\u001b[32m--- Running IR pass [runtime_context_cache_pass]\u001b[0m\n",
      "\u001b[1m\u001b[35m--- Running analysis [ir_params_sync_among_devices_pass]\u001b[0m\n",
      "\u001b[1m\u001b[35m--- Running analysis [adjust_cudnn_workspace_size_pass]\u001b[0m\n",
      "\u001b[1m\u001b[35m--- Running analysis [inference_op_replace_pass]\u001b[0m\n",
      "\u001b[1m\u001b[35m--- Running analysis [memory_optimize_pass]\u001b[0m\n",
      "I0802 15:31:37.749712   126 memory_optimize_pass.cc:219] Cluster name : x  size: 12\n",
      "I0802 15:31:37.749755   126 memory_optimize_pass.cc:219] Cluster name : concat_3.tmp_0  size: 1024\n",
      "I0802 15:31:37.749761   126 memory_optimize_pass.cc:219] Cluster name : relu_41.tmp_0  size: 512\n",
      "I0802 15:31:37.749768   126 memory_optimize_pass.cc:219] Cluster name : depthwise_conv2d_2.tmp_0  size: 2048\n",
      "I0802 15:31:37.749773   126 memory_optimize_pass.cc:219] Cluster name : max_0.tmp_0  size: 4\n",
      "I0802 15:31:37.749791   126 memory_optimize_pass.cc:219] Cluster name : concat_8.tmp_0  size: 2048\n",
      "I0802 15:31:37.749797   126 memory_optimize_pass.cc:219] Cluster name : shape_0.tmp_0_slice_0  size: 8\n",
      "I0802 15:31:37.749804   126 memory_optimize_pass.cc:219] Cluster name : concat_11.tmp_0  size: 4096\n",
      "I0802 15:31:37.749809   126 memory_optimize_pass.cc:219] Cluster name : batch_norm_55.tmp_2  size: 8192\n",
      "I0802 15:31:37.749815   126 memory_optimize_pass.cc:219] Cluster name : conv2d_127.tmp_0  size: 8192\n",
      "I0802 15:31:37.749821   126 memory_optimize_pass.cc:219] Cluster name : pool2d_5.tmp_0  size: 65536\n",
      "\u001b[1m\u001b[35m--- Running analysis [ir_graph_to_program_pass]\u001b[0m\n",
      "I0802 15:31:37.798589   126 analysis_predictor.cc:1318] ======= optimize end =======\n",
      "I0802 15:31:37.800521   126 naive_executor.cc:110] ---  skip [feed], feed -> x\n",
      "I0802 15:31:37.802569   126 naive_executor.cc:110] ---  skip [argmax_0.tmp_0], fetch -> fetch\n"
     ]
    },
    {
     "name": "stdout",
     "output_type": "stream",
     "text": [
      "2023-08-02 15:31:38 [INFO]\tFinish\n"
     ]
    },
    {
     "data": {
      "text/plain": [
       "0"
      ]
     },
     "execution_count": 93,
     "metadata": {},
     "output_type": "execute_result"
    }
   ],
   "source": [
    "# Deploy Model 2\n",
    "# !python deploy/python/infer.py \\\n",
    "# --config vessel_output/vessel_inference/deploy.yaml\\\n",
    "# --image_path test_dataset/images/\\\n",
    "# --save_dir vessel_output\n",
    "\n",
    "os.system(\"python deploy/python/infer.py --config vessel_output/vessel_inference/deploy.yaml --image_path test_dataset/images/ --save_dir vessel_output\")\n"
   ]
  },
  {
   "cell_type": "code",
   "execution_count": 94,
   "id": "f043527b",
   "metadata": {
    "execution": {
     "iopub.execute_input": "2023-08-02T15:31:38.944275Z",
     "iopub.status.busy": "2023-08-02T15:31:38.943878Z",
     "iopub.status.idle": "2023-08-02T15:31:38.948342Z",
     "shell.execute_reply": "2023-08-02T15:31:38.947331Z"
    },
    "papermill": {
     "duration": 0.040471,
     "end_time": "2023-08-02T15:31:38.950486",
     "exception": false,
     "start_time": "2023-08-02T15:31:38.910015",
     "status": "completed"
    },
    "tags": []
   },
   "outputs": [],
   "source": [
    "# img = mpimg.imread('/kaggle/working/PaddleSeg/vessel_output/image_72e40acccadf.png')\n",
    "# imgplot = plt.imshow(img)\n",
    "# plt.show()"
   ]
  },
  {
   "cell_type": "markdown",
   "id": "92672f77",
   "metadata": {
    "papermill": {
     "duration": 0.0341,
     "end_time": "2023-08-02T15:31:39.017528",
     "exception": false,
     "start_time": "2023-08-02T15:31:38.983428",
     "status": "completed"
    },
    "tags": []
   },
   "source": [
    "<a id=\"3.2\"></a>\n",
    "## <div style=\"box-shadow: rgba(0, 0, 0, 0.18) 0px 2px 4px inset; padding:20px; font-size:24px; font-family: consolas; text-align:center; display:fill; border-radius:15px; color:rgb(67, 66, 66)\"> <b> 3.2 Combine predictions of two models </b></div>"
   ]
  },
  {
   "cell_type": "code",
   "execution_count": 95,
   "id": "7f7cb887",
   "metadata": {
    "execution": {
     "iopub.execute_input": "2023-08-02T15:31:39.084254Z",
     "iopub.status.busy": "2023-08-02T15:31:39.083898Z",
     "iopub.status.idle": "2023-08-02T15:31:39.089051Z",
     "shell.execute_reply": "2023-08-02T15:31:39.088216Z"
    },
    "papermill": {
     "duration": 0.0412,
     "end_time": "2023-08-02T15:31:39.091214",
     "exception": false,
     "start_time": "2023-08-02T15:31:39.050014",
     "status": "completed"
    },
    "tags": []
   },
   "outputs": [],
   "source": [
    "# img = mpimg.imread('/kaggle/working/PaddleSeg/glomerulus_output/image_72e40acccadf.png')\n",
    "# imgplot = plt.imshow(img)\n",
    "# plt.show()"
   ]
  },
  {
   "cell_type": "code",
   "execution_count": 96,
   "id": "929ca65b",
   "metadata": {
    "execution": {
     "iopub.execute_input": "2023-08-02T15:31:39.159536Z",
     "iopub.status.busy": "2023-08-02T15:31:39.159176Z",
     "iopub.status.idle": "2023-08-02T15:31:39.163937Z",
     "shell.execute_reply": "2023-08-02T15:31:39.162859Z"
    },
    "papermill": {
     "duration": 0.040821,
     "end_time": "2023-08-02T15:31:39.165975",
     "exception": false,
     "start_time": "2023-08-02T15:31:39.125154",
     "status": "completed"
    },
    "tags": []
   },
   "outputs": [],
   "source": [
    "if not os.path.exists(f\"/kaggle/working/PaddleSeg/combined_output\"):\n",
    "    os.mkdir(f\"/kaggle/working/PaddleSeg/combined_output\")"
   ]
  },
  {
   "cell_type": "code",
   "execution_count": 97,
   "id": "5334c750",
   "metadata": {
    "execution": {
     "iopub.execute_input": "2023-08-02T15:31:39.233203Z",
     "iopub.status.busy": "2023-08-02T15:31:39.232836Z",
     "iopub.status.idle": "2023-08-02T15:31:39.257419Z",
     "shell.execute_reply": "2023-08-02T15:31:39.256340Z"
    },
    "papermill": {
     "duration": 0.060805,
     "end_time": "2023-08-02T15:31:39.259677",
     "exception": false,
     "start_time": "2023-08-02T15:31:39.198872",
     "status": "completed"
    },
    "tags": []
   },
   "outputs": [],
   "source": [
    "# Convert Model 1 predictions to masks and apply mask to Model 2 predictions \n",
    "for file in glob.glob(\"/kaggle/working/PaddleSeg/test_dataset/images/*.jpg\"):\n",
    "\n",
    "    file_name = file.split('/')[-1].split('.')[0]\n",
    "    glomerulus_img = cv2.imread(f'/kaggle/working/PaddleSeg/glomerulus_output/{file_name}.png', cv2.IMREAD_GRAYSCALE) \n",
    "    glomerulus_img = np.flip(glomerulus_img, axis=0)\n",
    "    glomerulus_mask = np.column_stack(np.where(np.transpose(glomerulus_img) > 38))\n",
    "\n",
    "    vessel_img = cv2.imread(f'/kaggle/working/PaddleSeg/vessel_output/{file_name}.png', cv2.IMREAD_GRAYSCALE)\n",
    "\n",
    "    # constants\n",
    "    img_width = 512\n",
    "    img_height = 512\n",
    "\n",
    "    contour = np.column_stack(get_cartesian_coords(glomerulus_mask, img_height))\n",
    "    if len(glomerulus_mask)!=0:\n",
    "        cv2.fillPoly(vessel_img, pts =[contour], color=38)\n",
    "\n",
    "    # Save the image\n",
    "    output_path = '/kaggle/working/PaddleSeg/combined_output/' + f'{file_name}.png'\n",
    "    im = Image.fromarray(vessel_img.astype(np.uint8))\n",
    "    im.save(output_path)\n",
    "    im.convert('P').save(output_path, \"PNG\")\n"
   ]
  },
  {
   "cell_type": "code",
   "execution_count": 98,
   "id": "6bb51b98",
   "metadata": {
    "execution": {
     "iopub.execute_input": "2023-08-02T15:31:39.326877Z",
     "iopub.status.busy": "2023-08-02T15:31:39.326360Z",
     "iopub.status.idle": "2023-08-02T15:31:39.330777Z",
     "shell.execute_reply": "2023-08-02T15:31:39.330039Z"
    },
    "papermill": {
     "duration": 0.040123,
     "end_time": "2023-08-02T15:31:39.332720",
     "exception": false,
     "start_time": "2023-08-02T15:31:39.292597",
     "status": "completed"
    },
    "tags": []
   },
   "outputs": [],
   "source": [
    "# os.chdir(\"/kaggle/working/PaddleSeg/combined_output/\")\n",
    "# !ls\n",
    "# os.chdir(\"/kaggle/working/PaddleSeg\")"
   ]
  },
  {
   "cell_type": "code",
   "execution_count": 99,
   "id": "1f76bb1e",
   "metadata": {
    "execution": {
     "iopub.execute_input": "2023-08-02T15:31:39.400509Z",
     "iopub.status.busy": "2023-08-02T15:31:39.399360Z",
     "iopub.status.idle": "2023-08-02T15:31:39.403524Z",
     "shell.execute_reply": "2023-08-02T15:31:39.402839Z"
    },
    "papermill": {
     "duration": 0.039748,
     "end_time": "2023-08-02T15:31:39.405356",
     "exception": false,
     "start_time": "2023-08-02T15:31:39.365608",
     "status": "completed"
    },
    "tags": []
   },
   "outputs": [],
   "source": [
    "# img = mpimg.imread('/kaggle/working/PaddleSeg/combined_output/image_76cc32c629e9.png')\n",
    "# imgplot = plt.imshow(img)\n",
    "# plt.show()"
   ]
  },
  {
   "cell_type": "code",
   "execution_count": 100,
   "id": "7bb4b580",
   "metadata": {
    "execution": {
     "iopub.execute_input": "2023-08-02T15:31:39.473353Z",
     "iopub.status.busy": "2023-08-02T15:31:39.472253Z",
     "iopub.status.idle": "2023-08-02T15:31:39.476679Z",
     "shell.execute_reply": "2023-08-02T15:31:39.475887Z"
    },
    "papermill": {
     "duration": 0.040548,
     "end_time": "2023-08-02T15:31:39.478720",
     "exception": false,
     "start_time": "2023-08-02T15:31:39.438172",
     "status": "completed"
    },
    "tags": []
   },
   "outputs": [],
   "source": [
    "# # Convert combined predictions to binary mask\n",
    "# binary_mask = cv2.imread(f'/kaggle/working/PaddleSeg/combined_output/image_72e40acccadf.png', cv2.IMREAD_GRAYSCALE) \n",
    "# binary_mask[binary_mask == 38] = False\n",
    "# binary_mask[binary_mask == 75] = True\n",
    "# binary_mask = binary_mask.astype(bool)\n",
    "# binary_mask"
   ]
  },
  {
   "cell_type": "markdown",
   "id": "06d78fb9",
   "metadata": {
    "papermill": {
     "duration": 0.032107,
     "end_time": "2023-08-02T15:31:39.544216",
     "exception": false,
     "start_time": "2023-08-02T15:31:39.512109",
     "status": "completed"
    },
    "tags": []
   },
   "source": [
    "# <center style=\"font-family: consolas; font-size: 32px; font-weight: bold;\"> Part 4 - Submission</center>"
   ]
  },
  {
   "cell_type": "code",
   "execution_count": 101,
   "id": "6583de9b",
   "metadata": {
    "execution": {
     "iopub.execute_input": "2023-08-02T15:31:39.611530Z",
     "iopub.status.busy": "2023-08-02T15:31:39.610894Z",
     "iopub.status.idle": "2023-08-02T15:32:18.361547Z",
     "shell.execute_reply": "2023-08-02T15:32:18.360259Z"
    },
    "papermill": {
     "duration": 38.787401,
     "end_time": "2023-08-02T15:32:18.364497",
     "exception": false,
     "start_time": "2023-08-02T15:31:39.577096",
     "status": "completed"
    },
    "tags": []
   },
   "outputs": [
    {
     "name": "stdout",
     "output_type": "stream",
     "text": [
      "running install\n"
     ]
    },
    {
     "name": "stderr",
     "output_type": "stream",
     "text": [
      "/opt/conda/lib/python3.10/site-packages/setuptools/command/install.py:34: SetuptoolsDeprecationWarning: setup.py install is deprecated. Use build and pip and other standards-based tools.\n",
      "  warnings.warn(\n",
      "/opt/conda/lib/python3.10/site-packages/setuptools/command/easy_install.py:156: EasyInstallDeprecationWarning: easy_install command is deprecated. Use build and pip and other standards-based tools.\n",
      "  warnings.warn(\n"
     ]
    },
    {
     "name": "stdout",
     "output_type": "stream",
     "text": [
      "running bdist_egg\n",
      "running egg_info\n",
      "writing pycocotools.egg-info/PKG-INFO\n",
      "writing dependency_links to pycocotools.egg-info/dependency_links.txt\n",
      "writing requirements to pycocotools.egg-info/requires.txt\n",
      "writing top-level names to pycocotools.egg-info/top_level.txt\n",
      "reading manifest file 'pycocotools.egg-info/SOURCES.txt'\n",
      "reading manifest template 'MANIFEST.in'\n",
      "writing manifest file 'pycocotools.egg-info/SOURCES.txt'\n",
      "installing library code to build/bdist.linux-x86_64/egg\n",
      "running install_lib\n",
      "running build_py\n",
      "creating build\n",
      "creating build/lib.linux-x86_64-3.10\n",
      "creating build/lib.linux-x86_64-3.10/pycocotools\n",
      "copying pycocotools/cocoeval.py -> build/lib.linux-x86_64-3.10/pycocotools\n",
      "copying pycocotools/__init__.py -> build/lib.linux-x86_64-3.10/pycocotools\n",
      "copying pycocotools/mask.py -> build/lib.linux-x86_64-3.10/pycocotools\n",
      "copying pycocotools/coco.py -> build/lib.linux-x86_64-3.10/pycocotools\n",
      "running build_ext\n",
      "cythoning pycocotools/_mask.pyx to pycocotools/_mask.c\n"
     ]
    },
    {
     "name": "stderr",
     "output_type": "stream",
     "text": [
      "/opt/conda/lib/python3.10/site-packages/Cython/Compiler/Main.py:369: FutureWarning: Cython directive 'language_level' not set, using 2 for now (Py2). This will change in a later release! File: /kaggle/working/packages/pycocotools-2.0.6/pycocotools/_mask.pyx\n",
      "  tree = Parsing.p_module(s, pxd, full_module_name)\n"
     ]
    },
    {
     "name": "stdout",
     "output_type": "stream",
     "text": [
      "building 'pycocotools._mask' extension\n",
      "creating build/temp.linux-x86_64-3.10\n",
      "creating build/temp.linux-x86_64-3.10/common\n",
      "creating build/temp.linux-x86_64-3.10/pycocotools\n",
      "gcc -pthread -B /opt/conda/compiler_compat -Wno-unused-result -Wsign-compare -DNDEBUG -fwrapv -O2 -Wall -fPIC -O2 -isystem /opt/conda/include -fPIC -O2 -isystem /opt/conda/include -fPIC -I/opt/conda/lib/python3.10/site-packages/numpy/core/include -I./common -I/opt/conda/include/python3.10 -c ./common/maskApi.c -o build/temp.linux-x86_64-3.10/./common/maskApi.o -Wno-cpp -Wno-unused-function -std=c99\n"
     ]
    },
    {
     "name": "stderr",
     "output_type": "stream",
     "text": [
      "./common/maskApi.c: In function ‘rleToBbox’:\n",
      "./common/maskApi.c:151:32: warning: unused variable ‘xp’ [-Wunused-variable]\n",
      "  151 |     uint h, w, xs, ys, xe, ye, xp, cc; siz j, m;\n",
      "      |                                ^~\n",
      "./common/maskApi.c: In function ‘rleFrPoly’:\n",
      "./common/maskApi.c:197:3: warning: this ‘for’ clause does not guard... [-Wmisleading-indentation]\n",
      "  197 |   for(j=0; j<k; j++) x[j]=(int)(scale*xy[j*2+0]+.5); x[k]=x[0];\n",
      "      |   ^~~\n",
      "./common/maskApi.c:197:54: note: ...this statement, but the latter is misleadingly indented as if it were guarded by the ‘for’\n",
      "  197 |   for(j=0; j<k; j++) x[j]=(int)(scale*xy[j*2+0]+.5); x[k]=x[0];\n",
      "      |                                                      ^\n",
      "./common/maskApi.c:198:3: warning: this ‘for’ clause does not guard... [-Wmisleading-indentation]\n",
      "  198 |   for(j=0; j<k; j++) y[j]=(int)(scale*xy[j*2+1]+.5); y[k]=y[0];\n",
      "      |   ^~~\n",
      "./common/maskApi.c:198:54: note: ...this statement, but the latter is misleadingly indented as if it were guarded by the ‘for’\n",
      "  198 |   for(j=0; j<k; j++) y[j]=(int)(scale*xy[j*2+1]+.5); y[k]=y[0];\n",
      "      |                                                      ^\n",
      "./common/maskApi.c: In function ‘rleToString’:\n",
      "./common/maskApi.c:243:7: warning: this ‘if’ clause does not guard... [-Wmisleading-indentation]\n",
      "  243 |       if(more) c |= 0x20; c+=48; s[p++]=c;\n",
      "      |       ^~\n",
      "./common/maskApi.c:243:27: note: ...this statement, but the latter is misleadingly indented as if it were guarded by the ‘if’\n",
      "  243 |       if(more) c |= 0x20; c+=48; s[p++]=c;\n",
      "      |                           ^\n",
      "./common/maskApi.c: In function ‘rleFrString’:\n",
      "./common/maskApi.c:251:3: warning: this ‘while’ clause does not guard... [-Wmisleading-indentation]\n",
      "  251 |   while( s[m] ) m++; cnts=malloc(sizeof(uint)*m); m=0;\n",
      "      |   ^~~~~\n",
      "./common/maskApi.c:251:22: note: ...this statement, but the latter is misleadingly indented as if it were guarded by the ‘while’\n",
      "  251 |   while( s[m] ) m++; cnts=malloc(sizeof(uint)*m); m=0;\n",
      "      |                      ^~~~\n",
      "./common/maskApi.c:259:5: warning: this ‘if’ clause does not guard... [-Wmisleading-indentation]\n",
      "  259 |     if(m>2) x+=(long) cnts[m-2]; cnts[m++]=(uint) x;\n",
      "      |     ^~\n",
      "./common/maskApi.c:259:34: note: ...this statement, but the latter is misleadingly indented as if it were guarded by the ‘if’\n",
      "  259 |     if(m>2) x+=(long) cnts[m-2]; cnts[m++]=(uint) x;\n",
      "      |                                  ^~~~\n"
     ]
    },
    {
     "name": "stdout",
     "output_type": "stream",
     "text": [
      "gcc -pthread -B /opt/conda/compiler_compat -Wno-unused-result -Wsign-compare -DNDEBUG -fwrapv -O2 -Wall -fPIC -O2 -isystem /opt/conda/include -fPIC -O2 -isystem /opt/conda/include -fPIC -I/opt/conda/lib/python3.10/site-packages/numpy/core/include -I./common -I/opt/conda/include/python3.10 -c pycocotools/_mask.c -o build/temp.linux-x86_64-3.10/pycocotools/_mask.o -Wno-cpp -Wno-unused-function -std=c99\n"
     ]
    },
    {
     "name": "stderr",
     "output_type": "stream",
     "text": [
      "pycocotools/_mask.c: In function ‘__pyx_pf_11pycocotools_5_mask_12iou’:\n",
      "pycocotools/_mask.c:6140:31: warning: comparison of integer expressions of different signedness: ‘Py_ssize_t’ {aka ‘long int’} and ‘siz’ {aka ‘long unsigned int’} [-Wsign-compare]\n",
      " 6140 |     if (unlikely(!((__pyx_t_8 == __pyx_v_n) != 0))) {\n",
      "      |                               ^~\n",
      "pycocotools/_mask.c:944:43: note: in definition of macro ‘unlikely’\n",
      "  944 |   #define unlikely(x) __builtin_expect(!!(x), 0)\n",
      "      |                                           ^\n"
     ]
    },
    {
     "name": "stdout",
     "output_type": "stream",
     "text": [
      "gcc -pthread -B /opt/conda/compiler_compat -shared -Wl,--allow-shlib-undefined -Wl,-rpath,/opt/conda/lib -Wl,-rpath-link,/opt/conda/lib -L/opt/conda/lib -Wl,--allow-shlib-undefined -Wl,-rpath,/opt/conda/lib -Wl,-rpath-link,/opt/conda/lib -L/opt/conda/lib build/temp.linux-x86_64-3.10/./common/maskApi.o build/temp.linux-x86_64-3.10/pycocotools/_mask.o -o build/lib.linux-x86_64-3.10/pycocotools/_mask.cpython-310-x86_64-linux-gnu.so\n",
      "creating build/bdist.linux-x86_64\n",
      "creating build/bdist.linux-x86_64/egg\n",
      "creating build/bdist.linux-x86_64/egg/pycocotools\n",
      "copying build/lib.linux-x86_64-3.10/pycocotools/cocoeval.py -> build/bdist.linux-x86_64/egg/pycocotools\n",
      "copying build/lib.linux-x86_64-3.10/pycocotools/__init__.py -> build/bdist.linux-x86_64/egg/pycocotools\n",
      "copying build/lib.linux-x86_64-3.10/pycocotools/_mask.cpython-310-x86_64-linux-gnu.so -> build/bdist.linux-x86_64/egg/pycocotools\n",
      "copying build/lib.linux-x86_64-3.10/pycocotools/mask.py -> build/bdist.linux-x86_64/egg/pycocotools\n",
      "copying build/lib.linux-x86_64-3.10/pycocotools/coco.py -> build/bdist.linux-x86_64/egg/pycocotools\n",
      "byte-compiling build/bdist.linux-x86_64/egg/pycocotools/cocoeval.py to cocoeval.cpython-310.pyc\n",
      "byte-compiling build/bdist.linux-x86_64/egg/pycocotools/__init__.py to __init__.cpython-310.pyc\n",
      "byte-compiling build/bdist.linux-x86_64/egg/pycocotools/mask.py to mask.cpython-310.pyc\n",
      "byte-compiling build/bdist.linux-x86_64/egg/pycocotools/coco.py to coco.cpython-310.pyc\n",
      "creating stub loader for pycocotools/_mask.cpython-310-x86_64-linux-gnu.so\n",
      "byte-compiling build/bdist.linux-x86_64/egg/pycocotools/_mask.py to _mask.cpython-310.pyc\n",
      "creating build/bdist.linux-x86_64/egg/EGG-INFO\n",
      "copying pycocotools.egg-info/PKG-INFO -> build/bdist.linux-x86_64/egg/EGG-INFO\n",
      "copying pycocotools.egg-info/SOURCES.txt -> build/bdist.linux-x86_64/egg/EGG-INFO\n",
      "copying pycocotools.egg-info/dependency_links.txt -> build/bdist.linux-x86_64/egg/EGG-INFO\n",
      "copying pycocotools.egg-info/requires.txt -> build/bdist.linux-x86_64/egg/EGG-INFO\n",
      "copying pycocotools.egg-info/top_level.txt -> build/bdist.linux-x86_64/egg/EGG-INFO\n",
      "writing build/bdist.linux-x86_64/egg/EGG-INFO/native_libs.txt\n",
      "creating dist\n",
      "creating 'dist/pycocotools-2.0.6-py3.10-linux-x86_64.egg' and adding 'build/bdist.linux-x86_64/egg' to it\n",
      "removing 'build/bdist.linux-x86_64/egg' (and everything under it)\n",
      "Processing pycocotools-2.0.6-py3.10-linux-x86_64.egg\n",
      "creating /opt/conda/lib/python3.10/site-packages/pycocotools-2.0.6-py3.10-linux-x86_64.egg\n",
      "Extracting pycocotools-2.0.6-py3.10-linux-x86_64.egg to /opt/conda/lib/python3.10/site-packages\n",
      "Adding pycocotools 2.0.6 to easy-install.pth file\n",
      "\n",
      "Installed /opt/conda/lib/python3.10/site-packages/pycocotools-2.0.6-py3.10-linux-x86_64.egg\n",
      "Processing dependencies for pycocotools==2.0.6\n"
     ]
    },
    {
     "name": "stderr",
     "output_type": "stream",
     "text": [
      "zip_safe flag not set; analyzing archive contents...\n",
      "pycocotools.__pycache__._mask.cpython-310: module references __file__\n"
     ]
    },
    {
     "name": "stdout",
     "output_type": "stream",
     "text": [
      "Searching for numpy==1.23.5\n",
      "Best match: numpy 1.23.5\n",
      "Adding numpy 1.23.5 to easy-install.pth file\n",
      "Installing f2py script to /opt/conda/bin\n",
      "Installing f2py3 script to /opt/conda/bin\n",
      "Installing f2py3.10 script to /opt/conda/bin\n",
      "\n",
      "Using /opt/conda/lib/python3.10/site-packages\n",
      "Searching for matplotlib==3.6.3\n",
      "Best match: matplotlib 3.6.3\n",
      "Adding matplotlib 3.6.3 to easy-install.pth file\n",
      "\n",
      "Using /opt/conda/lib/python3.10/site-packages\n",
      "Searching for packaging==21.3\n",
      "Best match: packaging 21.3\n",
      "Adding packaging 21.3 to easy-install.pth file\n",
      "\n",
      "Using /opt/conda/lib/python3.10/site-packages\n",
      "Searching for kiwisolver==1.4.4\n",
      "Best match: kiwisolver 1.4.4\n",
      "Adding kiwisolver 1.4.4 to easy-install.pth file\n",
      "\n",
      "Using /opt/conda/lib/python3.10/site-packages\n",
      "Searching for Pillow==9.5.0\n",
      "Best match: Pillow 9.5.0\n",
      "Adding Pillow 9.5.0 to easy-install.pth file\n",
      "\n",
      "Using /opt/conda/lib/python3.10/site-packages\n",
      "Searching for fonttools==4.39.3\n",
      "Best match: fonttools 4.39.3\n",
      "Adding fonttools 4.39.3 to easy-install.pth file\n",
      "Installing fonttools script to /opt/conda/bin\n",
      "Installing pyftmerge script to /opt/conda/bin\n",
      "Installing pyftsubset script to /opt/conda/bin\n",
      "Installing ttx script to /opt/conda/bin\n",
      "\n",
      "Using /opt/conda/lib/python3.10/site-packages\n",
      "Searching for contourpy==1.0.7\n",
      "Best match: contourpy 1.0.7\n",
      "Adding contourpy 1.0.7 to easy-install.pth file\n",
      "\n",
      "Using /opt/conda/lib/python3.10/site-packages\n",
      "Searching for python-dateutil==2.8.2\n",
      "Best match: python-dateutil 2.8.2\n",
      "Adding python-dateutil 2.8.2 to easy-install.pth file\n",
      "\n",
      "Using /opt/conda/lib/python3.10/site-packages\n",
      "Searching for pyparsing==3.0.9\n",
      "Best match: pyparsing 3.0.9\n",
      "Adding pyparsing 3.0.9 to easy-install.pth file\n",
      "\n",
      "Using /opt/conda/lib/python3.10/site-packages\n",
      "Searching for cycler==0.11.0\n",
      "Best match: cycler 0.11.0\n",
      "Adding cycler 0.11.0 to easy-install.pth file\n",
      "\n",
      "Using /opt/conda/lib/python3.10/site-packages\n",
      "Searching for six==1.16.0\n",
      "Best match: six 1.16.0\n",
      "Adding six 1.16.0 to easy-install.pth file\n",
      "\n",
      "Using /opt/conda/lib/python3.10/site-packages\n",
      "Finished processing dependencies for pycocotools==2.0.6\n",
      "Looking in links: /kaggle/working/packages/\n",
      "Processing /kaggle/working/packages/pycocotools-2.0.6\n",
      "  Installing build dependencies: started\n",
      "  Installing build dependencies: finished with status 'done'\n",
      "  Getting requirements to build wheel: started\n",
      "  Getting requirements to build wheel: finished with status 'done'\n",
      "  Preparing metadata (pyproject.toml): started\n",
      "  Preparing metadata (pyproject.toml): finished with status 'done'\n",
      "Requirement already satisfied: matplotlib>=2.1.0 in /opt/conda/lib/python3.10/site-packages (from pycocotools==2.0.6) (3.6.3)\n",
      "Requirement already satisfied: numpy in /opt/conda/lib/python3.10/site-packages (from pycocotools==2.0.6) (1.23.5)\n",
      "Requirement already satisfied: fonttools>=4.22.0 in /opt/conda/lib/python3.10/site-packages (from matplotlib>=2.1.0->pycocotools==2.0.6) (4.39.3)\n",
      "Requirement already satisfied: pillow>=6.2.0 in /opt/conda/lib/python3.10/site-packages (from matplotlib>=2.1.0->pycocotools==2.0.6) (9.5.0)\n",
      "Requirement already satisfied: pyparsing>=2.2.1 in /opt/conda/lib/python3.10/site-packages (from matplotlib>=2.1.0->pycocotools==2.0.6) (3.0.9)\n",
      "Requirement already satisfied: kiwisolver>=1.0.1 in /opt/conda/lib/python3.10/site-packages (from matplotlib>=2.1.0->pycocotools==2.0.6) (1.4.4)\n",
      "Requirement already satisfied: contourpy>=1.0.1 in /opt/conda/lib/python3.10/site-packages (from matplotlib>=2.1.0->pycocotools==2.0.6) (1.0.7)\n",
      "Requirement already satisfied: packaging>=20.0 in /opt/conda/lib/python3.10/site-packages (from matplotlib>=2.1.0->pycocotools==2.0.6) (21.3)\n",
      "Requirement already satisfied: python-dateutil>=2.7 in /opt/conda/lib/python3.10/site-packages (from matplotlib>=2.1.0->pycocotools==2.0.6) (2.8.2)\n",
      "Requirement already satisfied: cycler>=0.10 in /opt/conda/lib/python3.10/site-packages (from matplotlib>=2.1.0->pycocotools==2.0.6) (0.11.0)\n",
      "Requirement already satisfied: six>=1.5 in /opt/conda/lib/python3.10/site-packages (from python-dateutil>=2.7->matplotlib>=2.1.0->pycocotools==2.0.6) (1.16.0)\n",
      "Building wheels for collected packages: pycocotools\n",
      "  Building wheel for pycocotools (pyproject.toml): started\n",
      "  Building wheel for pycocotools (pyproject.toml): finished with status 'done'\n",
      "  Created wheel for pycocotools: filename=pycocotools-2.0.6-cp310-cp310-linux_x86_64.whl size=102202 sha256=56d2dcaa12c3a64b16dded40d12d81a794f311039728174f832d9ac6049283db\n",
      "  Stored in directory: /root/.cache/pip/wheels/b7/83/32/99474500256e64154dfc568319411b6ff49e96e50f30d9474f\n",
      "Successfully built pycocotools\n",
      "Installing collected packages: pycocotools\n",
      "  Attempting uninstall: pycocotools\n",
      "    Found existing installation: pycocotools 2.0.6\n",
      "    Uninstalling pycocotools-2.0.6:\n",
      "      Successfully uninstalled pycocotools-2.0.6\n",
      "Successfully installed pycocotools-2.0.6\n"
     ]
    },
    {
     "name": "stderr",
     "output_type": "stream",
     "text": [
      "\u001b[33mWARNING: Running pip as the 'root' user can result in broken permissions and conflicting behaviour with the system package manager. It is recommended to use a virtual environment instead: https://pip.pypa.io/warnings/venv\u001b[0m\u001b[33m\n",
      "\u001b[0m"
     ]
    }
   ],
   "source": [
    "# !pip install pycocotools\n",
    "shutil.copytree(\"/kaggle/input/pycocotools/pycocotools/pycocotools\", \"/kaggle/working/packages\")\n",
    "os.chdir(\"/kaggle/working/packages/pycocotools-2.0.6/\")\n",
    "os.system(\"python setup.py install\")\n",
    "os.system(\"pip install . --no-index --find-links /kaggle/working/packages/\")\n",
    "os.chdir(\"/kaggle/working\")\n",
    "# !pip install pycocotools --no-index --find-links=file:///kaggle/input/pycocotools/pycocotools/pycocotools/pycocotools-2.0.6"
   ]
  },
  {
   "cell_type": "code",
   "execution_count": 102,
   "id": "eff14268",
   "metadata": {
    "execution": {
     "iopub.execute_input": "2023-08-02T15:32:18.435104Z",
     "iopub.status.busy": "2023-08-02T15:32:18.434437Z",
     "iopub.status.idle": "2023-08-02T15:32:18.438634Z",
     "shell.execute_reply": "2023-08-02T15:32:18.437952Z"
    },
    "papermill": {
     "duration": 0.041866,
     "end_time": "2023-08-02T15:32:18.440418",
     "exception": false,
     "start_time": "2023-08-02T15:32:18.398552",
     "status": "completed"
    },
    "tags": []
   },
   "outputs": [],
   "source": [
    "# if not os.path.exists(f\"/kaggle/working/libraries\"):\n",
    "#     os.mkdir(f\"/kaggle/working/libraries\")\n",
    "os.chdir(\"/kaggle/working/\")\n",
    "# Download all required libraries\n",
    "# !pip download kaleido -d ./kaleido/\n",
    "\n",
    "# #Using CPU version for now\n",
    "# !python -m pip download paddlepaddle==2.4.2 -i https://pypi.tuna.tsinghua.edu.cn/simple -d ./paddlepaddle/\n",
    "\n",
    "# !pip download -r /kaggle/working/PaddleSeg/requirements.txt -d ./requirements/\n",
    "# !pip download -v /kaggle/working/PaddleSeg/. -d ./setup/\n",
    "\n",
    "# !pip download paddleseg -d ./paddleseg/\n",
    "\n",
    "# !pip download pycocotools -d ./pycocotools/"
   ]
  },
  {
   "cell_type": "code",
   "execution_count": 103,
   "id": "8c6ad9eb",
   "metadata": {
    "execution": {
     "iopub.execute_input": "2023-08-02T15:32:18.511719Z",
     "iopub.status.busy": "2023-08-02T15:32:18.510759Z",
     "iopub.status.idle": "2023-08-02T15:32:18.515310Z",
     "shell.execute_reply": "2023-08-02T15:32:18.514536Z"
    },
    "papermill": {
     "duration": 0.04182,
     "end_time": "2023-08-02T15:32:18.517348",
     "exception": false,
     "start_time": "2023-08-02T15:32:18.475528",
     "status": "completed"
    },
    "tags": []
   },
   "outputs": [],
   "source": [
    "# os.chdir(\"/kaggle/working\")\n",
    "# # # zip_dir(file_name = 'libraries.zip')\n",
    "# !zip -r libraries.zip \"/kaggle/working/libraries\"\n",
    "# os.chdir(\"/kaggle/working/PaddleSeg\")\n"
   ]
  },
  {
   "cell_type": "code",
   "execution_count": 104,
   "id": "9abccd0e",
   "metadata": {
    "execution": {
     "iopub.execute_input": "2023-08-02T15:32:18.588007Z",
     "iopub.status.busy": "2023-08-02T15:32:18.587599Z",
     "iopub.status.idle": "2023-08-02T15:32:18.599752Z",
     "shell.execute_reply": "2023-08-02T15:32:18.598728Z"
    },
    "papermill": {
     "duration": 0.049996,
     "end_time": "2023-08-02T15:32:18.602086",
     "exception": false,
     "start_time": "2023-08-02T15:32:18.552090",
     "status": "completed"
    },
    "tags": []
   },
   "outputs": [],
   "source": [
    "# Submission functions\n",
    "import base64\n",
    "from pycocotools import _mask as coco_mask\n",
    "import typing as t\n",
    "import zlib\n",
    "\n",
    "def encode_binary_mask(mask: np.ndarray) -> t.Text:\n",
    "  \"\"\"Converts a binary mask into OID challenge encoding ascii text.\"\"\"\n",
    "\n",
    "  # check input mask --\n",
    "  if mask.dtype != bool:\n",
    "    raise ValueError(\n",
    "        \"encode_binary_mask expects a binary mask, received dtype == %s\" %\n",
    "        mask.dtype)\n",
    "\n",
    "  mask = np.squeeze(mask)\n",
    "  if len(mask.shape) != 2:\n",
    "    raise ValueError(\n",
    "        \"encode_binary_mask expects a 2d mask, received shape == %s\" %\n",
    "        mask.shape)\n",
    "\n",
    "  # convert input mask to expected COCO API input --\n",
    "  mask_to_encode = mask.reshape(mask.shape[0], mask.shape[1], 1)\n",
    "  mask_to_encode = mask_to_encode.astype(np.uint8)\n",
    "  mask_to_encode = np.asfortranarray(mask_to_encode)\n",
    "\n",
    "  # RLE encode mask --\n",
    "  encoded_mask = coco_mask.encode(mask_to_encode)[0][\"counts\"]\n",
    "\n",
    "  # compress and base64 encoding --\n",
    "  binary_str = zlib.compress(encoded_mask, zlib.Z_BEST_COMPRESSION)\n",
    "  base64_str = base64.b64encode(binary_str)\n",
    "  return base64_str"
   ]
  },
  {
   "cell_type": "code",
   "execution_count": 105,
   "id": "cd2633fd",
   "metadata": {
    "execution": {
     "iopub.execute_input": "2023-08-02T15:32:18.675112Z",
     "iopub.status.busy": "2023-08-02T15:32:18.674696Z",
     "iopub.status.idle": "2023-08-02T15:32:18.679534Z",
     "shell.execute_reply": "2023-08-02T15:32:18.678221Z"
    },
    "papermill": {
     "duration": 0.044962,
     "end_time": "2023-08-02T15:32:18.681866",
     "exception": false,
     "start_time": "2023-08-02T15:32:18.636904",
     "status": "completed"
    },
    "tags": []
   },
   "outputs": [],
   "source": [
    "# # TODO: this might not be correct, because it is expected that each mask is encoded separately, e.g.:  0 1.0 eNoLTDAwyrM3yI/PMwcAE94DZA== 0 0.5 eAndnnDS1A/mdmkE35Ek9d\n",
    "# encode_binary_mask(binary_mask)"
   ]
  },
  {
   "cell_type": "code",
   "execution_count": 106,
   "id": "b87d927f",
   "metadata": {
    "execution": {
     "iopub.execute_input": "2023-08-02T15:32:18.757317Z",
     "iopub.status.busy": "2023-08-02T15:32:18.756265Z",
     "iopub.status.idle": "2023-08-02T15:32:18.812482Z",
     "shell.execute_reply": "2023-08-02T15:32:18.811331Z"
    },
    "papermill": {
     "duration": 0.096592,
     "end_time": "2023-08-02T15:32:18.814886",
     "exception": false,
     "start_time": "2023-08-02T15:32:18.718294",
     "status": "completed"
    },
    "tags": []
   },
   "outputs": [
    {
     "name": "stderr",
     "output_type": "stream",
     "text": [
      "/opt/conda/lib/python3.10/site-packages/scipy/__init__.py:146: UserWarning: A NumPy version >=1.16.5 and <1.23.0 is required for this version of SciPy (detected version 1.23.5\n",
      "  warnings.warn(f\"A NumPy version >={np_minversion} and <{np_maxversion}\"\n"
     ]
    }
   ],
   "source": [
    "from scipy import ndimage"
   ]
  },
  {
   "cell_type": "code",
   "execution_count": 107,
   "id": "d724ea25",
   "metadata": {
    "execution": {
     "iopub.execute_input": "2023-08-02T15:32:18.886898Z",
     "iopub.status.busy": "2023-08-02T15:32:18.886488Z",
     "iopub.status.idle": "2023-08-02T15:32:18.896166Z",
     "shell.execute_reply": "2023-08-02T15:32:18.895056Z"
    },
    "papermill": {
     "duration": 0.048156,
     "end_time": "2023-08-02T15:32:18.898238",
     "exception": false,
     "start_time": "2023-08-02T15:32:18.850082",
     "status": "completed"
    },
    "tags": []
   },
   "outputs": [],
   "source": [
    "def create_separate_masks(img):\n",
    "    \n",
    "    string_start = \"0 1.0 \"\n",
    "    string_con = \" 0 1.0 \"\n",
    "    \n",
    "    height = 512\n",
    "    width = 512\n",
    "\n",
    "    mask = img != np.array([38, 38, 38]).astype('uint8')\n",
    "    mask = mask[:, :, 0]  # Take the first channel for RGB images\n",
    "\n",
    "    # Connected components\n",
    "    label_im, nb_labels = ndimage.label(mask)\n",
    "\n",
    "    if nb_labels > 0:\n",
    "        separate_masks=[]\n",
    "\n",
    "        for i in range(nb_labels):\n",
    "\n",
    "            # create an array which size is same as the mask but filled with \n",
    "            # values that we get from the label_im. \n",
    "            # If there are three masks, then the pixels are labeled \n",
    "            # as 1, 2 and 3.\n",
    "\n",
    "            mask_compare = np.full(np.shape(label_im), 1) \n",
    "\n",
    "            # check equality test and have the value 1 on the location of each mask\n",
    "            separate_mask = np.equal(label_im, mask_compare).astype(bool) \n",
    "\n",
    "            # get the required string\n",
    "            if i==0:\n",
    "                prediction_string = string_start + encode_binary_mask(separate_mask).decode('utf-8')\n",
    "            else:\n",
    "                prediction_string = prediction_string + string_con + encode_binary_mask(separate_mask).decode('utf-8')\n",
    "\n",
    "        # update submission_df\n",
    "        new_row = pd.DataFrame({'id': id,'height': height,'width': width,'prediction_string': prediction_string}, index=[0])\n",
    "    else:\n",
    "        fake_mask = mask.astype(bool)\n",
    "        fake_mask[100][100] = True\n",
    "        prediction_string = \"0 0.1 \" + encode_binary_mask(fake_mask).decode('utf-8')\n",
    "        new_row = pd.DataFrame({'id': id,'height': height,'width': width,'prediction_string': prediction_string}, index=[0])\n",
    "    \n",
    "    \n",
    "    return new_row"
   ]
  },
  {
   "cell_type": "code",
   "execution_count": 108,
   "id": "bfb825d8",
   "metadata": {
    "execution": {
     "iopub.execute_input": "2023-08-02T15:32:18.968772Z",
     "iopub.status.busy": "2023-08-02T15:32:18.968392Z",
     "iopub.status.idle": "2023-08-02T15:32:19.034662Z",
     "shell.execute_reply": "2023-08-02T15:32:19.033927Z"
    },
    "papermill": {
     "duration": 0.104001,
     "end_time": "2023-08-02T15:32:19.036817",
     "exception": false,
     "start_time": "2023-08-02T15:32:18.932816",
     "status": "completed"
    },
    "tags": []
   },
   "outputs": [
    {
     "data": {
      "text/html": [
       "<div>\n",
       "<style scoped>\n",
       "    .dataframe tbody tr th:only-of-type {\n",
       "        vertical-align: middle;\n",
       "    }\n",
       "\n",
       "    .dataframe tbody tr th {\n",
       "        vertical-align: top;\n",
       "    }\n",
       "\n",
       "    .dataframe thead th {\n",
       "        text-align: right;\n",
       "    }\n",
       "</style>\n",
       "<table border=\"1\" class=\"dataframe\">\n",
       "  <thead>\n",
       "    <tr style=\"text-align: right;\">\n",
       "      <th></th>\n",
       "      <th>height</th>\n",
       "      <th>width</th>\n",
       "      <th>prediction_string</th>\n",
       "    </tr>\n",
       "    <tr>\n",
       "      <th>id</th>\n",
       "      <th></th>\n",
       "      <th></th>\n",
       "      <th></th>\n",
       "    </tr>\n",
       "  </thead>\n",
       "  <tbody>\n",
       "    <tr>\n",
       "      <th>72e40acccadf</th>\n",
       "      <td>512</td>\n",
       "      <td>512</td>\n",
       "      <td>0 1.0 eNrLDMo1s062N/Y18jPyNwRhAwN/QxAJAlDa0B9E...</td>\n",
       "    </tr>\n",
       "  </tbody>\n",
       "</table>\n",
       "</div>"
      ],
      "text/plain": [
       "             height width                                  prediction_string\n",
       "id                                                                          \n",
       "72e40acccadf    512   512  0 1.0 eNrLDMo1s062N/Y18jPyNwRhAwN/QxAJAlDa0B9E..."
      ]
     },
     "execution_count": 108,
     "metadata": {},
     "output_type": "execute_result"
    }
   ],
   "source": [
    "# Expected format: csv with following cols\n",
    "# id,height,width,prediction_string\n",
    "# 72e40acccadf,512,512,0 1.0 eNoLTDAwyrM3yI/PMwcAE94DZA== 0 0.5 eAndnnDS1A/mdmkE35Ek9d\n",
    "\n",
    "submission_df = pd.DataFrame(columns = ('id','height','width','prediction_string'))\n",
    "\n",
    "for file in glob.glob(\"/kaggle/working/PaddleSeg/combined_output/*.png\"):\n",
    "    id = file.split('/')[-1].split('.')[0].split('_')[1]\n",
    "    # Convert combined predictions to binary mask\n",
    "    img = cv2.imread(f'/kaggle/working/PaddleSeg/combined_output/image_{id}.png') \n",
    "    new_row = create_separate_masks(img)\n",
    "    submission_df = pd.concat([new_row,submission_df.loc[:]]).reset_index(drop=True)\n",
    "submission_df = submission_df.set_index('id')\n",
    "submission_df.to_csv('/kaggle/working/submission.csv')\n",
    "submission_df.head()"
   ]
  },
  {
   "cell_type": "code",
   "execution_count": 109,
   "id": "e95dad55",
   "metadata": {
    "execution": {
     "iopub.execute_input": "2023-08-02T15:32:19.108016Z",
     "iopub.status.busy": "2023-08-02T15:32:19.107268Z",
     "iopub.status.idle": "2023-08-02T15:32:19.310399Z",
     "shell.execute_reply": "2023-08-02T15:32:19.309246Z"
    },
    "papermill": {
     "duration": 0.241407,
     "end_time": "2023-08-02T15:32:19.312774",
     "exception": false,
     "start_time": "2023-08-02T15:32:19.071367",
     "status": "completed"
    },
    "tags": []
   },
   "outputs": [
    {
     "data": {
      "text/plain": [
       "0"
      ]
     },
     "execution_count": 109,
     "metadata": {},
     "output_type": "execute_result"
    }
   ],
   "source": [
    "os.system(\"rm -r /kaggle/working/PaddleSeg/\")"
   ]
  },
  {
   "cell_type": "code",
   "execution_count": null,
   "id": "d02c22f5",
   "metadata": {
    "papermill": {
     "duration": 0.034282,
     "end_time": "2023-08-02T15:32:19.382614",
     "exception": false,
     "start_time": "2023-08-02T15:32:19.348332",
     "status": "completed"
    },
    "tags": []
   },
   "outputs": [],
   "source": []
  }
 ],
 "metadata": {
  "kernelspec": {
   "display_name": "Python 3",
   "language": "python",
   "name": "python3"
  },
  "language_info": {
   "codemirror_mode": {
    "name": "ipython",
    "version": 3
   },
   "file_extension": ".py",
   "mimetype": "text/x-python",
   "name": "python",
   "nbconvert_exporter": "python",
   "pygments_lexer": "ipython3",
   "version": "3.10.10"
  },
  "papermill": {
   "default_parameters": {},
   "duration": 176.411527,
   "end_time": "2023-08-02T15:32:21.040536",
   "environment_variables": {},
   "exception": null,
   "input_path": "__notebook__.ipynb",
   "output_path": "__notebook__.ipynb",
   "parameters": {},
   "start_time": "2023-08-02T15:29:24.629009",
   "version": "2.4.0"
  }
 },
 "nbformat": 4,
 "nbformat_minor": 5
}
